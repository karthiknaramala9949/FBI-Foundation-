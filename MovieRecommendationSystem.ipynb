{
  "nbformat": 4,
  "nbformat_minor": 0,
  "metadata": {
    "colab": {
      "provenance": [],
      "include_colab_link": true
    },
    "kernelspec": {
      "name": "python3",
      "display_name": "Python 3"
    },
    "language_info": {
      "name": "python"
    }
  },
  "cells": [
    {
      "cell_type": "markdown",
      "metadata": {
        "id": "view-in-github",
        "colab_type": "text"
      },
      "source": [
        "<a href=\"https://colab.research.google.com/github/karthiknaramala9949/FBI-Foundation-/blob/main/MovieRecommendationSystem.ipynb\" target=\"_parent\"><img src=\"https://colab.research.google.com/assets/colab-badge.svg\" alt=\"Open In Colab\"/></a>"
      ]
    },
    {
      "cell_type": "markdown",
      "source": [
        "**Movie Recommendation System**"
      ],
      "metadata": {
        "id": "Mcz6sACUe9Vd"
      }
    },
    {
      "cell_type": "markdown",
      "source": [
        "**Objective:**\n",
        "\n",
        "**Movie Recommendation System**\n",
        "Recommender System is a system that seeks to predict or filter preferences according to the user's choices. Recommender systems are utilized in a variety of areas including movies, music, news, books, research articles, search queries, social tags, and products in general. Recommender systems produce a list of recommendations in any of the two ways -\n",
        "**Collaborative filtering:** Collaborative filtering approaches build a model from the user's past behavior (i.e. items purchased or searched by the user) as well as similar decisions made by other users. This model is then used to predict items (or ratings for items) that users may have an interest in.\n",
        "**Content-based filtering**: Content-based filtering approaches uses a series of discrete characteristics of an item in order to recommend additional items with similar properties. Content-based filtering methods are totally based on a description of the item and a profile of the user's preferences. It recommends items based on the user's past preferences. Let's develop a basic recommendation system using Python and\n",
        "Pandas.\n",
        "Let's develop a basic recommendation system by suggesting items that are most similar to a particular item, in this case, movies. It just tells what movies/items are most similar to the user's movie choice."
      ],
      "metadata": {
        "id": "IrMtWyPajaC2"
      }
    },
    {
      "cell_type": "markdown",
      "source": [
        "**Import Library**"
      ],
      "metadata": {
        "id": "UBRqlNxTk0Oq"
      }
    },
    {
      "cell_type": "code",
      "source": [
        "#import library\n",
        "import numpy as np"
      ],
      "metadata": {
        "id": "JypJOiBWggMn"
      },
      "execution_count": null,
      "outputs": []
    },
    {
      "cell_type": "code",
      "source": [
        "import pandas as pd"
      ],
      "metadata": {
        "id": "ax30Go3igYeg"
      },
      "execution_count": null,
      "outputs": []
    },
    {
      "cell_type": "code",
      "source": [
        "# @title Import Dataset\n",
        "#import dataset\n",
        "df=pd.read_csv(r'https://github.com/YBIFoundation/Dataset/raw/main/Movies%20Recommendation.csv')"
      ],
      "metadata": {
        "id": "0-R83JhmgvXn"
      },
      "execution_count": null,
      "outputs": []
    },
    {
      "cell_type": "code",
      "source": [
        "df.head()"
      ],
      "metadata": {
        "colab": {
          "base_uri": "https://localhost:8080/",
          "height": 672
        },
        "id": "c4cRF0hUh1qF",
        "outputId": "d5680bcb-a754-48cc-96bf-bab893301916"
      },
      "execution_count": null,
      "outputs": [
        {
          "output_type": "execute_result",
          "data": {
            "text/plain": [
              "   Movie_ID      Movie_Title                       Movie_Genre Movie_Language  \\\n",
              "0         1       Four Rooms                      Crime Comedy             en   \n",
              "1         2        Star Wars  Adventure Action Science Fiction             en   \n",
              "2         3     Finding Nemo                  Animation Family             en   \n",
              "3         4     Forrest Gump              Comedy Drama Romance             en   \n",
              "4         5  American Beauty                             Drama             en   \n",
              "\n",
              "   Movie_Budget  Movie_Popularity Movie_Release_Date  Movie_Revenue  \\\n",
              "0       4000000         22.876230         09-12-1995        4300000   \n",
              "1      11000000        126.393695         25-05-1977      775398007   \n",
              "2      94000000         85.688789         30-05-2003      940335536   \n",
              "3      55000000        138.133331         06-07-1994      677945399   \n",
              "4      15000000         80.878605         15-09-1999      356296601   \n",
              "\n",
              "   Movie_Runtime  Movie_Vote  ...  \\\n",
              "0           98.0         6.5  ...   \n",
              "1          121.0         8.1  ...   \n",
              "2          100.0         7.6  ...   \n",
              "3          142.0         8.2  ...   \n",
              "4          122.0         7.9  ...   \n",
              "\n",
              "                                      Movie_Homepage  \\\n",
              "0                                                NaN   \n",
              "1  http://www.starwars.com/films/star-wars-episod...   \n",
              "2              http://movies.disney.com/finding-nemo   \n",
              "3                                                NaN   \n",
              "4                      http://www.dreamworks.com/ab/   \n",
              "\n",
              "                                      Movie_Keywords  \\\n",
              "0          hotel new year's eve witch bet hotel room   \n",
              "1        android galaxy hermit death star lightsaber   \n",
              "2  father son relationship harbor underwater fish...   \n",
              "3  vietnam veteran hippie mentally disabled runni...   \n",
              "4  male nudity female nudity adultery midlife cri...   \n",
              "\n",
              "                                      Movie_Overview  \\\n",
              "0  It's Ted the Bellhop's first night on the job....   \n",
              "1  Princess Leia is captured and held hostage by ...   \n",
              "2  Nemo, an adventurous young clownfish, is unexp...   \n",
              "3  A man with a low IQ has accomplished great thi...   \n",
              "4  Lester Burnham, a depressed suburban father in...   \n",
              "\n",
              "                              Movie_Production_House  \\\n",
              "0  [{\"name\": \"Miramax Films\", \"id\": 14}, {\"name\":...   \n",
              "1  [{\"name\": \"Lucasfilm\", \"id\": 1}, {\"name\": \"Twe...   \n",
              "2     [{\"name\": \"Pixar Animation Studios\", \"id\": 3}]   \n",
              "3          [{\"name\": \"Paramount Pictures\", \"id\": 4}]   \n",
              "4  [{\"name\": \"DreamWorks SKG\", \"id\": 27}, {\"name\"...   \n",
              "\n",
              "                            Movie_Production_Country  \\\n",
              "0  [{\"iso_3166_1\": \"US\", \"name\": \"United States o...   \n",
              "1  [{\"iso_3166_1\": \"US\", \"name\": \"United States o...   \n",
              "2  [{\"iso_3166_1\": \"US\", \"name\": \"United States o...   \n",
              "3  [{\"iso_3166_1\": \"US\", \"name\": \"United States o...   \n",
              "4  [{\"iso_3166_1\": \"US\", \"name\": \"United States o...   \n",
              "\n",
              "                      Movie_Spoken_Language  \\\n",
              "0  [{\"iso_639_1\": \"en\", \"name\": \"English\"}]   \n",
              "1  [{\"iso_639_1\": \"en\", \"name\": \"English\"}]   \n",
              "2  [{\"iso_639_1\": \"en\", \"name\": \"English\"}]   \n",
              "3  [{\"iso_639_1\": \"en\", \"name\": \"English\"}]   \n",
              "4  [{\"iso_639_1\": \"en\", \"name\": \"English\"}]   \n",
              "\n",
              "                                       Movie_Tagline  \\\n",
              "0  Twelve outrageous guests. Four scandalous requ...   \n",
              "1       A long time ago in a galaxy far, far away...   \n",
              "2  There are 3.7 trillion fish in the ocean, they...   \n",
              "3  The world will never be the same, once you've ...   \n",
              "4                                       Look closer.   \n",
              "\n",
              "                                          Movie_Cast  \\\n",
              "0  Tim Roth Antonio Banderas Jennifer Beals Madon...   \n",
              "1  Mark Hamill Harrison Ford Carrie Fisher Peter ...   \n",
              "2  Albert Brooks Ellen DeGeneres Alexander Gould ...   \n",
              "3  Tom Hanks Robin Wright Gary Sinise Mykelti Wil...   \n",
              "4  Kevin Spacey Annette Bening Thora Birch Wes Be...   \n",
              "\n",
              "                                          Movie_Crew   Movie_Director  \n",
              "0  [{'name': 'Allison Anders', 'gender': 1, 'depa...   Allison Anders  \n",
              "1  [{'name': 'George Lucas', 'gender': 2, 'depart...     George Lucas  \n",
              "2  [{'name': 'Andrew Stanton', 'gender': 2, 'depa...   Andrew Stanton  \n",
              "3  [{'name': 'Alan Silvestri', 'gender': 2, 'depa...  Robert Zemeckis  \n",
              "4  [{'name': 'Thomas Newman', 'gender': 2, 'depar...       Sam Mendes  \n",
              "\n",
              "[5 rows x 21 columns]"
            ],
            "text/html": [
              "\n",
              "  <div id=\"df-03bc0248-6fdc-4a5f-a8fb-843a2b263f22\" class=\"colab-df-container\">\n",
              "    <div>\n",
              "<style scoped>\n",
              "    .dataframe tbody tr th:only-of-type {\n",
              "        vertical-align: middle;\n",
              "    }\n",
              "\n",
              "    .dataframe tbody tr th {\n",
              "        vertical-align: top;\n",
              "    }\n",
              "\n",
              "    .dataframe thead th {\n",
              "        text-align: right;\n",
              "    }\n",
              "</style>\n",
              "<table border=\"1\" class=\"dataframe\">\n",
              "  <thead>\n",
              "    <tr style=\"text-align: right;\">\n",
              "      <th></th>\n",
              "      <th>Movie_ID</th>\n",
              "      <th>Movie_Title</th>\n",
              "      <th>Movie_Genre</th>\n",
              "      <th>Movie_Language</th>\n",
              "      <th>Movie_Budget</th>\n",
              "      <th>Movie_Popularity</th>\n",
              "      <th>Movie_Release_Date</th>\n",
              "      <th>Movie_Revenue</th>\n",
              "      <th>Movie_Runtime</th>\n",
              "      <th>Movie_Vote</th>\n",
              "      <th>...</th>\n",
              "      <th>Movie_Homepage</th>\n",
              "      <th>Movie_Keywords</th>\n",
              "      <th>Movie_Overview</th>\n",
              "      <th>Movie_Production_House</th>\n",
              "      <th>Movie_Production_Country</th>\n",
              "      <th>Movie_Spoken_Language</th>\n",
              "      <th>Movie_Tagline</th>\n",
              "      <th>Movie_Cast</th>\n",
              "      <th>Movie_Crew</th>\n",
              "      <th>Movie_Director</th>\n",
              "    </tr>\n",
              "  </thead>\n",
              "  <tbody>\n",
              "    <tr>\n",
              "      <th>0</th>\n",
              "      <td>1</td>\n",
              "      <td>Four Rooms</td>\n",
              "      <td>Crime Comedy</td>\n",
              "      <td>en</td>\n",
              "      <td>4000000</td>\n",
              "      <td>22.876230</td>\n",
              "      <td>09-12-1995</td>\n",
              "      <td>4300000</td>\n",
              "      <td>98.0</td>\n",
              "      <td>6.5</td>\n",
              "      <td>...</td>\n",
              "      <td>NaN</td>\n",
              "      <td>hotel new year's eve witch bet hotel room</td>\n",
              "      <td>It's Ted the Bellhop's first night on the job....</td>\n",
              "      <td>[{\"name\": \"Miramax Films\", \"id\": 14}, {\"name\":...</td>\n",
              "      <td>[{\"iso_3166_1\": \"US\", \"name\": \"United States o...</td>\n",
              "      <td>[{\"iso_639_1\": \"en\", \"name\": \"English\"}]</td>\n",
              "      <td>Twelve outrageous guests. Four scandalous requ...</td>\n",
              "      <td>Tim Roth Antonio Banderas Jennifer Beals Madon...</td>\n",
              "      <td>[{'name': 'Allison Anders', 'gender': 1, 'depa...</td>\n",
              "      <td>Allison Anders</td>\n",
              "    </tr>\n",
              "    <tr>\n",
              "      <th>1</th>\n",
              "      <td>2</td>\n",
              "      <td>Star Wars</td>\n",
              "      <td>Adventure Action Science Fiction</td>\n",
              "      <td>en</td>\n",
              "      <td>11000000</td>\n",
              "      <td>126.393695</td>\n",
              "      <td>25-05-1977</td>\n",
              "      <td>775398007</td>\n",
              "      <td>121.0</td>\n",
              "      <td>8.1</td>\n",
              "      <td>...</td>\n",
              "      <td>http://www.starwars.com/films/star-wars-episod...</td>\n",
              "      <td>android galaxy hermit death star lightsaber</td>\n",
              "      <td>Princess Leia is captured and held hostage by ...</td>\n",
              "      <td>[{\"name\": \"Lucasfilm\", \"id\": 1}, {\"name\": \"Twe...</td>\n",
              "      <td>[{\"iso_3166_1\": \"US\", \"name\": \"United States o...</td>\n",
              "      <td>[{\"iso_639_1\": \"en\", \"name\": \"English\"}]</td>\n",
              "      <td>A long time ago in a galaxy far, far away...</td>\n",
              "      <td>Mark Hamill Harrison Ford Carrie Fisher Peter ...</td>\n",
              "      <td>[{'name': 'George Lucas', 'gender': 2, 'depart...</td>\n",
              "      <td>George Lucas</td>\n",
              "    </tr>\n",
              "    <tr>\n",
              "      <th>2</th>\n",
              "      <td>3</td>\n",
              "      <td>Finding Nemo</td>\n",
              "      <td>Animation Family</td>\n",
              "      <td>en</td>\n",
              "      <td>94000000</td>\n",
              "      <td>85.688789</td>\n",
              "      <td>30-05-2003</td>\n",
              "      <td>940335536</td>\n",
              "      <td>100.0</td>\n",
              "      <td>7.6</td>\n",
              "      <td>...</td>\n",
              "      <td>http://movies.disney.com/finding-nemo</td>\n",
              "      <td>father son relationship harbor underwater fish...</td>\n",
              "      <td>Nemo, an adventurous young clownfish, is unexp...</td>\n",
              "      <td>[{\"name\": \"Pixar Animation Studios\", \"id\": 3}]</td>\n",
              "      <td>[{\"iso_3166_1\": \"US\", \"name\": \"United States o...</td>\n",
              "      <td>[{\"iso_639_1\": \"en\", \"name\": \"English\"}]</td>\n",
              "      <td>There are 3.7 trillion fish in the ocean, they...</td>\n",
              "      <td>Albert Brooks Ellen DeGeneres Alexander Gould ...</td>\n",
              "      <td>[{'name': 'Andrew Stanton', 'gender': 2, 'depa...</td>\n",
              "      <td>Andrew Stanton</td>\n",
              "    </tr>\n",
              "    <tr>\n",
              "      <th>3</th>\n",
              "      <td>4</td>\n",
              "      <td>Forrest Gump</td>\n",
              "      <td>Comedy Drama Romance</td>\n",
              "      <td>en</td>\n",
              "      <td>55000000</td>\n",
              "      <td>138.133331</td>\n",
              "      <td>06-07-1994</td>\n",
              "      <td>677945399</td>\n",
              "      <td>142.0</td>\n",
              "      <td>8.2</td>\n",
              "      <td>...</td>\n",
              "      <td>NaN</td>\n",
              "      <td>vietnam veteran hippie mentally disabled runni...</td>\n",
              "      <td>A man with a low IQ has accomplished great thi...</td>\n",
              "      <td>[{\"name\": \"Paramount Pictures\", \"id\": 4}]</td>\n",
              "      <td>[{\"iso_3166_1\": \"US\", \"name\": \"United States o...</td>\n",
              "      <td>[{\"iso_639_1\": \"en\", \"name\": \"English\"}]</td>\n",
              "      <td>The world will never be the same, once you've ...</td>\n",
              "      <td>Tom Hanks Robin Wright Gary Sinise Mykelti Wil...</td>\n",
              "      <td>[{'name': 'Alan Silvestri', 'gender': 2, 'depa...</td>\n",
              "      <td>Robert Zemeckis</td>\n",
              "    </tr>\n",
              "    <tr>\n",
              "      <th>4</th>\n",
              "      <td>5</td>\n",
              "      <td>American Beauty</td>\n",
              "      <td>Drama</td>\n",
              "      <td>en</td>\n",
              "      <td>15000000</td>\n",
              "      <td>80.878605</td>\n",
              "      <td>15-09-1999</td>\n",
              "      <td>356296601</td>\n",
              "      <td>122.0</td>\n",
              "      <td>7.9</td>\n",
              "      <td>...</td>\n",
              "      <td>http://www.dreamworks.com/ab/</td>\n",
              "      <td>male nudity female nudity adultery midlife cri...</td>\n",
              "      <td>Lester Burnham, a depressed suburban father in...</td>\n",
              "      <td>[{\"name\": \"DreamWorks SKG\", \"id\": 27}, {\"name\"...</td>\n",
              "      <td>[{\"iso_3166_1\": \"US\", \"name\": \"United States o...</td>\n",
              "      <td>[{\"iso_639_1\": \"en\", \"name\": \"English\"}]</td>\n",
              "      <td>Look closer.</td>\n",
              "      <td>Kevin Spacey Annette Bening Thora Birch Wes Be...</td>\n",
              "      <td>[{'name': 'Thomas Newman', 'gender': 2, 'depar...</td>\n",
              "      <td>Sam Mendes</td>\n",
              "    </tr>\n",
              "  </tbody>\n",
              "</table>\n",
              "<p>5 rows × 21 columns</p>\n",
              "</div>\n",
              "    <div class=\"colab-df-buttons\">\n",
              "\n",
              "  <div class=\"colab-df-container\">\n",
              "    <button class=\"colab-df-convert\" onclick=\"convertToInteractive('df-03bc0248-6fdc-4a5f-a8fb-843a2b263f22')\"\n",
              "            title=\"Convert this dataframe to an interactive table.\"\n",
              "            style=\"display:none;\">\n",
              "\n",
              "  <svg xmlns=\"http://www.w3.org/2000/svg\" height=\"24px\" viewBox=\"0 -960 960 960\">\n",
              "    <path d=\"M120-120v-720h720v720H120Zm60-500h600v-160H180v160Zm220 220h160v-160H400v160Zm0 220h160v-160H400v160ZM180-400h160v-160H180v160Zm440 0h160v-160H620v160ZM180-180h160v-160H180v160Zm440 0h160v-160H620v160Z\"/>\n",
              "  </svg>\n",
              "    </button>\n",
              "\n",
              "  <style>\n",
              "    .colab-df-container {\n",
              "      display:flex;\n",
              "      gap: 12px;\n",
              "    }\n",
              "\n",
              "    .colab-df-convert {\n",
              "      background-color: #E8F0FE;\n",
              "      border: none;\n",
              "      border-radius: 50%;\n",
              "      cursor: pointer;\n",
              "      display: none;\n",
              "      fill: #1967D2;\n",
              "      height: 32px;\n",
              "      padding: 0 0 0 0;\n",
              "      width: 32px;\n",
              "    }\n",
              "\n",
              "    .colab-df-convert:hover {\n",
              "      background-color: #E2EBFA;\n",
              "      box-shadow: 0px 1px 2px rgba(60, 64, 67, 0.3), 0px 1px 3px 1px rgba(60, 64, 67, 0.15);\n",
              "      fill: #174EA6;\n",
              "    }\n",
              "\n",
              "    .colab-df-buttons div {\n",
              "      margin-bottom: 4px;\n",
              "    }\n",
              "\n",
              "    [theme=dark] .colab-df-convert {\n",
              "      background-color: #3B4455;\n",
              "      fill: #D2E3FC;\n",
              "    }\n",
              "\n",
              "    [theme=dark] .colab-df-convert:hover {\n",
              "      background-color: #434B5C;\n",
              "      box-shadow: 0px 1px 3px 1px rgba(0, 0, 0, 0.15);\n",
              "      filter: drop-shadow(0px 1px 2px rgba(0, 0, 0, 0.3));\n",
              "      fill: #FFFFFF;\n",
              "    }\n",
              "  </style>\n",
              "\n",
              "    <script>\n",
              "      const buttonEl =\n",
              "        document.querySelector('#df-03bc0248-6fdc-4a5f-a8fb-843a2b263f22 button.colab-df-convert');\n",
              "      buttonEl.style.display =\n",
              "        google.colab.kernel.accessAllowed ? 'block' : 'none';\n",
              "\n",
              "      async function convertToInteractive(key) {\n",
              "        const element = document.querySelector('#df-03bc0248-6fdc-4a5f-a8fb-843a2b263f22');\n",
              "        const dataTable =\n",
              "          await google.colab.kernel.invokeFunction('convertToInteractive',\n",
              "                                                    [key], {});\n",
              "        if (!dataTable) return;\n",
              "\n",
              "        const docLinkHtml = 'Like what you see? Visit the ' +\n",
              "          '<a target=\"_blank\" href=https://colab.research.google.com/notebooks/data_table.ipynb>data table notebook</a>'\n",
              "          + ' to learn more about interactive tables.';\n",
              "        element.innerHTML = '';\n",
              "        dataTable['output_type'] = 'display_data';\n",
              "        await google.colab.output.renderOutput(dataTable, element);\n",
              "        const docLink = document.createElement('div');\n",
              "        docLink.innerHTML = docLinkHtml;\n",
              "        element.appendChild(docLink);\n",
              "      }\n",
              "    </script>\n",
              "  </div>\n",
              "\n",
              "\n",
              "<div id=\"df-41ec05ed-decf-4e57-90bf-4be96d9bc915\">\n",
              "  <button class=\"colab-df-quickchart\" onclick=\"quickchart('df-41ec05ed-decf-4e57-90bf-4be96d9bc915')\"\n",
              "            title=\"Suggest charts\"\n",
              "            style=\"display:none;\">\n",
              "\n",
              "<svg xmlns=\"http://www.w3.org/2000/svg\" height=\"24px\"viewBox=\"0 0 24 24\"\n",
              "     width=\"24px\">\n",
              "    <g>\n",
              "        <path d=\"M19 3H5c-1.1 0-2 .9-2 2v14c0 1.1.9 2 2 2h14c1.1 0 2-.9 2-2V5c0-1.1-.9-2-2-2zM9 17H7v-7h2v7zm4 0h-2V7h2v10zm4 0h-2v-4h2v4z\"/>\n",
              "    </g>\n",
              "</svg>\n",
              "  </button>\n",
              "\n",
              "<style>\n",
              "  .colab-df-quickchart {\n",
              "      --bg-color: #E8F0FE;\n",
              "      --fill-color: #1967D2;\n",
              "      --hover-bg-color: #E2EBFA;\n",
              "      --hover-fill-color: #174EA6;\n",
              "      --disabled-fill-color: #AAA;\n",
              "      --disabled-bg-color: #DDD;\n",
              "  }\n",
              "\n",
              "  [theme=dark] .colab-df-quickchart {\n",
              "      --bg-color: #3B4455;\n",
              "      --fill-color: #D2E3FC;\n",
              "      --hover-bg-color: #434B5C;\n",
              "      --hover-fill-color: #FFFFFF;\n",
              "      --disabled-bg-color: #3B4455;\n",
              "      --disabled-fill-color: #666;\n",
              "  }\n",
              "\n",
              "  .colab-df-quickchart {\n",
              "    background-color: var(--bg-color);\n",
              "    border: none;\n",
              "    border-radius: 50%;\n",
              "    cursor: pointer;\n",
              "    display: none;\n",
              "    fill: var(--fill-color);\n",
              "    height: 32px;\n",
              "    padding: 0;\n",
              "    width: 32px;\n",
              "  }\n",
              "\n",
              "  .colab-df-quickchart:hover {\n",
              "    background-color: var(--hover-bg-color);\n",
              "    box-shadow: 0 1px 2px rgba(60, 64, 67, 0.3), 0 1px 3px 1px rgba(60, 64, 67, 0.15);\n",
              "    fill: var(--button-hover-fill-color);\n",
              "  }\n",
              "\n",
              "  .colab-df-quickchart-complete:disabled,\n",
              "  .colab-df-quickchart-complete:disabled:hover {\n",
              "    background-color: var(--disabled-bg-color);\n",
              "    fill: var(--disabled-fill-color);\n",
              "    box-shadow: none;\n",
              "  }\n",
              "\n",
              "  .colab-df-spinner {\n",
              "    border: 2px solid var(--fill-color);\n",
              "    border-color: transparent;\n",
              "    border-bottom-color: var(--fill-color);\n",
              "    animation:\n",
              "      spin 1s steps(1) infinite;\n",
              "  }\n",
              "\n",
              "  @keyframes spin {\n",
              "    0% {\n",
              "      border-color: transparent;\n",
              "      border-bottom-color: var(--fill-color);\n",
              "      border-left-color: var(--fill-color);\n",
              "    }\n",
              "    20% {\n",
              "      border-color: transparent;\n",
              "      border-left-color: var(--fill-color);\n",
              "      border-top-color: var(--fill-color);\n",
              "    }\n",
              "    30% {\n",
              "      border-color: transparent;\n",
              "      border-left-color: var(--fill-color);\n",
              "      border-top-color: var(--fill-color);\n",
              "      border-right-color: var(--fill-color);\n",
              "    }\n",
              "    40% {\n",
              "      border-color: transparent;\n",
              "      border-right-color: var(--fill-color);\n",
              "      border-top-color: var(--fill-color);\n",
              "    }\n",
              "    60% {\n",
              "      border-color: transparent;\n",
              "      border-right-color: var(--fill-color);\n",
              "    }\n",
              "    80% {\n",
              "      border-color: transparent;\n",
              "      border-right-color: var(--fill-color);\n",
              "      border-bottom-color: var(--fill-color);\n",
              "    }\n",
              "    90% {\n",
              "      border-color: transparent;\n",
              "      border-bottom-color: var(--fill-color);\n",
              "    }\n",
              "  }\n",
              "</style>\n",
              "\n",
              "  <script>\n",
              "    async function quickchart(key) {\n",
              "      const quickchartButtonEl =\n",
              "        document.querySelector('#' + key + ' button');\n",
              "      quickchartButtonEl.disabled = true;  // To prevent multiple clicks.\n",
              "      quickchartButtonEl.classList.add('colab-df-spinner');\n",
              "      try {\n",
              "        const charts = await google.colab.kernel.invokeFunction(\n",
              "            'suggestCharts', [key], {});\n",
              "      } catch (error) {\n",
              "        console.error('Error during call to suggestCharts:', error);\n",
              "      }\n",
              "      quickchartButtonEl.classList.remove('colab-df-spinner');\n",
              "      quickchartButtonEl.classList.add('colab-df-quickchart-complete');\n",
              "    }\n",
              "    (() => {\n",
              "      let quickchartButtonEl =\n",
              "        document.querySelector('#df-41ec05ed-decf-4e57-90bf-4be96d9bc915 button');\n",
              "      quickchartButtonEl.style.display =\n",
              "        google.colab.kernel.accessAllowed ? 'block' : 'none';\n",
              "    })();\n",
              "  </script>\n",
              "</div>\n",
              "\n",
              "    </div>\n",
              "  </div>\n"
            ],
            "application/vnd.google.colaboratory.intrinsic+json": {
              "type": "dataframe",
              "variable_name": "df"
            }
          },
          "metadata": {},
          "execution_count": 28
        }
      ]
    },
    {
      "cell_type": "code",
      "source": [
        "#describe the data\n",
        "df.info()"
      ],
      "metadata": {
        "colab": {
          "base_uri": "https://localhost:8080/"
        },
        "id": "fgm6A_DqlYCy",
        "outputId": "23702f46-2972-41aa-eda8-7547ab62ee7b"
      },
      "execution_count": null,
      "outputs": [
        {
          "output_type": "stream",
          "name": "stdout",
          "text": [
            "<class 'pandas.core.frame.DataFrame'>\n",
            "RangeIndex: 4760 entries, 0 to 4759\n",
            "Data columns (total 21 columns):\n",
            " #   Column                    Non-Null Count  Dtype  \n",
            "---  ------                    --------------  -----  \n",
            " 0   Movie_ID                  4760 non-null   int64  \n",
            " 1   Movie_Title               4760 non-null   object \n",
            " 2   Movie_Genre               4760 non-null   object \n",
            " 3   Movie_Language            4760 non-null   object \n",
            " 4   Movie_Budget              4760 non-null   int64  \n",
            " 5   Movie_Popularity          4760 non-null   float64\n",
            " 6   Movie_Release_Date        4760 non-null   object \n",
            " 7   Movie_Revenue             4760 non-null   int64  \n",
            " 8   Movie_Runtime             4758 non-null   float64\n",
            " 9   Movie_Vote                4760 non-null   float64\n",
            " 10  Movie_Vote_Count          4760 non-null   int64  \n",
            " 11  Movie_Homepage            1699 non-null   object \n",
            " 12  Movie_Keywords            4373 non-null   object \n",
            " 13  Movie_Overview            4757 non-null   object \n",
            " 14  Movie_Production_House    4760 non-null   object \n",
            " 15  Movie_Production_Country  4760 non-null   object \n",
            " 16  Movie_Spoken_Language     4760 non-null   object \n",
            " 17  Movie_Tagline             3942 non-null   object \n",
            " 18  Movie_Cast                4733 non-null   object \n",
            " 19  Movie_Crew                4760 non-null   object \n",
            " 20  Movie_Director            4738 non-null   object \n",
            "dtypes: float64(3), int64(4), object(14)\n",
            "memory usage: 781.1+ KB\n"
          ]
        }
      ]
    },
    {
      "cell_type": "code",
      "source": [
        "df.describe()"
      ],
      "metadata": {
        "colab": {
          "base_uri": "https://localhost:8080/",
          "height": 300
        },
        "id": "HPnDjHPXlbuV",
        "outputId": "bfb8d92e-0269-4c05-9941-7858e6adf327"
      },
      "execution_count": null,
      "outputs": [
        {
          "output_type": "execute_result",
          "data": {
            "text/plain": [
              "          Movie_ID  Movie_Budget  Movie_Popularity  Movie_Revenue  \\\n",
              "count  4760.000000  4.760000e+03       4760.000000   4.760000e+03   \n",
              "mean   2382.566387  2.920129e+07         21.599510   8.263743e+07   \n",
              "std    1377.270159  4.075620e+07         31.887919   1.630554e+08   \n",
              "min       1.000000  0.000000e+00          0.000372   0.000000e+00   \n",
              "25%    1190.750000  9.257500e+05          4.807074   0.000000e+00   \n",
              "50%    2380.500000  1.500000e+07         13.119058   1.944716e+07   \n",
              "75%    3572.250000  4.000000e+07         28.411929   9.341276e+07   \n",
              "max    4788.000000  3.800000e+08        875.581305   2.787965e+09   \n",
              "\n",
              "       Movie_Runtime   Movie_Vote  Movie_Vote_Count  \n",
              "count    4758.000000  4760.000000       4760.000000  \n",
              "mean      107.184111     6.113866        692.508403  \n",
              "std        21.960332     1.141294       1235.007337  \n",
              "min         0.000000     0.000000          0.000000  \n",
              "25%        94.000000     5.600000         55.000000  \n",
              "50%       104.000000     6.200000        238.000000  \n",
              "75%       118.000000     6.800000        740.250000  \n",
              "max       338.000000    10.000000      13752.000000  "
            ],
            "text/html": [
              "\n",
              "  <div id=\"df-06ed078d-5d42-4040-97ff-9c6e7393f817\" class=\"colab-df-container\">\n",
              "    <div>\n",
              "<style scoped>\n",
              "    .dataframe tbody tr th:only-of-type {\n",
              "        vertical-align: middle;\n",
              "    }\n",
              "\n",
              "    .dataframe tbody tr th {\n",
              "        vertical-align: top;\n",
              "    }\n",
              "\n",
              "    .dataframe thead th {\n",
              "        text-align: right;\n",
              "    }\n",
              "</style>\n",
              "<table border=\"1\" class=\"dataframe\">\n",
              "  <thead>\n",
              "    <tr style=\"text-align: right;\">\n",
              "      <th></th>\n",
              "      <th>Movie_ID</th>\n",
              "      <th>Movie_Budget</th>\n",
              "      <th>Movie_Popularity</th>\n",
              "      <th>Movie_Revenue</th>\n",
              "      <th>Movie_Runtime</th>\n",
              "      <th>Movie_Vote</th>\n",
              "      <th>Movie_Vote_Count</th>\n",
              "    </tr>\n",
              "  </thead>\n",
              "  <tbody>\n",
              "    <tr>\n",
              "      <th>count</th>\n",
              "      <td>4760.000000</td>\n",
              "      <td>4.760000e+03</td>\n",
              "      <td>4760.000000</td>\n",
              "      <td>4.760000e+03</td>\n",
              "      <td>4758.000000</td>\n",
              "      <td>4760.000000</td>\n",
              "      <td>4760.000000</td>\n",
              "    </tr>\n",
              "    <tr>\n",
              "      <th>mean</th>\n",
              "      <td>2382.566387</td>\n",
              "      <td>2.920129e+07</td>\n",
              "      <td>21.599510</td>\n",
              "      <td>8.263743e+07</td>\n",
              "      <td>107.184111</td>\n",
              "      <td>6.113866</td>\n",
              "      <td>692.508403</td>\n",
              "    </tr>\n",
              "    <tr>\n",
              "      <th>std</th>\n",
              "      <td>1377.270159</td>\n",
              "      <td>4.075620e+07</td>\n",
              "      <td>31.887919</td>\n",
              "      <td>1.630554e+08</td>\n",
              "      <td>21.960332</td>\n",
              "      <td>1.141294</td>\n",
              "      <td>1235.007337</td>\n",
              "    </tr>\n",
              "    <tr>\n",
              "      <th>min</th>\n",
              "      <td>1.000000</td>\n",
              "      <td>0.000000e+00</td>\n",
              "      <td>0.000372</td>\n",
              "      <td>0.000000e+00</td>\n",
              "      <td>0.000000</td>\n",
              "      <td>0.000000</td>\n",
              "      <td>0.000000</td>\n",
              "    </tr>\n",
              "    <tr>\n",
              "      <th>25%</th>\n",
              "      <td>1190.750000</td>\n",
              "      <td>9.257500e+05</td>\n",
              "      <td>4.807074</td>\n",
              "      <td>0.000000e+00</td>\n",
              "      <td>94.000000</td>\n",
              "      <td>5.600000</td>\n",
              "      <td>55.000000</td>\n",
              "    </tr>\n",
              "    <tr>\n",
              "      <th>50%</th>\n",
              "      <td>2380.500000</td>\n",
              "      <td>1.500000e+07</td>\n",
              "      <td>13.119058</td>\n",
              "      <td>1.944716e+07</td>\n",
              "      <td>104.000000</td>\n",
              "      <td>6.200000</td>\n",
              "      <td>238.000000</td>\n",
              "    </tr>\n",
              "    <tr>\n",
              "      <th>75%</th>\n",
              "      <td>3572.250000</td>\n",
              "      <td>4.000000e+07</td>\n",
              "      <td>28.411929</td>\n",
              "      <td>9.341276e+07</td>\n",
              "      <td>118.000000</td>\n",
              "      <td>6.800000</td>\n",
              "      <td>740.250000</td>\n",
              "    </tr>\n",
              "    <tr>\n",
              "      <th>max</th>\n",
              "      <td>4788.000000</td>\n",
              "      <td>3.800000e+08</td>\n",
              "      <td>875.581305</td>\n",
              "      <td>2.787965e+09</td>\n",
              "      <td>338.000000</td>\n",
              "      <td>10.000000</td>\n",
              "      <td>13752.000000</td>\n",
              "    </tr>\n",
              "  </tbody>\n",
              "</table>\n",
              "</div>\n",
              "    <div class=\"colab-df-buttons\">\n",
              "\n",
              "  <div class=\"colab-df-container\">\n",
              "    <button class=\"colab-df-convert\" onclick=\"convertToInteractive('df-06ed078d-5d42-4040-97ff-9c6e7393f817')\"\n",
              "            title=\"Convert this dataframe to an interactive table.\"\n",
              "            style=\"display:none;\">\n",
              "\n",
              "  <svg xmlns=\"http://www.w3.org/2000/svg\" height=\"24px\" viewBox=\"0 -960 960 960\">\n",
              "    <path d=\"M120-120v-720h720v720H120Zm60-500h600v-160H180v160Zm220 220h160v-160H400v160Zm0 220h160v-160H400v160ZM180-400h160v-160H180v160Zm440 0h160v-160H620v160ZM180-180h160v-160H180v160Zm440 0h160v-160H620v160Z\"/>\n",
              "  </svg>\n",
              "    </button>\n",
              "\n",
              "  <style>\n",
              "    .colab-df-container {\n",
              "      display:flex;\n",
              "      gap: 12px;\n",
              "    }\n",
              "\n",
              "    .colab-df-convert {\n",
              "      background-color: #E8F0FE;\n",
              "      border: none;\n",
              "      border-radius: 50%;\n",
              "      cursor: pointer;\n",
              "      display: none;\n",
              "      fill: #1967D2;\n",
              "      height: 32px;\n",
              "      padding: 0 0 0 0;\n",
              "      width: 32px;\n",
              "    }\n",
              "\n",
              "    .colab-df-convert:hover {\n",
              "      background-color: #E2EBFA;\n",
              "      box-shadow: 0px 1px 2px rgba(60, 64, 67, 0.3), 0px 1px 3px 1px rgba(60, 64, 67, 0.15);\n",
              "      fill: #174EA6;\n",
              "    }\n",
              "\n",
              "    .colab-df-buttons div {\n",
              "      margin-bottom: 4px;\n",
              "    }\n",
              "\n",
              "    [theme=dark] .colab-df-convert {\n",
              "      background-color: #3B4455;\n",
              "      fill: #D2E3FC;\n",
              "    }\n",
              "\n",
              "    [theme=dark] .colab-df-convert:hover {\n",
              "      background-color: #434B5C;\n",
              "      box-shadow: 0px 1px 3px 1px rgba(0, 0, 0, 0.15);\n",
              "      filter: drop-shadow(0px 1px 2px rgba(0, 0, 0, 0.3));\n",
              "      fill: #FFFFFF;\n",
              "    }\n",
              "  </style>\n",
              "\n",
              "    <script>\n",
              "      const buttonEl =\n",
              "        document.querySelector('#df-06ed078d-5d42-4040-97ff-9c6e7393f817 button.colab-df-convert');\n",
              "      buttonEl.style.display =\n",
              "        google.colab.kernel.accessAllowed ? 'block' : 'none';\n",
              "\n",
              "      async function convertToInteractive(key) {\n",
              "        const element = document.querySelector('#df-06ed078d-5d42-4040-97ff-9c6e7393f817');\n",
              "        const dataTable =\n",
              "          await google.colab.kernel.invokeFunction('convertToInteractive',\n",
              "                                                    [key], {});\n",
              "        if (!dataTable) return;\n",
              "\n",
              "        const docLinkHtml = 'Like what you see? Visit the ' +\n",
              "          '<a target=\"_blank\" href=https://colab.research.google.com/notebooks/data_table.ipynb>data table notebook</a>'\n",
              "          + ' to learn more about interactive tables.';\n",
              "        element.innerHTML = '';\n",
              "        dataTable['output_type'] = 'display_data';\n",
              "        await google.colab.output.renderOutput(dataTable, element);\n",
              "        const docLink = document.createElement('div');\n",
              "        docLink.innerHTML = docLinkHtml;\n",
              "        element.appendChild(docLink);\n",
              "      }\n",
              "    </script>\n",
              "  </div>\n",
              "\n",
              "\n",
              "<div id=\"df-cd55b821-93ce-4fe0-a22d-ee760eb0968b\">\n",
              "  <button class=\"colab-df-quickchart\" onclick=\"quickchart('df-cd55b821-93ce-4fe0-a22d-ee760eb0968b')\"\n",
              "            title=\"Suggest charts\"\n",
              "            style=\"display:none;\">\n",
              "\n",
              "<svg xmlns=\"http://www.w3.org/2000/svg\" height=\"24px\"viewBox=\"0 0 24 24\"\n",
              "     width=\"24px\">\n",
              "    <g>\n",
              "        <path d=\"M19 3H5c-1.1 0-2 .9-2 2v14c0 1.1.9 2 2 2h14c1.1 0 2-.9 2-2V5c0-1.1-.9-2-2-2zM9 17H7v-7h2v7zm4 0h-2V7h2v10zm4 0h-2v-4h2v4z\"/>\n",
              "    </g>\n",
              "</svg>\n",
              "  </button>\n",
              "\n",
              "<style>\n",
              "  .colab-df-quickchart {\n",
              "      --bg-color: #E8F0FE;\n",
              "      --fill-color: #1967D2;\n",
              "      --hover-bg-color: #E2EBFA;\n",
              "      --hover-fill-color: #174EA6;\n",
              "      --disabled-fill-color: #AAA;\n",
              "      --disabled-bg-color: #DDD;\n",
              "  }\n",
              "\n",
              "  [theme=dark] .colab-df-quickchart {\n",
              "      --bg-color: #3B4455;\n",
              "      --fill-color: #D2E3FC;\n",
              "      --hover-bg-color: #434B5C;\n",
              "      --hover-fill-color: #FFFFFF;\n",
              "      --disabled-bg-color: #3B4455;\n",
              "      --disabled-fill-color: #666;\n",
              "  }\n",
              "\n",
              "  .colab-df-quickchart {\n",
              "    background-color: var(--bg-color);\n",
              "    border: none;\n",
              "    border-radius: 50%;\n",
              "    cursor: pointer;\n",
              "    display: none;\n",
              "    fill: var(--fill-color);\n",
              "    height: 32px;\n",
              "    padding: 0;\n",
              "    width: 32px;\n",
              "  }\n",
              "\n",
              "  .colab-df-quickchart:hover {\n",
              "    background-color: var(--hover-bg-color);\n",
              "    box-shadow: 0 1px 2px rgba(60, 64, 67, 0.3), 0 1px 3px 1px rgba(60, 64, 67, 0.15);\n",
              "    fill: var(--button-hover-fill-color);\n",
              "  }\n",
              "\n",
              "  .colab-df-quickchart-complete:disabled,\n",
              "  .colab-df-quickchart-complete:disabled:hover {\n",
              "    background-color: var(--disabled-bg-color);\n",
              "    fill: var(--disabled-fill-color);\n",
              "    box-shadow: none;\n",
              "  }\n",
              "\n",
              "  .colab-df-spinner {\n",
              "    border: 2px solid var(--fill-color);\n",
              "    border-color: transparent;\n",
              "    border-bottom-color: var(--fill-color);\n",
              "    animation:\n",
              "      spin 1s steps(1) infinite;\n",
              "  }\n",
              "\n",
              "  @keyframes spin {\n",
              "    0% {\n",
              "      border-color: transparent;\n",
              "      border-bottom-color: var(--fill-color);\n",
              "      border-left-color: var(--fill-color);\n",
              "    }\n",
              "    20% {\n",
              "      border-color: transparent;\n",
              "      border-left-color: var(--fill-color);\n",
              "      border-top-color: var(--fill-color);\n",
              "    }\n",
              "    30% {\n",
              "      border-color: transparent;\n",
              "      border-left-color: var(--fill-color);\n",
              "      border-top-color: var(--fill-color);\n",
              "      border-right-color: var(--fill-color);\n",
              "    }\n",
              "    40% {\n",
              "      border-color: transparent;\n",
              "      border-right-color: var(--fill-color);\n",
              "      border-top-color: var(--fill-color);\n",
              "    }\n",
              "    60% {\n",
              "      border-color: transparent;\n",
              "      border-right-color: var(--fill-color);\n",
              "    }\n",
              "    80% {\n",
              "      border-color: transparent;\n",
              "      border-right-color: var(--fill-color);\n",
              "      border-bottom-color: var(--fill-color);\n",
              "    }\n",
              "    90% {\n",
              "      border-color: transparent;\n",
              "      border-bottom-color: var(--fill-color);\n",
              "    }\n",
              "  }\n",
              "</style>\n",
              "\n",
              "  <script>\n",
              "    async function quickchart(key) {\n",
              "      const quickchartButtonEl =\n",
              "        document.querySelector('#' + key + ' button');\n",
              "      quickchartButtonEl.disabled = true;  // To prevent multiple clicks.\n",
              "      quickchartButtonEl.classList.add('colab-df-spinner');\n",
              "      try {\n",
              "        const charts = await google.colab.kernel.invokeFunction(\n",
              "            'suggestCharts', [key], {});\n",
              "      } catch (error) {\n",
              "        console.error('Error during call to suggestCharts:', error);\n",
              "      }\n",
              "      quickchartButtonEl.classList.remove('colab-df-spinner');\n",
              "      quickchartButtonEl.classList.add('colab-df-quickchart-complete');\n",
              "    }\n",
              "    (() => {\n",
              "      let quickchartButtonEl =\n",
              "        document.querySelector('#df-cd55b821-93ce-4fe0-a22d-ee760eb0968b button');\n",
              "      quickchartButtonEl.style.display =\n",
              "        google.colab.kernel.accessAllowed ? 'block' : 'none';\n",
              "    })();\n",
              "  </script>\n",
              "</div>\n",
              "\n",
              "    </div>\n",
              "  </div>\n"
            ],
            "application/vnd.google.colaboratory.intrinsic+json": {
              "type": "dataframe",
              "summary": "{\n  \"name\": \"df\",\n  \"rows\": 8,\n  \"fields\": [\n    {\n      \"column\": \"Movie_ID\",\n      \"properties\": {\n        \"dtype\": \"number\",\n        \"std\": 1720.2332807214548,\n        \"min\": 1.0,\n        \"max\": 4788.0,\n        \"samples\": [\n          2382.5663865546217,\n          2380.5,\n          4760.0\n        ],\n        \"num_unique_values\": 8,\n        \"semantic_type\": \"\",\n        \"description\": \"\"\n      }\n    },\n    {\n      \"column\": \"Movie_Budget\",\n      \"properties\": {\n        \"dtype\": \"number\",\n        \"std\": 129145160.11869688,\n        \"min\": 0.0,\n        \"max\": 380000000.0,\n        \"samples\": [\n          29201287.084033612,\n          15000000.0,\n          4760.0\n        ],\n        \"num_unique_values\": 8,\n        \"semantic_type\": \"\",\n        \"description\": \"\"\n      }\n    },\n    {\n      \"column\": \"Movie_Popularity\",\n      \"properties\": {\n        \"dtype\": \"number\",\n        \"std\": 1661.1040447605237,\n        \"min\": 0.000372,\n        \"max\": 4760.0,\n        \"samples\": [\n          21.599509934663867,\n          13.119057999999999,\n          4760.0\n        ],\n        \"num_unique_values\": 8,\n        \"semantic_type\": \"\",\n        \"description\": \"\"\n      }\n    },\n    {\n      \"column\": \"Movie_Revenue\",\n      \"properties\": {\n        \"dtype\": \"number\",\n        \"std\": 969366059.9423022,\n        \"min\": 0.0,\n        \"max\": 2787965087.0,\n        \"samples\": [\n          4760.0,\n          82637425.44285715,\n          93412759.75\n        ],\n        \"num_unique_values\": 7,\n        \"semantic_type\": \"\",\n        \"description\": \"\"\n      }\n    },\n    {\n      \"column\": \"Movie_Runtime\",\n      \"properties\": {\n        \"dtype\": \"number\",\n        \"std\": 1645.7876738678387,\n        \"min\": 0.0,\n        \"max\": 4758.0,\n        \"samples\": [\n          107.18411097099622,\n          104.0,\n          4758.0\n        ],\n        \"num_unique_values\": 8,\n        \"semantic_type\": \"\",\n        \"description\": \"\"\n      }\n    },\n    {\n      \"column\": \"Movie_Vote\",\n      \"properties\": {\n        \"dtype\": \"number\",\n        \"std\": 1681.106199712945,\n        \"min\": 0.0,\n        \"max\": 4760.0,\n        \"samples\": [\n          6.113865546218487,\n          6.2,\n          4760.0\n        ],\n        \"num_unique_values\": 8,\n        \"semantic_type\": \"\",\n        \"description\": \"\"\n      }\n    },\n    {\n      \"column\": \"Movie_Vote_Count\",\n      \"properties\": {\n        \"dtype\": \"number\",\n        \"std\": 4732.148341860835,\n        \"min\": 0.0,\n        \"max\": 13752.0,\n        \"samples\": [\n          692.5084033613446,\n          238.0,\n          4760.0\n        ],\n        \"num_unique_values\": 8,\n        \"semantic_type\": \"\",\n        \"description\": \"\"\n      }\n    }\n  ]\n}"
            }
          },
          "metadata": {},
          "execution_count": 30
        }
      ]
    },
    {
      "cell_type": "code",
      "source": [
        "df.shape"
      ],
      "metadata": {
        "colab": {
          "base_uri": "https://localhost:8080/"
        },
        "id": "uKuk5w-ql1-4",
        "outputId": "adc9f6fc-6a58-4269-e6bc-9bc2ead21438"
      },
      "execution_count": null,
      "outputs": [
        {
          "output_type": "execute_result",
          "data": {
            "text/plain": [
              "(4760, 21)"
            ]
          },
          "metadata": {},
          "execution_count": 31
        }
      ]
    },
    {
      "cell_type": "code",
      "source": [
        "df.columns"
      ],
      "metadata": {
        "colab": {
          "base_uri": "https://localhost:8080/"
        },
        "id": "JqmnIytrl4QI",
        "outputId": "597edbd3-692a-46c2-f0ab-47e3b1c5b4b9"
      },
      "execution_count": null,
      "outputs": [
        {
          "output_type": "execute_result",
          "data": {
            "text/plain": [
              "Index(['Movie_ID', 'Movie_Title', 'Movie_Genre', 'Movie_Language',\n",
              "       'Movie_Budget', 'Movie_Popularity', 'Movie_Release_Date',\n",
              "       'Movie_Revenue', 'Movie_Runtime', 'Movie_Vote', 'Movie_Vote_Count',\n",
              "       'Movie_Homepage', 'Movie_Keywords', 'Movie_Overview',\n",
              "       'Movie_Production_House', 'Movie_Production_Country',\n",
              "       'Movie_Spoken_Language', 'Movie_Tagline', 'Movie_Cast', 'Movie_Crew',\n",
              "       'Movie_Director'],\n",
              "      dtype='object')"
            ]
          },
          "metadata": {},
          "execution_count": 32
        }
      ]
    },
    {
      "cell_type": "code",
      "source": [
        "# @title Get Feature Selection\n",
        "df_features=df[['Movie_Genre','Movie_Keywords','Movie_Tagline','Movie_Cast','Movie_Director']]"
      ],
      "metadata": {
        "id": "lckXfZb_l7fa"
      },
      "execution_count": null,
      "outputs": []
    },
    {
      "cell_type": "code",
      "source": [
        "df_features.shape"
      ],
      "metadata": {
        "colab": {
          "base_uri": "https://localhost:8080/"
        },
        "id": "hdSNwJaUpnFv",
        "outputId": "266d51e8-a44c-4a48-f011-3d0f34703b44"
      },
      "execution_count": null,
      "outputs": [
        {
          "output_type": "execute_result",
          "data": {
            "text/plain": [
              "(4760, 5)"
            ]
          },
          "metadata": {},
          "execution_count": 34
        }
      ]
    },
    {
      "cell_type": "code",
      "source": [
        "df_features"
      ],
      "metadata": {
        "colab": {
          "base_uri": "https://localhost:8080/",
          "height": 579
        },
        "id": "IsbLw7qspttc",
        "outputId": "a47efe54-8d3a-4f5e-fe4d-f394f8d3e8fe"
      },
      "execution_count": null,
      "outputs": [
        {
          "output_type": "execute_result",
          "data": {
            "text/plain": [
              "                           Movie_Genre  \\\n",
              "0                         Crime Comedy   \n",
              "1     Adventure Action Science Fiction   \n",
              "2                     Animation Family   \n",
              "3                 Comedy Drama Romance   \n",
              "4                                Drama   \n",
              "...                                ...   \n",
              "4755                            Horror   \n",
              "4756               Comedy Family Drama   \n",
              "4757                    Thriller Drama   \n",
              "4758                            Family   \n",
              "4759                       Documentary   \n",
              "\n",
              "                                         Movie_Keywords  \\\n",
              "0             hotel new year's eve witch bet hotel room   \n",
              "1           android galaxy hermit death star lightsaber   \n",
              "2     father son relationship harbor underwater fish...   \n",
              "3     vietnam veteran hippie mentally disabled runni...   \n",
              "4     male nudity female nudity adultery midlife cri...   \n",
              "...                                                 ...   \n",
              "4755                                                NaN   \n",
              "4756                                                NaN   \n",
              "4757                     christian film sex trafficking   \n",
              "4758                                                NaN   \n",
              "4759  music actors legendary perfomer classic hollyw...   \n",
              "\n",
              "                                          Movie_Tagline  \\\n",
              "0     Twelve outrageous guests. Four scandalous requ...   \n",
              "1          A long time ago in a galaxy far, far away...   \n",
              "2     There are 3.7 trillion fish in the ocean, they...   \n",
              "3     The world will never be the same, once you've ...   \n",
              "4                                          Look closer.   \n",
              "...                                                 ...   \n",
              "4755                The hot spot where Satan's waitin'.   \n",
              "4756           It’s better to stand out than to fit in.   \n",
              "4757           She never knew it could happen to her...   \n",
              "4758                                                NaN   \n",
              "4759                                                NaN   \n",
              "\n",
              "                                             Movie_Cast     Movie_Director  \n",
              "0     Tim Roth Antonio Banderas Jennifer Beals Madon...     Allison Anders  \n",
              "1     Mark Hamill Harrison Ford Carrie Fisher Peter ...       George Lucas  \n",
              "2     Albert Brooks Ellen DeGeneres Alexander Gould ...     Andrew Stanton  \n",
              "3     Tom Hanks Robin Wright Gary Sinise Mykelti Wil...    Robert Zemeckis  \n",
              "4     Kevin Spacey Annette Bening Thora Birch Wes Be...         Sam Mendes  \n",
              "...                                                 ...                ...  \n",
              "4755  Lisa Hart Carroll Michael Des Barres Paul Drak...         Pece Dingo  \n",
              "4756  Roni Akurati Brighton Sharbino Jason Lee Anjul...       Frank Lotito  \n",
              "4757  Nicole Smolen Kim Baldwin Ariana Stephens Brys...       Jaco Booyens  \n",
              "4758                                                NaN                NaN  \n",
              "4759                                    Tony Oppedisano  Simon Napier-Bell  \n",
              "\n",
              "[4760 rows x 5 columns]"
            ],
            "text/html": [
              "\n",
              "  <div id=\"df-bd792125-85df-423a-bfd9-512a0bcac696\" class=\"colab-df-container\">\n",
              "    <div>\n",
              "<style scoped>\n",
              "    .dataframe tbody tr th:only-of-type {\n",
              "        vertical-align: middle;\n",
              "    }\n",
              "\n",
              "    .dataframe tbody tr th {\n",
              "        vertical-align: top;\n",
              "    }\n",
              "\n",
              "    .dataframe thead th {\n",
              "        text-align: right;\n",
              "    }\n",
              "</style>\n",
              "<table border=\"1\" class=\"dataframe\">\n",
              "  <thead>\n",
              "    <tr style=\"text-align: right;\">\n",
              "      <th></th>\n",
              "      <th>Movie_Genre</th>\n",
              "      <th>Movie_Keywords</th>\n",
              "      <th>Movie_Tagline</th>\n",
              "      <th>Movie_Cast</th>\n",
              "      <th>Movie_Director</th>\n",
              "    </tr>\n",
              "  </thead>\n",
              "  <tbody>\n",
              "    <tr>\n",
              "      <th>0</th>\n",
              "      <td>Crime Comedy</td>\n",
              "      <td>hotel new year's eve witch bet hotel room</td>\n",
              "      <td>Twelve outrageous guests. Four scandalous requ...</td>\n",
              "      <td>Tim Roth Antonio Banderas Jennifer Beals Madon...</td>\n",
              "      <td>Allison Anders</td>\n",
              "    </tr>\n",
              "    <tr>\n",
              "      <th>1</th>\n",
              "      <td>Adventure Action Science Fiction</td>\n",
              "      <td>android galaxy hermit death star lightsaber</td>\n",
              "      <td>A long time ago in a galaxy far, far away...</td>\n",
              "      <td>Mark Hamill Harrison Ford Carrie Fisher Peter ...</td>\n",
              "      <td>George Lucas</td>\n",
              "    </tr>\n",
              "    <tr>\n",
              "      <th>2</th>\n",
              "      <td>Animation Family</td>\n",
              "      <td>father son relationship harbor underwater fish...</td>\n",
              "      <td>There are 3.7 trillion fish in the ocean, they...</td>\n",
              "      <td>Albert Brooks Ellen DeGeneres Alexander Gould ...</td>\n",
              "      <td>Andrew Stanton</td>\n",
              "    </tr>\n",
              "    <tr>\n",
              "      <th>3</th>\n",
              "      <td>Comedy Drama Romance</td>\n",
              "      <td>vietnam veteran hippie mentally disabled runni...</td>\n",
              "      <td>The world will never be the same, once you've ...</td>\n",
              "      <td>Tom Hanks Robin Wright Gary Sinise Mykelti Wil...</td>\n",
              "      <td>Robert Zemeckis</td>\n",
              "    </tr>\n",
              "    <tr>\n",
              "      <th>4</th>\n",
              "      <td>Drama</td>\n",
              "      <td>male nudity female nudity adultery midlife cri...</td>\n",
              "      <td>Look closer.</td>\n",
              "      <td>Kevin Spacey Annette Bening Thora Birch Wes Be...</td>\n",
              "      <td>Sam Mendes</td>\n",
              "    </tr>\n",
              "    <tr>\n",
              "      <th>...</th>\n",
              "      <td>...</td>\n",
              "      <td>...</td>\n",
              "      <td>...</td>\n",
              "      <td>...</td>\n",
              "      <td>...</td>\n",
              "    </tr>\n",
              "    <tr>\n",
              "      <th>4755</th>\n",
              "      <td>Horror</td>\n",
              "      <td>NaN</td>\n",
              "      <td>The hot spot where Satan's waitin'.</td>\n",
              "      <td>Lisa Hart Carroll Michael Des Barres Paul Drak...</td>\n",
              "      <td>Pece Dingo</td>\n",
              "    </tr>\n",
              "    <tr>\n",
              "      <th>4756</th>\n",
              "      <td>Comedy Family Drama</td>\n",
              "      <td>NaN</td>\n",
              "      <td>It’s better to stand out than to fit in.</td>\n",
              "      <td>Roni Akurati Brighton Sharbino Jason Lee Anjul...</td>\n",
              "      <td>Frank Lotito</td>\n",
              "    </tr>\n",
              "    <tr>\n",
              "      <th>4757</th>\n",
              "      <td>Thriller Drama</td>\n",
              "      <td>christian film sex trafficking</td>\n",
              "      <td>She never knew it could happen to her...</td>\n",
              "      <td>Nicole Smolen Kim Baldwin Ariana Stephens Brys...</td>\n",
              "      <td>Jaco Booyens</td>\n",
              "    </tr>\n",
              "    <tr>\n",
              "      <th>4758</th>\n",
              "      <td>Family</td>\n",
              "      <td>NaN</td>\n",
              "      <td>NaN</td>\n",
              "      <td>NaN</td>\n",
              "      <td>NaN</td>\n",
              "    </tr>\n",
              "    <tr>\n",
              "      <th>4759</th>\n",
              "      <td>Documentary</td>\n",
              "      <td>music actors legendary perfomer classic hollyw...</td>\n",
              "      <td>NaN</td>\n",
              "      <td>Tony Oppedisano</td>\n",
              "      <td>Simon Napier-Bell</td>\n",
              "    </tr>\n",
              "  </tbody>\n",
              "</table>\n",
              "<p>4760 rows × 5 columns</p>\n",
              "</div>\n",
              "    <div class=\"colab-df-buttons\">\n",
              "\n",
              "  <div class=\"colab-df-container\">\n",
              "    <button class=\"colab-df-convert\" onclick=\"convertToInteractive('df-bd792125-85df-423a-bfd9-512a0bcac696')\"\n",
              "            title=\"Convert this dataframe to an interactive table.\"\n",
              "            style=\"display:none;\">\n",
              "\n",
              "  <svg xmlns=\"http://www.w3.org/2000/svg\" height=\"24px\" viewBox=\"0 -960 960 960\">\n",
              "    <path d=\"M120-120v-720h720v720H120Zm60-500h600v-160H180v160Zm220 220h160v-160H400v160Zm0 220h160v-160H400v160ZM180-400h160v-160H180v160Zm440 0h160v-160H620v160ZM180-180h160v-160H180v160Zm440 0h160v-160H620v160Z\"/>\n",
              "  </svg>\n",
              "    </button>\n",
              "\n",
              "  <style>\n",
              "    .colab-df-container {\n",
              "      display:flex;\n",
              "      gap: 12px;\n",
              "    }\n",
              "\n",
              "    .colab-df-convert {\n",
              "      background-color: #E8F0FE;\n",
              "      border: none;\n",
              "      border-radius: 50%;\n",
              "      cursor: pointer;\n",
              "      display: none;\n",
              "      fill: #1967D2;\n",
              "      height: 32px;\n",
              "      padding: 0 0 0 0;\n",
              "      width: 32px;\n",
              "    }\n",
              "\n",
              "    .colab-df-convert:hover {\n",
              "      background-color: #E2EBFA;\n",
              "      box-shadow: 0px 1px 2px rgba(60, 64, 67, 0.3), 0px 1px 3px 1px rgba(60, 64, 67, 0.15);\n",
              "      fill: #174EA6;\n",
              "    }\n",
              "\n",
              "    .colab-df-buttons div {\n",
              "      margin-bottom: 4px;\n",
              "    }\n",
              "\n",
              "    [theme=dark] .colab-df-convert {\n",
              "      background-color: #3B4455;\n",
              "      fill: #D2E3FC;\n",
              "    }\n",
              "\n",
              "    [theme=dark] .colab-df-convert:hover {\n",
              "      background-color: #434B5C;\n",
              "      box-shadow: 0px 1px 3px 1px rgba(0, 0, 0, 0.15);\n",
              "      filter: drop-shadow(0px 1px 2px rgba(0, 0, 0, 0.3));\n",
              "      fill: #FFFFFF;\n",
              "    }\n",
              "  </style>\n",
              "\n",
              "    <script>\n",
              "      const buttonEl =\n",
              "        document.querySelector('#df-bd792125-85df-423a-bfd9-512a0bcac696 button.colab-df-convert');\n",
              "      buttonEl.style.display =\n",
              "        google.colab.kernel.accessAllowed ? 'block' : 'none';\n",
              "\n",
              "      async function convertToInteractive(key) {\n",
              "        const element = document.querySelector('#df-bd792125-85df-423a-bfd9-512a0bcac696');\n",
              "        const dataTable =\n",
              "          await google.colab.kernel.invokeFunction('convertToInteractive',\n",
              "                                                    [key], {});\n",
              "        if (!dataTable) return;\n",
              "\n",
              "        const docLinkHtml = 'Like what you see? Visit the ' +\n",
              "          '<a target=\"_blank\" href=https://colab.research.google.com/notebooks/data_table.ipynb>data table notebook</a>'\n",
              "          + ' to learn more about interactive tables.';\n",
              "        element.innerHTML = '';\n",
              "        dataTable['output_type'] = 'display_data';\n",
              "        await google.colab.output.renderOutput(dataTable, element);\n",
              "        const docLink = document.createElement('div');\n",
              "        docLink.innerHTML = docLinkHtml;\n",
              "        element.appendChild(docLink);\n",
              "      }\n",
              "    </script>\n",
              "  </div>\n",
              "\n",
              "\n",
              "<div id=\"df-842ecf13-d410-4a92-b453-1c539c36b6f0\">\n",
              "  <button class=\"colab-df-quickchart\" onclick=\"quickchart('df-842ecf13-d410-4a92-b453-1c539c36b6f0')\"\n",
              "            title=\"Suggest charts\"\n",
              "            style=\"display:none;\">\n",
              "\n",
              "<svg xmlns=\"http://www.w3.org/2000/svg\" height=\"24px\"viewBox=\"0 0 24 24\"\n",
              "     width=\"24px\">\n",
              "    <g>\n",
              "        <path d=\"M19 3H5c-1.1 0-2 .9-2 2v14c0 1.1.9 2 2 2h14c1.1 0 2-.9 2-2V5c0-1.1-.9-2-2-2zM9 17H7v-7h2v7zm4 0h-2V7h2v10zm4 0h-2v-4h2v4z\"/>\n",
              "    </g>\n",
              "</svg>\n",
              "  </button>\n",
              "\n",
              "<style>\n",
              "  .colab-df-quickchart {\n",
              "      --bg-color: #E8F0FE;\n",
              "      --fill-color: #1967D2;\n",
              "      --hover-bg-color: #E2EBFA;\n",
              "      --hover-fill-color: #174EA6;\n",
              "      --disabled-fill-color: #AAA;\n",
              "      --disabled-bg-color: #DDD;\n",
              "  }\n",
              "\n",
              "  [theme=dark] .colab-df-quickchart {\n",
              "      --bg-color: #3B4455;\n",
              "      --fill-color: #D2E3FC;\n",
              "      --hover-bg-color: #434B5C;\n",
              "      --hover-fill-color: #FFFFFF;\n",
              "      --disabled-bg-color: #3B4455;\n",
              "      --disabled-fill-color: #666;\n",
              "  }\n",
              "\n",
              "  .colab-df-quickchart {\n",
              "    background-color: var(--bg-color);\n",
              "    border: none;\n",
              "    border-radius: 50%;\n",
              "    cursor: pointer;\n",
              "    display: none;\n",
              "    fill: var(--fill-color);\n",
              "    height: 32px;\n",
              "    padding: 0;\n",
              "    width: 32px;\n",
              "  }\n",
              "\n",
              "  .colab-df-quickchart:hover {\n",
              "    background-color: var(--hover-bg-color);\n",
              "    box-shadow: 0 1px 2px rgba(60, 64, 67, 0.3), 0 1px 3px 1px rgba(60, 64, 67, 0.15);\n",
              "    fill: var(--button-hover-fill-color);\n",
              "  }\n",
              "\n",
              "  .colab-df-quickchart-complete:disabled,\n",
              "  .colab-df-quickchart-complete:disabled:hover {\n",
              "    background-color: var(--disabled-bg-color);\n",
              "    fill: var(--disabled-fill-color);\n",
              "    box-shadow: none;\n",
              "  }\n",
              "\n",
              "  .colab-df-spinner {\n",
              "    border: 2px solid var(--fill-color);\n",
              "    border-color: transparent;\n",
              "    border-bottom-color: var(--fill-color);\n",
              "    animation:\n",
              "      spin 1s steps(1) infinite;\n",
              "  }\n",
              "\n",
              "  @keyframes spin {\n",
              "    0% {\n",
              "      border-color: transparent;\n",
              "      border-bottom-color: var(--fill-color);\n",
              "      border-left-color: var(--fill-color);\n",
              "    }\n",
              "    20% {\n",
              "      border-color: transparent;\n",
              "      border-left-color: var(--fill-color);\n",
              "      border-top-color: var(--fill-color);\n",
              "    }\n",
              "    30% {\n",
              "      border-color: transparent;\n",
              "      border-left-color: var(--fill-color);\n",
              "      border-top-color: var(--fill-color);\n",
              "      border-right-color: var(--fill-color);\n",
              "    }\n",
              "    40% {\n",
              "      border-color: transparent;\n",
              "      border-right-color: var(--fill-color);\n",
              "      border-top-color: var(--fill-color);\n",
              "    }\n",
              "    60% {\n",
              "      border-color: transparent;\n",
              "      border-right-color: var(--fill-color);\n",
              "    }\n",
              "    80% {\n",
              "      border-color: transparent;\n",
              "      border-right-color: var(--fill-color);\n",
              "      border-bottom-color: var(--fill-color);\n",
              "    }\n",
              "    90% {\n",
              "      border-color: transparent;\n",
              "      border-bottom-color: var(--fill-color);\n",
              "    }\n",
              "  }\n",
              "</style>\n",
              "\n",
              "  <script>\n",
              "    async function quickchart(key) {\n",
              "      const quickchartButtonEl =\n",
              "        document.querySelector('#' + key + ' button');\n",
              "      quickchartButtonEl.disabled = true;  // To prevent multiple clicks.\n",
              "      quickchartButtonEl.classList.add('colab-df-spinner');\n",
              "      try {\n",
              "        const charts = await google.colab.kernel.invokeFunction(\n",
              "            'suggestCharts', [key], {});\n",
              "      } catch (error) {\n",
              "        console.error('Error during call to suggestCharts:', error);\n",
              "      }\n",
              "      quickchartButtonEl.classList.remove('colab-df-spinner');\n",
              "      quickchartButtonEl.classList.add('colab-df-quickchart-complete');\n",
              "    }\n",
              "    (() => {\n",
              "      let quickchartButtonEl =\n",
              "        document.querySelector('#df-842ecf13-d410-4a92-b453-1c539c36b6f0 button');\n",
              "      quickchartButtonEl.style.display =\n",
              "        google.colab.kernel.accessAllowed ? 'block' : 'none';\n",
              "    })();\n",
              "  </script>\n",
              "</div>\n",
              "\n",
              "  <div id=\"id_4bdb3f9e-f04e-4064-a089-2f5f55ffbd1d\">\n",
              "    <style>\n",
              "      .colab-df-generate {\n",
              "        background-color: #E8F0FE;\n",
              "        border: none;\n",
              "        border-radius: 50%;\n",
              "        cursor: pointer;\n",
              "        display: none;\n",
              "        fill: #1967D2;\n",
              "        height: 32px;\n",
              "        padding: 0 0 0 0;\n",
              "        width: 32px;\n",
              "      }\n",
              "\n",
              "      .colab-df-generate:hover {\n",
              "        background-color: #E2EBFA;\n",
              "        box-shadow: 0px 1px 2px rgba(60, 64, 67, 0.3), 0px 1px 3px 1px rgba(60, 64, 67, 0.15);\n",
              "        fill: #174EA6;\n",
              "      }\n",
              "\n",
              "      [theme=dark] .colab-df-generate {\n",
              "        background-color: #3B4455;\n",
              "        fill: #D2E3FC;\n",
              "      }\n",
              "\n",
              "      [theme=dark] .colab-df-generate:hover {\n",
              "        background-color: #434B5C;\n",
              "        box-shadow: 0px 1px 3px 1px rgba(0, 0, 0, 0.15);\n",
              "        filter: drop-shadow(0px 1px 2px rgba(0, 0, 0, 0.3));\n",
              "        fill: #FFFFFF;\n",
              "      }\n",
              "    </style>\n",
              "    <button class=\"colab-df-generate\" onclick=\"generateWithVariable('df_features')\"\n",
              "            title=\"Generate code using this dataframe.\"\n",
              "            style=\"display:none;\">\n",
              "\n",
              "  <svg xmlns=\"http://www.w3.org/2000/svg\" height=\"24px\"viewBox=\"0 0 24 24\"\n",
              "       width=\"24px\">\n",
              "    <path d=\"M7,19H8.4L18.45,9,17,7.55,7,17.6ZM5,21V16.75L18.45,3.32a2,2,0,0,1,2.83,0l1.4,1.43a1.91,1.91,0,0,1,.58,1.4,1.91,1.91,0,0,1-.58,1.4L9.25,21ZM18.45,9,17,7.55Zm-12,3A5.31,5.31,0,0,0,4.9,8.1,5.31,5.31,0,0,0,1,6.5,5.31,5.31,0,0,0,4.9,4.9,5.31,5.31,0,0,0,6.5,1,5.31,5.31,0,0,0,8.1,4.9,5.31,5.31,0,0,0,12,6.5,5.46,5.46,0,0,0,6.5,12Z\"/>\n",
              "  </svg>\n",
              "    </button>\n",
              "    <script>\n",
              "      (() => {\n",
              "      const buttonEl =\n",
              "        document.querySelector('#id_4bdb3f9e-f04e-4064-a089-2f5f55ffbd1d button.colab-df-generate');\n",
              "      buttonEl.style.display =\n",
              "        google.colab.kernel.accessAllowed ? 'block' : 'none';\n",
              "\n",
              "      buttonEl.onclick = () => {\n",
              "        google.colab.notebook.generateWithVariable('df_features');\n",
              "      }\n",
              "      })();\n",
              "    </script>\n",
              "  </div>\n",
              "\n",
              "    </div>\n",
              "  </div>\n"
            ],
            "application/vnd.google.colaboratory.intrinsic+json": {
              "type": "dataframe",
              "variable_name": "df_features",
              "summary": "{\n  \"name\": \"df_features\",\n  \"rows\": 4760,\n  \"fields\": [\n    {\n      \"column\": \"Movie_Genre\",\n      \"properties\": {\n        \"dtype\": \"category\",\n        \"samples\": [\n          \"Family Animation Adventure\",\n          \"Adventure Science Fiction Action\",\n          \"Action Crime Drama Romance Thriller\"\n        ],\n        \"num_unique_values\": 1164,\n        \"semantic_type\": \"\",\n        \"description\": \"\"\n      }\n    },\n    {\n      \"column\": \"Movie_Keywords\",\n      \"properties\": {\n        \"dtype\": \"string\",\n        \"samples\": [\n          \"comedy cheating on partner amusement park summer job carny\",\n          \"dystopia\",\n          \"famous score hero mine vietnam war village\"\n        ],\n        \"num_unique_values\": 4202,\n        \"semantic_type\": \"\",\n        \"description\": \"\"\n      }\n    },\n    {\n      \"column\": \"Movie_Tagline\",\n      \"properties\": {\n        \"dtype\": \"string\",\n        \"samples\": [\n          \"Laughter is contagious\",\n          \"A comedy that doesn't let principles stand in the way of progress.\",\n          \"Evolution Begins\"\n        ],\n        \"num_unique_values\": 3927,\n        \"semantic_type\": \"\",\n        \"description\": \"\"\n      }\n    },\n    {\n      \"column\": \"Movie_Cast\",\n      \"properties\": {\n        \"dtype\": \"string\",\n        \"samples\": [\n          \"Robin Tunney Fairuza Balk Neve Campbell Rachel True Skeet Ulrich\",\n          \"Peter Sellers Christopher Plummer Herbert Lom Catherine Schell Peter Arne\",\n          \"Alan King Angela Bassett Timothy Hutton Mary Steenburgen Clifton James\"\n        ],\n        \"num_unique_values\": 4714,\n        \"semantic_type\": \"\",\n        \"description\": \"\"\n      }\n    },\n    {\n      \"column\": \"Movie_Director\",\n      \"properties\": {\n        \"dtype\": \"category\",\n        \"samples\": [\n          \"Dennis Gansel\",\n          \"\\\\u00c0lex Pastor\",\n          \"Michael D. Sellers\"\n        ],\n        \"num_unique_values\": 2331,\n        \"semantic_type\": \"\",\n        \"description\": \"\"\n      }\n    }\n  ]\n}"
            }
          },
          "metadata": {},
          "execution_count": 35
        }
      ]
    },
    {
      "cell_type": "code",
      "source": [
        "x=df_features['Movie_Genre']+' '+df_features['Movie_Keywords']+' '+df_features['Movie_Tagline']+' '+df_features['Movie_Cast']+' '+df_features['Movie_Director']"
      ],
      "metadata": {
        "id": "Pgs2ua_kqAtG"
      },
      "execution_count": null,
      "outputs": []
    },
    {
      "cell_type": "code",
      "source": [
        "x.shape"
      ],
      "metadata": {
        "colab": {
          "base_uri": "https://localhost:8080/"
        },
        "id": "818K5xqPto50",
        "outputId": "01e00e78-fb62-4d68-e338-56925046bfa3"
      },
      "execution_count": null,
      "outputs": [
        {
          "output_type": "execute_result",
          "data": {
            "text/plain": [
              "(4760,)"
            ]
          },
          "metadata": {},
          "execution_count": 37
        }
      ]
    },
    {
      "cell_type": "code",
      "source": [
        "# @title Get Feature Text Conversion to Tokens\n",
        "from sklearn.feature_extraction.text import TfidfVectorizer"
      ],
      "metadata": {
        "id": "8mBiVmWhAm-r"
      },
      "execution_count": null,
      "outputs": []
    },
    {
      "cell_type": "code",
      "source": [
        "tfidf=TfidfVectorizer()"
      ],
      "metadata": {
        "id": "e50uMhP0A0We"
      },
      "execution_count": null,
      "outputs": []
    },
    {
      "cell_type": "code",
      "source": [
        "x=x.dropna()"
      ],
      "metadata": {
        "id": "EHcV29PlLb5h"
      },
      "execution_count": null,
      "outputs": []
    },
    {
      "cell_type": "code",
      "source": [
        "x=tfidf.fit_transform(x)"
      ],
      "metadata": {
        "id": "ND4khwE1Czsz"
      },
      "execution_count": null,
      "outputs": []
    },
    {
      "cell_type": "code",
      "source": [
        "x.shape"
      ],
      "metadata": {
        "colab": {
          "base_uri": "https://localhost:8080/"
        },
        "id": "3wrtM_mUDpre",
        "outputId": "1aa760ee-a08c-44bf-e624-12b45068061e"
      },
      "execution_count": null,
      "outputs": [
        {
          "output_type": "execute_result",
          "data": {
            "text/plain": [
              "(3736, 14759)"
            ]
          },
          "metadata": {},
          "execution_count": 47
        }
      ]
    },
    {
      "cell_type": "code",
      "source": [
        "print(x)"
      ],
      "metadata": {
        "colab": {
          "base_uri": "https://localhost:8080/"
        },
        "id": "sPQ3G_RaDwGD",
        "outputId": "1434dad3-2050-4cc1-9a7c-9f8edd5b805e"
      },
      "execution_count": null,
      "outputs": [
        {
          "output_type": "stream",
          "name": "stdout",
          "text": [
            "  (0, 533)\t0.16530334879908432\n",
            "  (0, 428)\t0.14529564788018356\n",
            "  (0, 13193)\t0.14654624209678024\n",
            "  (0, 8247)\t0.1429806815936293\n",
            "  (0, 8077)\t0.16839197779511778\n",
            "  (0, 1178)\t0.16839197779511778\n",
            "  (0, 6720)\t0.09797108203865351\n",
            "  (0, 1034)\t0.14087647174106666\n",
            "  (0, 633)\t0.13716768874562824\n",
            "  (0, 11181)\t0.14410921558712012\n",
            "  (0, 13141)\t0.1071148073971818\n",
            "  (0, 7722)\t0.08550389969146803\n",
            "  (0, 9512)\t0.06102918319839895\n",
            "  (0, 14351)\t0.17617470128779295\n",
            "  (0, 4823)\t0.08390806983299118\n",
            "  (0, 14317)\t0.1057538055313287\n",
            "  (0, 6783)\t0.13252610359867026\n",
            "  (0, 13017)\t0.09258088052690971\n",
            "  (0, 9578)\t0.07118530081231633\n",
            "  (0, 3325)\t0.11908667405935629\n",
            "  (0, 4727)\t0.11353652902400388\n",
            "  (0, 6061)\t0.19439483865834864\n",
            "  (0, 6401)\t0.14428789593164118\n",
            "  (0, 1273)\t0.19736883449975712\n",
            "  (0, 7859)\t0.1507634050863045\n",
            "  :\t:\n",
            "  (3734, 4823)\t0.3443283025304404\n",
            "  (3735, 1631)\t0.28547208015890135\n",
            "  (3735, 6612)\t0.28547208015890135\n",
            "  (3735, 1886)\t0.28547208015890135\n",
            "  (3735, 702)\t0.28547208015890135\n",
            "  (3735, 12126)\t0.28547208015890135\n",
            "  (3735, 4987)\t0.24356027791866477\n",
            "  (3735, 13280)\t0.24356027791866477\n",
            "  (3735, 12455)\t0.23909291939890895\n",
            "  (3735, 1010)\t0.188773269159399\n",
            "  (3735, 2978)\t0.19600711976789273\n",
            "  (3735, 5712)\t0.22037069753866856\n",
            "  (3735, 11830)\t0.1616431992998853\n",
            "  (3735, 11740)\t0.14877372981124223\n",
            "  (3735, 9333)\t0.19068553205147887\n",
            "  (3735, 4685)\t0.13107094979261477\n",
            "  (3735, 2517)\t0.1660516053944935\n",
            "  (3735, 7244)\t0.23515242991939148\n",
            "  (3735, 5948)\t0.16700754164526746\n",
            "  (3735, 7171)\t0.1777830037729774\n",
            "  (3735, 13095)\t0.07507759651225496\n",
            "  (3735, 13165)\t0.09333707942399616\n",
            "  (3735, 6577)\t0.11019547548272926\n",
            "  (3735, 9287)\t0.1410283884632243\n",
            "  (3735, 3850)\t0.05959109592789017\n"
          ]
        }
      ]
    },
    {
      "cell_type": "code",
      "source": [
        "# @title Get Similarity Score using Cosine Similarity\n",
        "from sklearn.metrics.pairwise import cosine_similarity"
      ],
      "metadata": {
        "id": "4fD-aio2Dyxr"
      },
      "execution_count": null,
      "outputs": []
    },
    {
      "cell_type": "code",
      "source": [
        "similarity_score=cosine_similarity(x)"
      ],
      "metadata": {
        "id": "vHgdJY2XEHcK"
      },
      "execution_count": null,
      "outputs": []
    },
    {
      "cell_type": "code",
      "source": [
        "similarity_score"
      ],
      "metadata": {
        "colab": {
          "base_uri": "https://localhost:8080/"
        },
        "id": "b9mQKCR2EQe5",
        "outputId": "5476383e-8da8-4b29-ab0b-67d544f348eb"
      },
      "execution_count": null,
      "outputs": [
        {
          "output_type": "execute_result",
          "data": {
            "text/plain": [
              "array([[1.        , 0.01289574, 0.0334511 , ..., 0.01056339, 0.08177571,\n",
              "        0.        ],\n",
              "       [0.01289574, 1.        , 0.00764787, ..., 0.00355772, 0.01768302,\n",
              "        0.        ],\n",
              "       [0.0334511 , 0.00764787, 1.        , ..., 0.02000874, 0.05554614,\n",
              "        0.        ],\n",
              "       ...,\n",
              "       [0.01056339, 0.00355772, 0.02000874, ..., 1.        , 0.00392828,\n",
              "        0.0083293 ],\n",
              "       [0.08177571, 0.01768302, 0.05554614, ..., 0.00392828, 1.        ,\n",
              "        0.        ],\n",
              "       [0.        , 0.        , 0.        , ..., 0.0083293 , 0.        ,\n",
              "        1.        ]])"
            ]
          },
          "metadata": {},
          "execution_count": 54
        }
      ]
    },
    {
      "cell_type": "code",
      "source": [
        "similarity_score.shape"
      ],
      "metadata": {
        "colab": {
          "base_uri": "https://localhost:8080/"
        },
        "id": "LKzLul-0EUA4",
        "outputId": "745bc720-854d-45d9-a03e-37ea99eaad78"
      },
      "execution_count": null,
      "outputs": [
        {
          "output_type": "execute_result",
          "data": {
            "text/plain": [
              "(3736, 3736)"
            ]
          },
          "metadata": {},
          "execution_count": 51
        }
      ]
    },
    {
      "cell_type": "code",
      "source": [
        "# @title Get Movie Name as Input from User and Validate for Closest Spelling\n",
        "Favorite_Movie_Name=input('Enter your favourite movie name: ')"
      ],
      "metadata": {
        "colab": {
          "base_uri": "https://localhost:8080/"
        },
        "id": "iPZnhp7YEZtE",
        "outputId": "e7070271-984e-4c67-af32-11b07521629b"
      },
      "execution_count": null,
      "outputs": [
        {
          "name": "stdout",
          "output_type": "stream",
          "text": [
            "Enter your favourite movie name: avataar\n"
          ]
        }
      ]
    },
    {
      "cell_type": "code",
      "source": [
        "All_Movies_List=df['Movie_Title'].tolist()"
      ],
      "metadata": {
        "id": "biLTPUW5E78v"
      },
      "execution_count": null,
      "outputs": []
    },
    {
      "cell_type": "code",
      "source": [
        "import difflib"
      ],
      "metadata": {
        "id": "k-Paza_SEr4A"
      },
      "execution_count": null,
      "outputs": []
    },
    {
      "cell_type": "code",
      "source": [
        "Movie_Recommendation = difflib.get_close_matches(Favorite_Movie_Name,All_Movies_List)\n",
        "print(Movie_Recommendation)"
      ],
      "metadata": {
        "colab": {
          "base_uri": "https://localhost:8080/"
        },
        "id": "H5iuqsZ_EvFf",
        "outputId": "f69ab461-1611-4efa-93e0-66dbbb267f8f"
      },
      "execution_count": null,
      "outputs": [
        {
          "output_type": "stream",
          "name": "stdout",
          "text": [
            "['Avatar']\n"
          ]
        }
      ]
    },
    {
      "cell_type": "code",
      "source": [
        "Close_Match = Movie_Recommendation[0]\n",
        "print(Close_Match)"
      ],
      "metadata": {
        "colab": {
          "base_uri": "https://localhost:8080/"
        },
        "id": "p2NlvMf0FMWa",
        "outputId": "6cbb4c91-77e1-4c1e-95d5-15c5d5fce7d3"
      },
      "execution_count": null,
      "outputs": [
        {
          "output_type": "stream",
          "name": "stdout",
          "text": [
            "Avatar\n"
          ]
        }
      ]
    },
    {
      "cell_type": "code",
      "source": [
        "Index_of_Close_Match_Movie = df[df.Movie_Title == Close_Match]['Movie_ID'].values[0]\n",
        "print(Index_of_Close_Match_Movie)"
      ],
      "metadata": {
        "colab": {
          "base_uri": "https://localhost:8080/"
        },
        "id": "OHr924MzFw18",
        "outputId": "74f955da-bd0a-4f15-a2c4-66a90d72e39d"
      },
      "execution_count": null,
      "outputs": [
        {
          "output_type": "stream",
          "name": "stdout",
          "text": [
            "2692\n"
          ]
        }
      ]
    },
    {
      "cell_type": "code",
      "source": [
        "#Getting a list of similar movies\n",
        "Recommendation_Score = list(enumerate(similarity_score[Index_of_Close_Match_Movie]))\n",
        "print(Recommendation_Score)"
      ],
      "metadata": {
        "colab": {
          "base_uri": "https://localhost:8080/"
        },
        "id": "J_02aSx6GJ5c",
        "outputId": "792f4d5a-f713-4ac1-e3a0-fc888b0ee36e"
      },
      "execution_count": null,
      "outputs": [
        {
          "output_type": "stream",
          "name": "stdout",
          "text": [
            "[(0, 0.02810132292072254), (1, 0.0), (2, 0.0033441661431398363), (3, 0.028672376085640158), (4, 0.0032362086549814675), (5, 0.010593746628654676), (6, 0.008935786976419896), (7, 0.010613812253395557), (8, 0.016858798343063797), (9, 0.004126257811281864), (10, 0.01504097688278403), (11, 0.016318484868958524), (12, 0.013106938561578461), (13, 0.04011119497071579), (14, 0.057572715227037705), (15, 0.0025665902923918383), (16, 0.008838532518006741), (17, 0.029956758074027257), (18, 0.009517464518565825), (19, 0.011848975910119327), (20, 0.003292967489402923), (21, 0.010567319118437824), (22, 0.019067044670902644), (23, 0.02383828969627412), (24, 0.03472167929013713), (25, 0.0029882826406217905), (26, 0.0), (27, 0.00796186580050888), (28, 0.04116824238132938), (29, 0.0), (30, 0.002910552206111026), (31, 0.008489815004662497), (32, 0.026074037632716054), (33, 0.0032149645321752364), (34, 0.03646778682915644), (35, 0.0), (36, 0.01826873710612063), (37, 0.018260264208357156), (38, 0.007865735862047517), (39, 0.020688778859098804), (40, 0.01179036882488671), (41, 0.027555093041018053), (42, 0.008183890897917913), (43, 0.014662472315157283), (44, 0.0), (45, 0.0), (46, 0.01671310149043634), (47, 0.05230328243589736), (48, 0.0038729589170304816), (49, 0.01056163624315346), (50, 0.010188060254331981), (51, 0.011632385794677772), (52, 0.007734387921647467), (53, 0.00868989716530876), (54, 0.02333710881033401), (55, 0.020888210226251293), (56, 0.00963533927591598), (57, 0.004050467410377822), (58, 0.021178480063209), (59, 0.01824877431988803), (60, 0.03514834217958201), (61, 0.04220884802560416), (62, 0.016650737118159138), (63, 0.01209449354222634), (64, 0.010647964612980221), (65, 0.022958838560577493), (66, 0.02901486400276132), (67, 0.0), (68, 0.010274494090254644), (69, 0.011814124874387731), (70, 0.02851404791907229), (71, 0.011561838083984598), (72, 0.019491635980777636), (73, 0.006152168662832157), (74, 0.0), (75, 0.00895642137339402), (76, 0.029153971712920505), (77, 0.003573925029714723), (78, 0.0), (79, 0.021556334347822566), (80, 0.010735193638881983), (81, 0.01198233822210101), (82, 0.02431515562516006), (83, 0.05370833864344566), (84, 0.026480286691010373), (85, 0.0032369104494564295), (86, 0.009337233260597488), (87, 0.0), (88, 0.006955424379629543), (89, 0.0027289780456633533), (90, 0.007931624090797966), (91, 0.0035694327196532025), (92, 0.0), (93, 0.020739827546941113), (94, 0.006142321703757907), (95, 0.0030153354767330992), (96, 0.0), (97, 0.0), (98, 0.008694390427783465), (99, 0.013356516322434875), (100, 0.012140522239469322), (101, 0.01373382727041252), (102, 0.08248257797773917), (103, 0.021604234675563577), (104, 0.012859533450654305), (105, 0.05586118969483011), (106, 0.025311355965645942), (107, 0.01507695676687959), (108, 0.009900265303354566), (109, 0.006650792679134397), (110, 0.020160280181075435), (111, 0.01399282486550718), (112, 0.022712994189336557), (113, 0.009474888081592305), (114, 0.0), (115, 0.03791426415667942), (116, 0.017220925049741903), (117, 0.023621198317839032), (118, 0.029648991604122488), (119, 0.034133984679359804), (120, 0.029236730317635448), (121, 0.007749445354575241), (122, 0.0029167014556941455), (123, 0.010964342792538691), (124, 0.0), (125, 0.07338176461777683), (126, 0.022949891558435062), (127, 0.055507167783511606), (128, 0.008934988111378696), (129, 0.00784288191990916), (130, 0.002847190424989343), (131, 0.01876172897642924), (132, 0.011522484306756788), (133, 0.004270785282531122), (134, 0.00815587285367518), (135, 0.03731317372329378), (136, 0.038930439348573195), (137, 0.0), (138, 0.011785830982770702), (139, 0.00849701373295685), (140, 0.0035355936237610693), (141, 0.002512316222482739), (142, 0.018936257824922975), (143, 0.015930340537177744), (144, 0.0037658834195617654), (145, 0.009168687774223689), (146, 0.002897225675265209), (147, 0.022164536790551435), (148, 0.020030785896073707), (149, 0.002777382196876601), (150, 0.02956980095870629), (151, 0.030301072238973326), (152, 0.03153181073968938), (153, 0.012879702235537374), (154, 0.0), (155, 0.009387590229868901), (156, 0.009412582896976534), (157, 0.006178001983755315), (158, 0.018895537398594293), (159, 0.030780876739478873), (160, 0.025696818191051702), (161, 0.05759366181819224), (162, 0.003696758244413222), (163, 0.027345919192087984), (164, 0.010302903648264123), (165, 0.02855460728841446), (166, 0.01240116355772375), (167, 0.03580312132231377), (168, 0.0037669655431102106), (169, 0.0), (170, 0.024153056297142577), (171, 0.021827022358196817), (172, 0.009005825448455924), (173, 0.0061416413075439), (174, 0.010175833832729917), (175, 0.0032606796914954874), (176, 0.0), (177, 0.003909717993521233), (178, 0.002638706258145449), (179, 0.021202674388800857), (180, 0.03154044634343378), (181, 0.03468771213723896), (182, 0.02480469407842256), (183, 0.027722016938639505), (184, 0.02882243845567992), (185, 0.01030206520809544), (186, 0.008994216973583574), (187, 0.002731045924701437), (188, 0.0040594373222497745), (189, 0.032697229700869336), (190, 0.002922685594435656), (191, 0.06591821845614505), (192, 0.012111817594568529), (193, 0.003263453553018189), (194, 0.0), (195, 0.02683077311601818), (196, 0.013835277826119947), (197, 0.03895766229872209), (198, 0.02790630025986444), (199, 0.0028803887354809346), (200, 0.02871032613182015), (201, 0.018155322755732867), (202, 0.007184893886353688), (203, 0.024201388965125484), (204, 0.02331369340494074), (205, 0.04177272722254496), (206, 0.008231592813674521), (207, 0.017003086846181587), (208, 0.0248747909111892), (209, 0.011716479121336925), (210, 0.007682670946524365), (211, 0.06499654509023325), (212, 0.011373380688874364), (213, 0.01446571116681264), (214, 0.025420504354579126), (215, 0.006620645480016334), (216, 0.03989245052142192), (217, 0.03786840085254639), (218, 0.0), (219, 0.010430923202896455), (220, 0.0034962617302742686), (221, 0.002904684087702919), (222, 0.026290813199053097), (223, 0.007133996721197679), (224, 0.020532868256466146), (225, 0.010598213375774192), (226, 0.0), (227, 0.02215201884191117), (228, 0.017653132092267772), (229, 0.0), (230, 0.011635999676663653), (231, 0.0030449711054024863), (232, 0.0504593402379094), (233, 0.05525843474604227), (234, 0.004363457893501434), (235, 0.022361026331332384), (236, 0.01669149534190942), (237, 0.010562052309769593), (238, 0.002319809693434677), (239, 0.040231755565478755), (240, 0.0), (241, 0.01529607407761242), (242, 0.0037228146550629276), (243, 0.0037825999833529843), (244, 0.05997441864865028), (245, 0.06371794874066457), (246, 0.03210282310396705), (247, 0.0), (248, 0.03511028042126755), (249, 0.0026012104442477593), (250, 0.0027400545422878674), (251, 0.03609141767039861), (252, 0.011112844399109305), (253, 0.012935486091877432), (254, 0.01913999645611729), (255, 0.006545658014686399), (256, 0.0035328111223004847), (257, 0.029704290951614906), (258, 0.0028925023739822214), (259, 0.0409444526249956), (260, 0.012072850831790907), (261, 0.01669213460874318), (262, 0.029716664883441712), (263, 0.01789056297896808), (264, 0.031692840221045425), (265, 0.0037331679196385146), (266, 0.002774057950267165), (267, 0.0026674030076229037), (268, 0.020126788278723776), (269, 0.018842502733918624), (270, 0.03387738034481798), (271, 0.0), (272, 0.011068234101901366), (273, 0.013303630011612664), (274, 0.0049658902644861645), (275, 0.015756002540288663), (276, 0.02664547357879285), (277, 0.012370615188034124), (278, 0.024774197802566435), (279, 0.029055008715770957), (280, 0.00390627541363879), (281, 0.006460512847864158), (282, 0.011301180764066925), (283, 0.020189482023072677), (284, 0.0), (285, 0.0), (286, 0.056755699041571274), (287, 0.02180730442865013), (288, 0.009293072322681877), (289, 0.02561280324637192), (290, 0.02224738072852816), (291, 0.0036774514700898143), (292, 0.01098710126181741), (293, 0.007018388544542454), (294, 0.01931735597259747), (295, 0.007589410604416844), (296, 0.0), (297, 0.03891777673973665), (298, 0.02276386545912944), (299, 0.022272099092989304), (300, 0.0), (301, 0.013807017129469691), (302, 0.045937997764558564), (303, 0.02174804536260161), (304, 0.01336016076298787), (305, 0.020390914255418016), (306, 0.03190701417936195), (307, 0.027647993279650437), (308, 0.024182791484373876), (309, 0.03165258943120496), (310, 0.007784421051473966), (311, 0.010196742541820592), (312, 0.006733280031663654), (313, 0.04687513037164654), (314, 0.0035999081969902216), (315, 0.03426537833816552), (316, 0.017621770334189244), (317, 0.017664349136067074), (318, 0.018684126656783324), (319, 0.007272387308296937), (320, 0.01568876764675916), (321, 0.014966676073772783), (322, 0.03478351128126103), (323, 0.012321433245838315), (324, 0.00757865890640628), (325, 0.01755752469320589), (326, 0.019248845743893402), (327, 0.022244563169145623), (328, 0.003004270623621319), (329, 0.03408629200130248), (330, 0.005349470838963569), (331, 0.00355000880435086), (332, 0.02231203957727059), (333, 0.03144665608803448), (334, 0.00934044950098397), (335, 0.027751596194861915), (336, 0.04356024792506524), (337, 0.02284527320661089), (338, 0.002812491973507965), (339, 0.007226722545847525), (340, 0.008305287260569814), (341, 0.004343793326580151), (342, 0.03389769541032066), (343, 0.002669464307636856), (344, 0.00437333292045155), (345, 0.009379049872255824), (346, 0.0037808753112318736), (347, 0.009335775843009854), (348, 0.006000816360864087), (349, 0.00306574950951426), (350, 0.02531108766361856), (351, 0.024555649713633207), (352, 0.024184052402537622), (353, 0.016334070034835283), (354, 0.0), (355, 0.0), (356, 0.023058331481704296), (357, 0.018572963014093405), (358, 0.0), (359, 0.004462302637172753), (360, 0.022960281215160066), (361, 0.0), (362, 0.003499309969815929), (363, 0.00798982673349545), (364, 0.07037912847988534), (365, 0.0070191892754976), (366, 0.014347162166774868), (367, 0.013224047951178826), (368, 0.016321577933963296), (369, 0.0), (370, 0.03368040888679716), (371, 0.0034499923111076863), (372, 0.019743125708543533), (373, 0.003306092329444589), (374, 0.0029761709059046844), (375, 0.0), (376, 0.01100523528006683), (377, 0.002860312628616104), (378, 0.0030395106789257416), (379, 0.003929591868325364), (380, 0.02090483941985613), (381, 0.0038268662734679405), (382, 0.11163690913567327), (383, 0.04103606490201475), (384, 0.03256758134651052), (385, 0.007186228514573227), (386, 0.019994159944702647), (387, 0.0035618152472346527), (388, 0.027107303447929325), (389, 0.050853876794139656), (390, 0.008045796604358153), (391, 0.004137863761955221), (392, 0.013508637308036843), (393, 0.02946202149651588), (394, 0.028974168109158153), (395, 0.0042135650204683), (396, 0.012470156363720872), (397, 0.01830092275544627), (398, 0.0), (399, 0.004429743662563715), (400, 0.049403642899410176), (401, 0.026361555019538983), (402, 0.00747094027964108), (403, 0.015911909725925707), (404, 0.0032076948520076676), (405, 0.003304222669980602), (406, 0.0026414273981874895), (407, 0.039583488290511865), (408, 0.022835180863189978), (409, 0.0), (410, 0.012721395344252704), (411, 0.0), (412, 0.03490895219623657), (413, 0.020218734406862574), (414, 0.014576525154164481), (415, 0.005788915019430828), (416, 0.0035794027939481635), (417, 0.0034252527415058074), (418, 0.014878315370752054), (419, 0.009587829662166284), (420, 0.011070153582528514), (421, 0.01609532714995222), (422, 0.00890859266568583), (423, 0.0033777223134559167), (424, 0.015928641046343523), (425, 0.021419443881144716), (426, 0.002348810337043218), (427, 0.0072370456193132805), (428, 0.03525562196905684), (429, 0.026918355447104678), (430, 0.002820142279999524), (431, 0.003447279058229437), (432, 0.003837844593696375), (433, 0.007764894755695295), (434, 0.023859031056054192), (435, 0.02403516150423074), (436, 0.02161243306449721), (437, 0.010468526821856448), (438, 0.015352999164488845), (439, 0.02081161105023829), (440, 0.025675578423128315), (441, 0.010442591002280822), (442, 0.013093585308880773), (443, 0.03776552975794859), (444, 0.011518578169020978), (445, 0.02202209805374616), (446, 0.01835740808037435), (447, 0.006954842221472841), (448, 0.0027152078911760026), (449, 0.003357969680182807), (450, 0.02375088799687829), (451, 0.005195869378999078), (452, 0.011344741447431582), (453, 0.010858779050551551), (454, 0.009971828900817974), (455, 0.030320446727018207), (456, 0.01949536316762515), (457, 0.03967514178680587), (458, 0.006068519870248833), (459, 0.04907728800769416), (460, 0.006967713680217809), (461, 0.007406197371283467), (462, 0.0033233676284015533), (463, 0.007645729242607057), (464, 0.006832525939698823), (465, 0.00323675267489283), (466, 0.0038399170877391), (467, 0.017917600767375724), (468, 0.00930200489324498), (469, 0.010271539696653747), (470, 0.012397992952635701), (471, 0.003168513307213044), (472, 0.037040312481431206), (473, 0.022824816554039326), (474, 0.014486387962152564), (475, 0.0), (476, 0.0), (477, 0.02021781272034459), (478, 0.0), (479, 0.03838806285192069), (480, 0.00868852614084425), (481, 0.042131571807678556), (482, 0.028694533282067513), (483, 0.002996432656147738), (484, 0.04068391382665273), (485, 0.016390675843507382), (486, 0.03683540655809432), (487, 0.01311858555536521), (488, 0.011658442464431885), (489, 0.014792037661896101), (490, 0.015827788328307835), (491, 0.017815139854502105), (492, 0.003645070016377126), (493, 0.026924175546032228), (494, 0.03187627802763368), (495, 0.004172876976131834), (496, 0.007746146058310536), (497, 0.08433623261709287), (498, 0.0), (499, 0.007193469514629232), (500, 0.022865331434539896), (501, 0.041537753209782285), (502, 0.003214853175399415), (503, 0.035125097883621184), (504, 0.03864510236613022), (505, 0.0038104981194410055), (506, 0.01733620026768805), (507, 0.011327539522300293), (508, 0.0035974308930047335), (509, 0.0), (510, 0.03772326476162053), (511, 0.0), (512, 0.0362365828842799), (513, 0.019631034573968257), (514, 0.02410123417547133), (515, 0.0073210772580931125), (516, 0.015118979246425924), (517, 0.0028454463288810922), (518, 0.0), (519, 0.003905653536600897), (520, 0.0251718909661397), (521, 0.02766350573222831), (522, 0.016513005627851803), (523, 0.0), (524, 0.036938441567453364), (525, 0.0), (526, 0.02117349313299182), (527, 0.1043446324012828), (528, 0.0023759569244426377), (529, 0.0), (530, 0.0), (531, 0.0032080230856645024), (532, 0.021266950659145314), (533, 0.01006264060248419), (534, 0.014063723327930149), (535, 0.003220353437789212), (536, 0.00279508845065197), (537, 0.0207483787921863), (538, 0.056736263300795224), (539, 0.003196847529108449), (540, 0.04178724664381982), (541, 0.004101694435258018), (542, 0.01098096226140995), (543, 0.023124562202029634), (544, 0.02834942085889771), (545, 0.0064275555542012705), (546, 0.0), (547, 0.0), (548, 0.03499479766818073), (549, 0.019364722687286427), (550, 0.0028754209340411604), (551, 0.0041039517625498165), (552, 0.02740831974063941), (553, 0.0), (554, 0.0), (555, 0.012870929799871618), (556, 0.0028319726241380215), (557, 0.05640814232283977), (558, 0.010491861600761019), (559, 0.020547898677597307), (560, 0.00911224107252762), (561, 0.08916191531989723), (562, 0.0038570508083578814), (563, 0.004935109768772513), (564, 0.01890140557678473), (565, 0.019194237867608446), (566, 0.007984856771308838), (567, 0.02781158191479128), (568, 0.008187686196540294), (569, 0.0026099214009219565), (570, 0.02528504893246546), (571, 0.0), (572, 0.016045369393763095), (573, 0.006437108655432207), (574, 0.019419016993491474), (575, 0.010756151429480866), (576, 0.002832013721190005), (577, 0.0), (578, 0.0026227976318021467), (579, 0.003095217098054047), (580, 0.009132569964682749), (581, 0.003985336045751473), (582, 0.014168421330884076), (583, 0.0035506451017644487), (584, 0.0), (585, 0.0), (586, 0.03353022095853653), (587, 0.003105378428696902), (588, 0.010944381472252952), (589, 0.016413499569808553), (590, 0.003291946315746845), (591, 0.012874557428075046), (592, 0.02169774780674377), (593, 0.009174505468735366), (594, 0.01334470578389842), (595, 0.013071572754697034), (596, 0.008734522707097826), (597, 0.002676270691889812), (598, 0.024048850988225248), (599, 0.010426654718335286), (600, 0.0), (601, 0.009522132776652219), (602, 0.0031385238461296714), (603, 0.03797002763669426), (604, 0.03509145467345092), (605, 0.01652051515602411), (606, 0.008002546175462347), (607, 0.03288596259634691), (608, 0.015379503251468888), (609, 0.056659664676045725), (610, 0.052816843473331904), (611, 0.003630328093512845), (612, 0.011073378773228292), (613, 0.0), (614, 0.012953782830941313), (615, 0.02231332165990082), (616, 0.004391328258663753), (617, 0.0030950412859388115), (618, 0.046078143490737286), (619, 0.003755501330035454), (620, 0.01832511636976877), (621, 0.024298115415032517), (622, 0.0033502421905719456), (623, 0.0), (624, 0.05228040490628594), (625, 0.027277498484049388), (626, 0.004276545226927264), (627, 0.013291270600253062), (628, 0.05530340460441344), (629, 0.016262303457242812), (630, 0.0044308366884554745), (631, 0.0), (632, 0.01707473470925762), (633, 0.03228823359065143), (634, 0.14034629968516035), (635, 0.0), (636, 0.011811080460752809), (637, 0.0293790888664901), (638, 0.014432966211626562), (639, 0.04732121909282385), (640, 0.025927359742037456), (641, 0.017386846354452083), (642, 0.0), (643, 0.0106886413562036), (644, 0.04108146330433246), (645, 0.009530973025718426), (646, 0.007038052945533117), (647, 0.011951017248152116), (648, 0.0078016622033818366), (649, 0.010762739314542955), (650, 0.012544984225495522), (651, 0.01504505575873617), (652, 0.056506188220596734), (653, 0.005836262843756641), (654, 0.004030389813985652), (655, 0.021981441998294875), (656, 0.024608200188828293), (657, 0.004575205410765072), (658, 0.012742779041384444), (659, 0.09650459288727899), (660, 0.0), (661, 0.010820107643236054), (662, 0.0032391606792285072), (663, 0.007234506102211786), (664, 0.0), (665, 0.023250119719567967), (666, 0.0062395664548898725), (667, 0.03473184439252487), (668, 0.0), (669, 0.0033041142556811537), (670, 0.028197127576023953), (671, 0.03480424332091491), (672, 0.003331911520077108), (673, 0.003441881403347451), (674, 0.003995568149311557), (675, 0.014232859695409104), (676, 0.04207536199672889), (677, 0.02927459064297034), (678, 0.02402335472803323), (679, 0.014942961212637197), (680, 0.055574872963709124), (681, 0.018847610503305207), (682, 0.021151692415034846), (683, 0.03478070340506261), (684, 0.017838279470493764), (685, 0.03216644732107388), (686, 0.010942110249183143), (687, 0.03370797722600659), (688, 0.0036467526953664524), (689, 0.0), (690, 0.021559184270973624), (691, 0.03701202358320666), (692, 0.047037057492243135), (693, 0.003146239816738494), (694, 0.004749248080877481), (695, 0.015237484219378164), (696, 0.011729187634396322), (697, 0.006764666948057033), (698, 0.00343246441896142), (699, 0.05521735711193492), (700, 0.017718865382671527), (701, 0.013862913629816473), (702, 0.012439655735196627), (703, 0.018582403369328725), (704, 0.01366355543786817), (705, 0.004107052947342367), (706, 0.00905776507246915), (707, 0.013783213745266105), (708, 0.04443931768574547), (709, 0.006922448111365748), (710, 0.011367729296038687), (711, 0.004221022117325078), (712, 0.003755273183905766), (713, 0.014393556254138032), (714, 0.018995603905741554), (715, 0.016349220325943957), (716, 0.010758599974317043), (717, 0.01888492769233631), (718, 0.010414025666810642), (719, 0.02714399335868995), (720, 0.04026180769410427), (721, 0.013258207597840018), (722, 0.026312662279419363), (723, 0.015468107986879774), (724, 0.01788798684099696), (725, 0.03166299785261859), (726, 0.039122252150888534), (727, 0.0037628245260059915), (728, 0.012173190343178403), (729, 0.03811099581531825), (730, 0.00408677420660418), (731, 0.03539925719226163), (732, 0.012963829372530256), (733, 0.008420335817094634), (734, 0.02807914051309834), (735, 0.010356504440300654), (736, 0.0030119252044825467), (737, 0.042411440195927685), (738, 0.00695105450155187), (739, 0.06674870988428164), (740, 0.04412607639135652), (741, 0.021089103693422033), (742, 0.014163138093798303), (743, 0.011017431164105598), (744, 0.015242461076527136), (745, 0.014728909246997358), (746, 0.053410067354681165), (747, 0.03811566376118891), (748, 0.0083921560274059), (749, 0.006435746685580275), (750, 0.02001811392273805), (751, 0.025598553587416084), (752, 0.03456520182602703), (753, 0.0025045644994823616), (754, 0.009469848328917256), (755, 0.018523234318824282), (756, 0.006642973432046805), (757, 0.027187300204707842), (758, 0.013318759513009374), (759, 0.011547370801397892), (760, 0.04091099765121853), (761, 0.0), (762, 0.007088611957398262), (763, 0.018052502809925267), (764, 0.013388366556054382), (765, 0.010628775426856304), (766, 0.0021690872872044283), (767, 0.007015448019299354), (768, 0.006366995972785577), (769, 0.006731307335618429), (770, 0.006415382367510096), (771, 0.00346813662529299), (772, 0.0030233262295419), (773, 0.015466664510185142), (774, 0.0044061966953022605), (775, 0.015137631425387703), (776, 0.013327963974804867), (777, 0.004799063373993052), (778, 0.013906978327287059), (779, 0.029103444464732602), (780, 0.03256314561646015), (781, 0.08762283619059537), (782, 0.04570331665299549), (783, 0.011470452065082338), (784, 0.003918985540206771), (785, 0.013971206940913989), (786, 0.006141066702017047), (787, 0.04082877854430274), (788, 0.05486346746838265), (789, 0.013880874579537492), (790, 0.0), (791, 0.0027681775537477873), (792, 0.01116041393950621), (793, 0.012551586957448813), (794, 0.025324685116739423), (795, 0.002657928750466932), (796, 0.047414412088840584), (797, 0.0028062502002677288), (798, 0.013838565065782253), (799, 0.04800883494435745), (800, 0.02540456933664577), (801, 0.02713047305492946), (802, 0.010598965839567763), (803, 0.004026554825995064), (804, 0.013460941812698819), (805, 0.018797962430636455), (806, 0.024046029021981476), (807, 0.028310548192416993), (808, 0.01522240389020171), (809, 0.06621069990377726), (810, 0.0), (811, 0.04157305736745434), (812, 0.014694989601613247), (813, 0.009892601423155433), (814, 0.012336713030781578), (815, 0.0034413086248249363), (816, 0.044675163645877244), (817, 0.015905169372550414), (818, 0.016134291633127837), (819, 0.006490212982627294), (820, 0.0033582774250046766), (821, 0.01259091283592647), (822, 0.018804865393574198), (823, 0.04233222886352921), (824, 0.010015541563165802), (825, 0.00746302317037381), (826, 0.014461115917862696), (827, 0.080070166609063), (828, 0.011554966264580416), (829, 0.029205534084751412), (830, 0.024820189613006565), (831, 0.018927039415643904), (832, 0.00921532512641612), (833, 0.019984735017142454), (834, 0.020869111151578953), (835, 0.01880094215304191), (836, 0.004515113385546595), (837, 0.013550184490934838), (838, 0.035562798503113516), (839, 0.015551770136241237), (840, 0.0), (841, 0.002825583871430542), (842, 0.03964531372820786), (843, 0.010084220272138306), (844, 0.004119494331217578), (845, 0.0037613278473299303), (846, 0.013452190476841486), (847, 0.011797107614631007), (848, 0.003946295364449331), (849, 0.010555664856238356), (850, 0.053021404727111685), (851, 0.014672370209023036), (852, 0.018127995218618492), (853, 0.030833582009946667), (854, 0.0), (855, 0.004063760340974744), (856, 0.01820222878811055), (857, 0.018956238530359586), (858, 0.032137103201763544), (859, 0.02594028796065248), (860, 0.03627490065570757), (861, 0.013721929728169128), (862, 0.022843403555791755), (863, 0.030828999127042955), (864, 0.013720127504958546), (865, 0.014727648951938085), (866, 0.002495083355254646), (867, 0.023793513372196082), (868, 0.007901097475454144), (869, 0.04754446496950315), (870, 0.018760120068085615), (871, 0.030703350476505003), (872, 0.026387050939479954), (873, 0.005905189196742867), (874, 0.056705563212592944), (875, 0.024729993067952084), (876, 0.0), (877, 0.004605308693293328), (878, 0.012646547769615298), (879, 0.049131373224761944), (880, 0.03159547374184432), (881, 0.009859696328583103), (882, 0.0), (883, 0.03406919857838926), (884, 0.01657457876513896), (885, 0.024320363149072773), (886, 0.02748782702613701), (887, 0.003918750608014222), (888, 0.034364782192140404), (889, 0.0033895319536626023), (890, 0.02941541526215357), (891, 0.023589639569178478), (892, 0.0259597273204981), (893, 0.022963766435710093), (894, 0.003000043612113193), (895, 0.021548985814446683), (896, 0.03921789361344737), (897, 0.042561643946387305), (898, 0.0), (899, 0.009065472757081782), (900, 0.017905314387307174), (901, 0.005979998416504818), (902, 0.011775351348718788), (903, 0.024172558991464498), (904, 0.020509013553821502), (905, 0.01073642106623823), (906, 0.0217263765054584), (907, 0.01601975981949215), (908, 0.011020550464199023), (909, 0.015164717396695903), (910, 0.0030310114571829006), (911, 0.004315748425442336), (912, 0.0033145826574888697), (913, 0.0), (914, 0.006937836965598126), (915, 0.04959640527149991), (916, 0.01531001048826675), (917, 0.007421991535062306), (918, 0.0062550374133475755), (919, 0.05905875019374007), (920, 0.0244260497343828), (921, 0.0), (922, 0.0027617282563696726), (923, 0.013468900580377332), (924, 0.018371241139432826), (925, 0.007383574204687982), (926, 0.02820204256736818), (927, 0.015474772535556645), (928, 0.006642231701984592), (929, 0.004417570867678497), (930, 0.006722617332478531), (931, 0.004144502404297601), (932, 0.007816943659805568), (933, 0.010692447710883606), (934, 0.0), (935, 0.017725807000092884), (936, 0.009361564028863404), (937, 0.013612095845968196), (938, 0.016041951104858905), (939, 0.018890067103857884), (940, 0.004078064355972536), (941, 0.006961066466254351), (942, 0.01732514874437142), (943, 0.009692624759140678), (944, 0.05177043671962767), (945, 0.011101086872410066), (946, 0.010916633162984007), (947, 0.01289414963539504), (948, 0.00291160494826516), (949, 0.04514673198583921), (950, 0.016835064106522593), (951, 0.014125106255170848), (952, 0.01006331380692522), (953, 0.007914374710897317), (954, 0.02903166545519007), (955, 0.006983667187160887), (956, 0.025274745074191578), (957, 0.01588104539953896), (958, 0.03254314951616934), (959, 0.01833993890700058), (960, 0.0), (961, 0.0033199894334073323), (962, 0.01696144623206049), (963, 0.014230177256044745), (964, 0.009626412134331212), (965, 0.013002403146083894), (966, 0.003669220437797791), (967, 0.026550260536371318), (968, 0.01324283630166468), (969, 0.0), (970, 0.024838547547544183), (971, 0.00689518384258582), (972, 0.03209542722796446), (973, 0.016737863764190924), (974, 0.015980018602203896), (975, 0.0), (976, 0.007173849359763886), (977, 0.007882904213184466), (978, 0.009832476784805099), (979, 0.01686421992142926), (980, 0.01990270760096896), (981, 0.010345687199971709), (982, 0.0349529395672609), (983, 0.02516421012109507), (984, 0.041505092200203264), (985, 0.029783082966526788), (986, 0.02045332053778782), (987, 0.02784532505725555), (988, 0.0), (989, 0.020060238358085486), (990, 0.037376891793738674), (991, 0.003989992485953354), (992, 0.006952090704981552), (993, 0.01793706400591894), (994, 0.031055279094828313), (995, 0.004321860454394332), (996, 0.028942505662612687), (997, 0.009126583503216499), (998, 0.0), (999, 0.003551922174106023), (1000, 0.01736746309573106), (1001, 0.01305455480837243), (1002, 0.009566785635023662), (1003, 0.015189014267567868), (1004, 0.0025035919073190826), (1005, 0.011231986415803094), (1006, 0.04801321967362347), (1007, 0.020630110398786695), (1008, 0.003068843199529781), (1009, 0.004242691037151373), (1010, 0.004062518141899966), (1011, 0.02038876864558078), (1012, 0.018460438484108086), (1013, 0.0028829055523727437), (1014, 0.0039954900089008575), (1015, 0.028384886895197504), (1016, 0.003018724170018667), (1017, 0.030843115635146384), (1018, 0.03585924376409478), (1019, 0.011265722433808864), (1020, 0.02656205626751351), (1021, 0.0031611820420538142), (1022, 0.015102540388150069), (1023, 0.006731124082613614), (1024, 0.025142679847673027), (1025, 0.04246190246819913), (1026, 0.003340040116735497), (1027, 0.01801643520859223), (1028, 0.0029385495700025117), (1029, 0.022690661157040354), (1030, 0.03552702849167459), (1031, 0.010805856180690313), (1032, 0.0), (1033, 0.006577452684452092), (1034, 0.021476219237529494), (1035, 0.015202423388945544), (1036, 0.003090875100740261), (1037, 0.0066475053379075125), (1038, 0.003946553432270273), (1039, 0.007537169682717004), (1040, 0.0), (1041, 0.015462855588690361), (1042, 0.01304145553208496), (1043, 0.01885196407740394), (1044, 0.0312941704894438), (1045, 0.01566380406738642), (1046, 0.010539894984655185), (1047, 0.004061000572874996), (1048, 0.0), (1049, 0.010805635388305037), (1050, 0.010286587616294503), (1051, 0.10050218735899184), (1052, 0.004201545618928137), (1053, 0.0154915483236999), (1054, 0.003651447647723986), (1055, 0.002763175072649747), (1056, 0.031828949790905454), (1057, 0.008108481741465877), (1058, 0.003230763417038196), (1059, 0.033051591426677074), (1060, 0.022153167249478245), (1061, 0.014836780095709951), (1062, 0.011324515750333927), (1063, 0.0235489723450524), (1064, 0.0040709341204384205), (1065, 0.004017823573946981), (1066, 0.0), (1067, 0.018241258712763116), (1068, 0.008150102580278899), (1069, 0.038298913315923167), (1070, 0.003552156199484247), (1071, 0.006785022996132926), (1072, 0.01310336558881715), (1073, 0.0031493048239913685), (1074, 0.010237725312451661), (1075, 0.0031506179782128233), (1076, 0.0180437551639255), (1077, 0.00669572475058168), (1078, 0.015213639231701704), (1079, 0.02076399568238524), (1080, 0.0), (1081, 0.002866173655249291), (1082, 0.020886999931465675), (1083, 0.05033617677926722), (1084, 0.019987510328966507), (1085, 0.003232374719566125), (1086, 0.0), (1087, 0.01041225279300537), (1088, 0.01851622213153859), (1089, 0.018467301268407815), (1090, 0.004116578730036859), (1091, 0.012770391793891995), (1092, 0.011110851369295103), (1093, 0.00391871606413598), (1094, 0.022300739143720757), (1095, 0.003906881449607207), (1096, 0.059078314086909126), (1097, 0.00985846199838147), (1098, 0.057083210331081914), (1099, 0.002600318295631084), (1100, 0.02559037865311361), (1101, 0.007103077243509628), (1102, 0.004173326431398744), (1103, 0.027943457390465474), (1104, 0.007213554225124941), (1105, 0.022640025492368966), (1106, 0.002548760890411996), (1107, 0.011406223586789421), (1108, 0.018913654159386235), (1109, 0.0033873136764943006), (1110, 0.0034322519450707876), (1111, 0.030212297143339166), (1112, 0.01827744563310809), (1113, 0.023447751699826113), (1114, 0.012156407249101945), (1115, 0.011591888995937657), (1116, 0.015848388112677754), (1117, 0.033367506538030646), (1118, 0.01590709227445255), (1119, 0.0033010275385521063), (1120, 0.014638612850724916), (1121, 0.02457518096794966), (1122, 0.0111807497396899), (1123, 0.006730075914622396), (1124, 0.003930479896180616), (1125, 0.0386904848702266), (1126, 0.011082343175318123), (1127, 0.0), (1128, 0.0037488609448874657), (1129, 0.0070229266778427625), (1130, 0.007902160025807698), (1131, 0.01614697743029068), (1132, 0.0038244577809021262), (1133, 0.03600634619380401), (1134, 0.009198302125731818), (1135, 0.014409739686187206), (1136, 0.017295494325711144), (1137, 0.028535973638063386), (1138, 0.003606259150099076), (1139, 0.00771493567193815), (1140, 0.02849611791092759), (1141, 0.009758646245850822), (1142, 0.017436724481954134), (1143, 0.017819816321524042), (1144, 0.009750986485039182), (1145, 0.02844882520289477), (1146, 0.010928063690556513), (1147, 0.006235988395449688), (1148, 0.018329084641229083), (1149, 0.0), (1150, 0.024890812442013504), (1151, 0.01663024357620794), (1152, 0.025280939512908742), (1153, 0.03163395251762971), (1154, 0.0), (1155, 0.018128641303361958), (1156, 0.004372819690879439), (1157, 0.013670154277562942), (1158, 0.0), (1159, 0.008950547074262245), (1160, 0.010942472842630238), (1161, 0.014086034853917769), (1162, 0.003152170462638785), (1163, 0.0), (1164, 0.01402939370358218), (1165, 0.008679085726266854), (1166, 0.0), (1167, 0.013288553544449227), (1168, 0.0036943010665283714), (1169, 0.021993365776087015), (1170, 0.0), (1171, 0.008123229989521478), (1172, 0.026921981602590742), (1173, 0.01538707387029101), (1174, 0.0), (1175, 0.0), (1176, 0.03091433176823253), (1177, 0.0), (1178, 0.022265714689143814), (1179, 0.023180310584952263), (1180, 0.013767201944270557), (1181, 0.0), (1182, 0.014673236477595615), (1183, 0.0032356868322869167), (1184, 0.0027333702011615208), (1185, 0.010884951633681316), (1186, 0.019155225308881134), (1187, 0.01674548477301209), (1188, 0.0031831034038583964), (1189, 0.0), (1190, 0.006227604746902143), (1191, 0.011774166325351824), (1192, 0.0069719844868739765), (1193, 0.004131732201054296), (1194, 0.01667980837884087), (1195, 0.013376223217972449), (1196, 0.01796497723613749), (1197, 0.002494656806005828), (1198, 0.022381132333357874), (1199, 0.014883733033142301), (1200, 0.06798376524244053), (1201, 0.049013669641436164), (1202, 0.023146398106500512), (1203, 0.01320434285282806), (1204, 0.015846679609873023), (1205, 0.004383954278505967), (1206, 0.028248397113707566), (1207, 0.0138123628118892), (1208, 0.003846189554674222), (1209, 0.0), (1210, 0.0060233366805899835), (1211, 0.0700185006467272), (1212, 0.031192860438985014), (1213, 0.034862637020084686), (1214, 0.0030618989137719556), (1215, 0.03663077453964699), (1216, 0.007989081674119665), (1217, 0.003374578746401612), (1218, 0.05366465515418505), (1219, 0.003330263103185829), (1220, 0.0032302771821534574), (1221, 0.01015740489812526), (1222, 0.0), (1223, 0.029016603424547018), (1224, 0.01117049188500037), (1225, 0.0035939080984319144), (1226, 0.009174899573308432), (1227, 0.004179653642962304), (1228, 0.0031473489184093697), (1229, 0.027476912701235083), (1230, 0.008218633985748344), (1231, 0.022940733890187998), (1232, 0.02323910889262996), (1233, 0.0032629826966197833), (1234, 0.00597760018395415), (1235, 0.06752382517019173), (1236, 0.0), (1237, 0.004618125037258028), (1238, 0.016010394714777866), (1239, 0.01770907222700408), (1240, 0.010952625528867754), (1241, 0.0037537922120358023), (1242, 0.0034262520522554026), (1243, 0.007844634261052329), (1244, 0.04490265005493734), (1245, 0.005939919147342382), (1246, 0.010726654513730845), (1247, 0.03548893719630089), (1248, 0.0031756574526862723), (1249, 0.002611816634556389), (1250, 0.009853086001636379), (1251, 0.0), (1252, 0.035534699612004256), (1253, 0.025479253771014926), (1254, 0.003977872885201997), (1255, 0.008158131107048546), (1256, 0.0657597635985123), (1257, 0.027026847037978682), (1258, 0.03853097843852658), (1259, 0.03566179232076358), (1260, 0.005881413249233752), (1261, 0.007502006436423513), (1262, 0.01663776304566228), (1263, 0.006016023005985414), (1264, 0.020695747564162037), (1265, 0.007566274328687275), (1266, 0.034580490564978285), (1267, 0.01447241443849855), (1268, 0.01665675468158362), (1269, 0.010992418236541025), (1270, 0.0101205106392727), (1271, 0.047804732133695925), (1272, 0.012838747203207462), (1273, 0.004450025824979735), (1274, 0.029403319081547353), (1275, 0.01279774449300104), (1276, 0.01014612625174718), (1277, 0.009829479768529832), (1278, 0.015801045225562405), (1279, 0.00965619569855416), (1280, 0.00394872943445206), (1281, 0.041969050466598955), (1282, 0.0084295777035716), (1283, 0.0), (1284, 0.02672775958185145), (1285, 0.03995870844144042), (1286, 0.015802008880140272), (1287, 0.0031549851549452254), (1288, 0.015222843094397163), (1289, 0.030240670126839023), (1290, 0.0), (1291, 0.00324126170921922), (1292, 0.01841612463624934), (1293, 0.031991946395245725), (1294, 0.026477207936654888), (1295, 0.006587270112538445), (1296, 0.01632093257361708), (1297, 0.0), (1298, 0.007106294524602619), (1299, 0.02157933140273196), (1300, 0.016331070850792825), (1301, 0.014060773591837664), (1302, 0.04677836322612704), (1303, 0.04250026123049087), (1304, 0.01789587381526267), (1305, 0.01012942093432504), (1306, 0.010120974978248896), (1307, 0.04782860939225744), (1308, 0.01643308020597271), (1309, 0.0), (1310, 0.022415477737016194), (1311, 0.06008230364016519), (1312, 0.01440667819324732), (1313, 0.008973228948619946), (1314, 0.05960332520069161), (1315, 0.004131338955555286), (1316, 0.011517518359632028), (1317, 0.04844557018040474), (1318, 0.04485089685100281), (1319, 0.02747046839970905), (1320, 0.004092612848460064), (1321, 0.0378866450034108), (1322, 0.031852599605560326), (1323, 0.004126506037476254), (1324, 0.010028810520967466), (1325, 0.0031812284762230197), (1326, 0.0031193533842189106), (1327, 0.01173802017869607), (1328, 0.00998417571471917), (1329, 0.022125965532943447), (1330, 0.011488139192683124), (1331, 0.04486651258662709), (1332, 0.0076796039144697075), (1333, 0.02150862163015279), (1334, 0.002649386537718802), (1335, 0.007298422587728949), (1336, 0.0), (1337, 0.020476396671653237), (1338, 0.03008926900002443), (1339, 0.0), (1340, 0.013544676009803804), (1341, 0.01728052982808816), (1342, 0.0), (1343, 0.015194780150995983), (1344, 0.026750146064605143), (1345, 0.022465628000098322), (1346, 0.002824991928745016), (1347, 0.02867798803224884), (1348, 0.022162643185168453), (1349, 0.06041848402401116), (1350, 0.009603233228523312), (1351, 0.006136459606137553), (1352, 0.00693026962750469), (1353, 0.0716156665376443), (1354, 0.02510850657956706), (1355, 0.03603380744617055), (1356, 0.0296672237489031), (1357, 0.003980824073765396), (1358, 0.017003779744254627), (1359, 0.017489726603546966), (1360, 0.02174055808873948), (1361, 0.019759904778385146), (1362, 0.0029490537182861594), (1363, 0.015510860831478158), (1364, 0.025986217799333668), (1365, 0.0029673206690449135), (1366, 0.019591910195588813), (1367, 0.011273525800755788), (1368, 0.00326631044591268), (1369, 0.009925154588336593), (1370, 0.01602870788667906), (1371, 0.04638026545051614), (1372, 0.010859678861109019), (1373, 0.02403832009134331), (1374, 0.0037512885444337296), (1375, 0.0525335986007695), (1376, 0.016744090493564224), (1377, 0.07997211398209662), (1378, 0.020444308344918442), (1379, 0.011062708236661552), (1380, 0.0126521548055574), (1381, 0.03695396756834273), (1382, 0.0380737328891059), (1383, 0.012897386933922634), (1384, 0.017418094352954796), (1385, 0.0), (1386, 0.010792450704618413), (1387, 0.055456377757096637), (1388, 0.004445815218771748), (1389, 0.007676592026372146), (1390, 0.020447158063999386), (1391, 0.04163993990277218), (1392, 0.004223798776209702), (1393, 0.0), (1394, 0.023873626629872236), (1395, 0.010723502613131581), (1396, 0.007193146667047461), (1397, 0.011681079091108833), (1398, 0.06412250665182248), (1399, 0.016784648166866555), (1400, 0.008347025462733772), (1401, 0.006726043700095628), (1402, 0.007904475353683807), (1403, 0.01585482382679706), (1404, 0.021025519581703605), (1405, 0.007986213231399034), (1406, 0.013771820477253099), (1407, 0.018109599113277905), (1408, 0.0063690227873893475), (1409, 0.0), (1410, 0.008967767051399659), (1411, 0.0), (1412, 0.0037435652852129335), (1413, 0.014302358645682113), (1414, 0.016496597703866814), (1415, 0.010242008111258147), (1416, 0.029152552527629855), (1417, 0.01982778040134503), (1418, 0.008893970320461854), (1419, 0.025517353068610863), (1420, 0.0), (1421, 0.006791526124560933), (1422, 0.0040457166126092806), (1423, 0.01997024440876969), (1424, 0.0037821782437620923), (1425, 0.003725985735928299), (1426, 0.01640772544690457), (1427, 0.024474675768065574), (1428, 0.010753861414408431), (1429, 0.0030456945898982473), (1430, 0.010487393970550932), (1431, 0.01018129575657891), (1432, 0.02962563593563878), (1433, 0.01738531131113792), (1434, 0.006495355820140084), (1435, 0.0), (1436, 0.041800646903963436), (1437, 0.03189653357348334), (1438, 0.003379309016601389), (1439, 0.011056085951870563), (1440, 0.0), (1441, 0.008559318875021546), (1442, 0.008040472535608573), (1443, 0.017786533343478565), (1444, 0.007024523655752015), (1445, 0.00972984739051792), (1446, 0.0035645624859617316), (1447, 0.00988516180037267), (1448, 0.027767304448209476), (1449, 0.014679384041270477), (1450, 0.0), (1451, 0.007050481893342238), (1452, 0.02152217194991897), (1453, 0.0), (1454, 0.016128373621852123), (1455, 0.008275282833281659), (1456, 0.011083693218306429), (1457, 0.003377246509473504), (1458, 0.017154468059714146), (1459, 0.006701161549473731), (1460, 0.015825297497646353), (1461, 0.010672343399537987), (1462, 0.015226194651037113), (1463, 0.01553100413689623), (1464, 0.01567633269483948), (1465, 0.0), (1466, 0.07044199908031228), (1467, 0.0), (1468, 0.0222664838643776), (1469, 0.02456732197643452), (1470, 0.006320432300556745), (1471, 0.004160451997273943), (1472, 0.025586193880713887), (1473, 0.006868906999963845), (1474, 0.003981221241940509), (1475, 0.0), (1476, 0.0034978912253743203), (1477, 0.004055288580689882), (1478, 0.0), (1479, 0.0), (1480, 0.06262967411117852), (1481, 0.02144487472492159), (1482, 0.0), (1483, 0.016972768879865468), (1484, 0.004205696567323045), (1485, 0.01720063875105096), (1486, 0.003968634612676096), (1487, 0.032771597668178526), (1488, 0.008155944357282265), (1489, 0.025774268421529255), (1490, 0.028389690037299152), (1491, 0.012437981262630316), (1492, 0.01474944656990842), (1493, 0.01057130708175054), (1494, 0.04416468344932873), (1495, 0.006561110082151784), (1496, 0.003027117567188002), (1497, 0.0), (1498, 0.0), (1499, 0.008235250594127622), (1500, 0.0027600419603562914), (1501, 0.007112417642962554), (1502, 0.0025857104960329558), (1503, 0.04704808940979972), (1504, 0.007379043217921758), (1505, 0.04196583990309984), (1506, 0.0037313336318175057), (1507, 0.0), (1508, 0.025258111535624905), (1509, 0.0), (1510, 0.003997077479144228), (1511, 0.01639294348110789), (1512, 0.003919157828083269), (1513, 0.0156639598682984), (1514, 0.008445843263995076), (1515, 0.0028603988021022922), (1516, 0.010067993437005325), (1517, 0.007315073137398952), (1518, 0.010675412790387091), (1519, 0.006731124034373226), (1520, 0.00930395408748278), (1521, 0.006398445264219989), (1522, 0.025279636887069783), (1523, 0.007043366844466205), (1524, 0.05027525793510405), (1525, 0.0), (1526, 0.0034712656645924586), (1527, 0.014814528841280063), (1528, 0.023997511464219877), (1529, 0.006832171625907421), (1530, 0.008789030691077518), (1531, 0.011405863253424575), (1532, 0.009953369952273219), (1533, 0.006568529653084203), (1534, 0.026348429459178237), (1535, 0.022381621198298764), (1536, 0.017746973467031912), (1537, 0.002839477299974204), (1538, 0.03939823161451797), (1539, 0.014882583169837964), (1540, 0.03741678550912167), (1541, 0.002813825576346838), (1542, 0.010742693885995452), (1543, 0.020977377828941445), (1544, 0.0031493919868855525), (1545, 0.023134232089564548), (1546, 0.02891042415354249), (1547, 0.012623236426599228), (1548, 0.010352157095702409), (1549, 0.013384043128710615), (1550, 0.03285251955685645), (1551, 0.00934481932112897), (1552, 0.007367733657318036), (1553, 0.022083442307438982), (1554, 0.012310912436188155), (1555, 0.022344798181008985), (1556, 0.009206625835141053), (1557, 0.010629096252896963), (1558, 0.01309973012477758), (1559, 0.0034890165771440215), (1560, 0.04090009281546103), (1561, 0.006668048580641768), (1562, 0.004056708068845035), (1563, 0.1154769496110134), (1564, 0.0), (1565, 0.01103244982230443), (1566, 0.03033059576116203), (1567, 0.008132022437519431), (1568, 0.0031932773684248458), (1569, 0.003951980676380995), (1570, 0.0), (1571, 0.010645001919057772), (1572, 0.04731469155656743), (1573, 0.014554693549708985), (1574, 0.028135652361246093), (1575, 0.04116112734716228), (1576, 0.013033474939970643), (1577, 0.01718996997950102), (1578, 0.0031666677775017316), (1579, 0.022477983590446688), (1580, 0.057571264511946676), (1581, 0.0), (1582, 0.06104208827747054), (1583, 0.014158318266876867), (1584, 0.009985535002481857), (1585, 0.008894157942565966), (1586, 0.02202878472344253), (1587, 0.008001612206264367), (1588, 0.028482004849482493), (1589, 0.016188549284619606), (1590, 0.003585236622270334), (1591, 0.00898621347576991), (1592, 0.10247348069946836), (1593, 0.02942722486805803), (1594, 0.004085671371748298), (1595, 0.019785804289181044), (1596, 0.003223176166090857), (1597, 0.05056691863609591), (1598, 0.007396705316135304), (1599, 0.009539616414498648), (1600, 0.003160516701162367), (1601, 0.003942352071476951), (1602, 0.014476019000313277), (1603, 0.03059860309761375), (1604, 0.020337207982046815), (1605, 0.006522126723756137), (1606, 0.02376726832883824), (1607, 0.013205278356772408), (1608, 0.029070806354463154), (1609, 0.0035168307844871713), (1610, 0.007859535760501024), (1611, 0.003261075141174318), (1612, 0.0), (1613, 0.0033974249848906773), (1614, 0.007397670836392578), (1615, 0.003655594384236478), (1616, 0.011283708780875062), (1617, 0.009054459566480095), (1618, 0.03740339262444874), (1619, 0.0028539629051101763), (1620, 0.006911379451998495), (1621, 0.018624517451902085), (1622, 0.008677636825453533), (1623, 0.04523301026361308), (1624, 0.007204717658783215), (1625, 0.02662700671415497), (1626, 0.018390271668381815), (1627, 0.04347279931683065), (1628, 0.07372742992775037), (1629, 0.007263917997326647), (1630, 0.010644012766631987), (1631, 0.024458099684347607), (1632, 0.006649058552312273), (1633, 0.02296255931685571), (1634, 0.0), (1635, 0.02121171634715317), (1636, 0.04947615281285743), (1637, 0.013831465957591951), (1638, 0.01047875979459863), (1639, 0.016988935267199957), (1640, 0.009938593331120373), (1641, 0.020366036274490892), (1642, 0.010780319506151805), (1643, 0.007101803281775556), (1644, 0.0037134852440197756), (1645, 0.02113631000298873), (1646, 0.03807434788839482), (1647, 0.044201275097266055), (1648, 0.0), (1649, 0.004207636956512426), (1650, 0.01282252116078277), (1651, 0.0071050499113984224), (1652, 0.0), (1653, 0.010363159208681938), (1654, 0.009624905369044107), (1655, 0.08097510811620275), (1656, 0.042375264590488466), (1657, 0.0), (1658, 0.002600947808002121), (1659, 0.02964050051095473), (1660, 0.016224586371100448), (1661, 0.023220189210020187), (1662, 0.012230759157482913), (1663, 0.012002103223054856), (1664, 0.029148848641319215), (1665, 0.006259765094362657), (1666, 0.009532702838554825), (1667, 0.00790059040822537), (1668, 0.0030538765543585127), (1669, 0.055704703214777385), (1670, 0.0029928316559708888), (1671, 0.002821681027730513), (1672, 0.009597827816734149), (1673, 0.017008592147926084), (1674, 0.006985284953886982), (1675, 0.05941619935493847), (1676, 0.009430586637308225), (1677, 0.0188325954876645), (1678, 0.023474139868206605), (1679, 0.034283883007012746), (1680, 0.034207623980119437), (1681, 0.0074550487775765124), (1682, 0.02694439190906011), (1683, 0.00600862768037327), (1684, 0.040387200361471025), (1685, 0.006076341768352153), (1686, 0.02629391439576037), (1687, 0.017745767125491065), (1688, 0.038638254155091784), (1689, 0.0038934029914551), (1690, 0.0), (1691, 0.049857711073110544), (1692, 0.0288116839136282), (1693, 0.011084444997776263), (1694, 0.003853058866629501), (1695, 0.004331089036416178), (1696, 0.09615449441999789), (1697, 0.035942013192170434), (1698, 0.004032102883136496), (1699, 0.007547162096359536), (1700, 0.010533786323939155), (1701, 0.013293058727940583), (1702, 0.018480350460669846), (1703, 0.010497832559790206), (1704, 0.00291838615924766), (1705, 0.00369534223238778), (1706, 0.011325967774560613), (1707, 0.015721253954451057), (1708, 0.004096784800889347), (1709, 0.042542378337556), (1710, 0.008238335979272473), (1711, 0.005836822913421474), (1712, 0.017484993857643065), (1713, 0.0028027251253576915), (1714, 0.010982865946009052), (1715, 0.09236197587374681), (1716, 0.0073564950520960525), (1717, 0.009147279967562844), (1718, 0.015603025394805648), (1719, 0.024509709136597148), (1720, 0.0031284210078400877), (1721, 0.006782446909521818), (1722, 0.07137668696139372), (1723, 0.04614788656020614), (1724, 0.009892812085889106), (1725, 0.010438416825731343), (1726, 0.020581067748097297), (1727, 0.003962834410593209), (1728, 0.0342445680106986), (1729, 0.015491806318981515), (1730, 0.0030104407748850295), (1731, 0.0089821070190772), (1732, 0.0028435006154702504), (1733, 0.017902508440644473), (1734, 0.03157640895549697), (1735, 0.0182733347361641), (1736, 0.01963984895673992), (1737, 0.0033814858711741806), (1738, 0.010501989033483108), (1739, 0.022982256949155996), (1740, 0.01442396381544032), (1741, 0.007382219716169477), (1742, 0.018324249730322848), (1743, 0.0036446575602924873), (1744, 0.010611891610043752), (1745, 0.09263712396325045), (1746, 0.0), (1747, 0.02409016336211311), (1748, 0.020229795742125446), (1749, 0.003923194914057872), (1750, 0.011763986808668988), (1751, 0.01892852143951642), (1752, 0.0032738791437403473), (1753, 0.04148578243786606), (1754, 0.00373145944428398), (1755, 0.017997802410192415), (1756, 0.038349946683380425), (1757, 0.025671333246227807), (1758, 0.0032413624555768863), (1759, 0.019949609621169602), (1760, 0.018460529317443193), (1761, 0.023346932097571597), (1762, 0.028581523888800538), (1763, 0.024185703526578665), (1764, 0.015973825045175593), (1765, 0.01295955563659737), (1766, 0.02350390152807366), (1767, 0.020369345882103228), (1768, 0.0), (1769, 0.017952179092592623), (1770, 0.006703157974078574), (1771, 0.007650654213123343), (1772, 0.0031556601168407934), (1773, 0.0), (1774, 0.02233076697239498), (1775, 0.023191998866116975), (1776, 0.010027824097234834), (1777, 0.0), (1778, 0.0032650760102680113), (1779, 0.008741841273458607), (1780, 0.017035259003347347), (1781, 0.00613501627599326), (1782, 0.0032642928594305157), (1783, 0.035543910105335225), (1784, 0.010394794474068459), (1785, 0.040396806646659185), (1786, 0.012756624794197181), (1787, 0.02314209587675671), (1788, 0.030106675163809236), (1789, 0.00417679612855058), (1790, 0.0), (1791, 0.012879818350487028), (1792, 0.011465062139169422), (1793, 0.010966862996380077), (1794, 0.021278653228430446), (1795, 0.015483635402851494), (1796, 0.02581283643400597), (1797, 0.008047090167319101), (1798, 0.0), (1799, 0.01493846892741555), (1800, 0.06038835730052074), (1801, 0.004093363924505154), (1802, 0.0), (1803, 0.0190276475341353), (1804, 0.017120515032923715), (1805, 0.021619773641884322), (1806, 0.0), (1807, 0.012354818049703219), (1808, 0.042834622550513256), (1809, 0.017667847890438494), (1810, 0.0), (1811, 0.0), (1812, 0.009031847467796141), (1813, 0.010280845284473433), (1814, 0.006916264373081863), (1815, 0.006263493186330757), (1816, 0.019311872508841598), (1817, 0.014333281094601965), (1818, 0.0032252009959949516), (1819, 0.013579740775490758), (1820, 0.022195483340478564), (1821, 0.02259964390597548), (1822, 0.017758505192792172), (1823, 0.031071366030890644), (1824, 0.01932188678168783), (1825, 0.017715085019767103), (1826, 0.01619092130066182), (1827, 0.10463931974528944), (1828, 0.0), (1829, 0.02645205291177768), (1830, 0.007904662201446215), (1831, 0.029613915942735387), (1832, 0.0), (1833, 0.03750364426477509), (1834, 0.03475131213866144), (1835, 0.06899883672032327), (1836, 0.01435550850276596), (1837, 0.009458917189053775), (1838, 0.02960006409224998), (1839, 0.009320868666987975), (1840, 0.016806695464874247), (1841, 0.009619880218165757), (1842, 0.01525076483407185), (1843, 0.00899315554530047), (1844, 0.024193814740360964), (1845, 0.01984234177924888), (1846, 0.00409087397279892), (1847, 0.007259619002565694), (1848, 0.00796921751368093), (1849, 0.0031771022696515305), (1850, 0.0038911737785069273), (1851, 0.022656082287165914), (1852, 0.0042377048260301324), (1853, 0.017516849873795586), (1854, 0.014388775925764357), (1855, 0.002959129098917505), (1856, 0.009448612526690211), (1857, 0.026354079326267925), (1858, 0.019890219669698086), (1859, 0.0), (1860, 0.006763553727998892), (1861, 0.0), (1862, 0.0322909349008636), (1863, 0.056047018437744955), (1864, 0.0035793806794868397), (1865, 0.008807427913505958), (1866, 0.021503668697757175), (1867, 0.05791866186825483), (1868, 0.022467680602896188), (1869, 0.0), (1870, 0.016657353028653316), (1871, 0.01088186588426247), (1872, 0.0039721631283089484), (1873, 0.021130155953123782), (1874, 0.023849000776285767), (1875, 0.014014200777643447), (1876, 0.016087852835831296), (1877, 0.0417960529985915), (1878, 0.003750482664760447), (1879, 0.007197898675324162), (1880, 0.007946846303656413), (1881, 0.01858892127252521), (1882, 0.014012088275277335), (1883, 0.0), (1884, 0.016643231668720698), (1885, 0.0034293344844843593), (1886, 0.006970236840006427), (1887, 0.010979228230351776), (1888, 0.014140110769688028), (1889, 0.0035558732706420823), (1890, 0.007890506025499283), (1891, 0.009759012962916116), (1892, 0.0), (1893, 0.01141693112998651), (1894, 0.034255434614556365), (1895, 0.003037908239458231), (1896, 0.018251959805705677), (1897, 0.01092421835237305), (1898, 0.03672266111124803), (1899, 0.0031288261541824627), (1900, 0.026825554304727422), (1901, 0.009167345382435065), (1902, 0.009104563308917783), (1903, 0.04121705572156303), (1904, 0.024206244721700354), (1905, 0.004224705399831681), (1906, 0.003208875657682208), (1907, 0.0), (1908, 0.0), (1909, 0.06744875571952236), (1910, 0.0032407911260408134), (1911, 0.05749611912326274), (1912, 0.003113817204574488), (1913, 0.019964071742881225), (1914, 0.018196462031830618), (1915, 0.010032246713309465), (1916, 0.014549657484621979), (1917, 0.019341531828067117), (1918, 0.021272566106255962), (1919, 0.033902140051375394), (1920, 0.006556188077967094), (1921, 0.007287679021032298), (1922, 0.019445622495479403), (1923, 0.03371002567627205), (1924, 0.02905549409043172), (1925, 0.003307838800065115), (1926, 0.010721443549872376), (1927, 0.023644648385095095), (1928, 0.010428542969744535), (1929, 0.013786371092946535), (1930, 0.013835903204181273), (1931, 0.017642203972662807), (1932, 0.0235601813818788), (1933, 0.008367178409945143), (1934, 0.030122932112357673), (1935, 0.0), (1936, 0.002958716420038756), (1937, 0.014770101849715866), (1938, 0.01388043000962792), (1939, 0.025924789830751173), (1940, 0.037180418300602126), (1941, 0.054342354500439664), (1942, 0.0031693113373771177), (1943, 0.004135133031111525), (1944, 0.0035938513218440682), (1945, 0.04414889089446533), (1946, 0.005773638370973994), (1947, 0.007738646497615907), (1948, 0.009837195027941049), (1949, 0.0076883966865448), (1950, 0.05929287713844728), (1951, 0.014686706946920645), (1952, 0.0029173342880264874), (1953, 0.014511276518983634), (1954, 0.0), (1955, 0.030926317176270007), (1956, 0.0037221247853860616), (1957, 0.018251219196924108), (1958, 0.05909682183154977), (1959, 0.0169710275845754), (1960, 0.025737944516516488), (1961, 0.016426778435143723), (1962, 0.027382484799478295), (1963, 0.03649084083839032), (1964, 0.003809338167261352), (1965, 0.011622198445543405), (1966, 0.0), (1967, 0.003965710826681545), (1968, 0.017143177139636197), (1969, 0.01932857240641666), (1970, 0.019054451756756914), (1971, 0.028392173781236117), (1972, 0.02399160947450672), (1973, 0.03467833516261685), (1974, 0.0033032136943724334), (1975, 0.03507897400399327), (1976, 0.0), (1977, 0.006616333014371329), (1978, 0.02575713042360825), (1979, 0.016452790258947976), (1980, 0.03018114796642101), (1981, 0.01025687736714861), (1982, 0.0), (1983, 0.0), (1984, 0.009783335745563036), (1985, 0.05112068938306569), (1986, 0.006730013017775527), (1987, 0.011188679248661803), (1988, 0.00366446768241543), (1989, 0.004447019248398152), (1990, 0.0275510416176122), (1991, 0.0), (1992, 0.003653194887239039), (1993, 0.0), (1994, 0.0456899379690851), (1995, 0.02471113128513435), (1996, 0.003310772340598682), (1997, 0.002766349646236018), (1998, 0.007071627561164419), (1999, 0.025029557310758913), (2000, 0.022250319736118993), (2001, 0.011303665289657434), (2002, 0.030423797587803846), (2003, 0.010696979289559547), (2004, 0.03997560433778458), (2005, 0.04794773044759218), (2006, 0.049677198245962076), (2007, 0.006669360279636417), (2008, 0.07465412487233755), (2009, 0.0), (2010, 0.01118371923230945), (2011, 0.012115460176244649), (2012, 0.007109212277792922), (2013, 0.0345923051457883), (2014, 0.010131004399089729), (2015, 0.0027494590056941167), (2016, 0.003346865043600447), (2017, 0.010994497694397096), (2018, 0.017889515548654745), (2019, 0.05733530490665448), (2020, 0.03205379459436721), (2021, 0.002896861221909058), (2022, 0.0), (2023, 0.06375971448347167), (2024, 0.037598330929344066), (2025, 0.01032449817336309), (2026, 0.0035980790815273896), (2027, 0.01872678425983931), (2028, 0.0032745936847329254), (2029, 0.018790496863523336), (2030, 0.0), (2031, 0.004272789839475984), (2032, 0.03175829190465682), (2033, 0.019425681513466127), (2034, 0.015696487996001436), (2035, 0.03342567902801952), (2036, 0.026087258671346022), (2037, 0.021253010985603935), (2038, 0.00732870198321013), (2039, 0.08000989504394024), (2040, 0.01214249583018968), (2041, 0.011417726075240896), (2042, 0.022846759063563836), (2043, 0.00838669234680744), (2044, 0.003299201061949521), (2045, 0.0), (2046, 0.011933129883423823), (2047, 0.012698097906448623), (2048, 0.004536979009461646), (2049, 0.006985006096531212), (2050, 0.012983269973423084), (2051, 0.012350354015724565), (2052, 0.0), (2053, 0.006671276729160449), (2054, 0.006062231605652965), (2055, 0.010902045864305971), (2056, 0.0036333649369108007), (2057, 0.03757117423904976), (2058, 0.023424241994081465), (2059, 0.022265848264332415), (2060, 0.003956736869120738), (2061, 0.044864521991392056), (2062, 0.012968108720030812), (2063, 0.007034368312285613), (2064, 0.01584992166600367), (2065, 0.033271395064922854), (2066, 0.028746616536388762), (2067, 0.009140486295812076), (2068, 0.007135549316424633), (2069, 0.0033231594656786306), (2070, 0.06706419160652914), (2071, 0.006609384287766659), (2072, 0.003809342035776365), (2073, 0.0038536732459779426), (2074, 0.015468444119729358), (2075, 0.07554012940280008), (2076, 0.03619846365542166), (2077, 0.00873175500395615), (2078, 0.02855985354632509), (2079, 0.007343445001387214), (2080, 0.010176072684749068), (2081, 0.010642372029191691), (2082, 0.03133173448330363), (2083, 0.01346799863610752), (2084, 0.011918226755891421), (2085, 0.010535902122681153), (2086, 0.025320581618797258), (2087, 0.011664983624388555), (2088, 0.04367714604106606), (2089, 0.009530781234650345), (2090, 0.004072643100308738), (2091, 0.025457386491492408), (2092, 0.06294612901737344), (2093, 0.012123373029983812), (2094, 0.0), (2095, 0.014998404916355828), (2096, 0.021623094096158917), (2097, 0.0038868713497700017), (2098, 0.0), (2099, 0.023675272801570807), (2100, 0.01657675518971245), (2101, 0.007057763395055195), (2102, 0.019060498362499075), (2103, 0.0028207084584158126), (2104, 0.006543579545871726), (2105, 0.00935520221076344), (2106, 0.006459942035789561), (2107, 0.003083247722880589), (2108, 0.022744136724607854), (2109, 0.004401905302432756), (2110, 0.016448666770896396), (2111, 0.02905447338304604), (2112, 0.009114438606360735), (2113, 0.0031625049360108374), (2114, 0.0034874962442694273), (2115, 0.028755930018366755), (2116, 0.0), (2117, 0.0032173139324871147), (2118, 0.004246755394229648), (2119, 0.003294581086678828), (2120, 0.011487440543952652), (2121, 0.04979581776498664), (2122, 0.025126847209934106), (2123, 0.012794015490530008), (2124, 0.05136918700758556), (2125, 0.002652967851259563), (2126, 0.03078630904756953), (2127, 0.007001550296071399), (2128, 0.022888211477211314), (2129, 0.011362765404405471), (2130, 0.02276909010429354), (2131, 0.021836275466916036), (2132, 0.00288705979590302), (2133, 0.012698221868132076), (2134, 0.03876016628535528), (2135, 0.0269586504075681), (2136, 0.01814218472014923), (2137, 0.012388453022202477), (2138, 0.0), (2139, 0.014049534526274603), (2140, 0.023725907258328408), (2141, 0.018898290282284604), (2142, 0.0), (2143, 0.003924739507069994), (2144, 0.006855610172056829), (2145, 0.014323458884453587), (2146, 0.019448288412211433), (2147, 0.04454770346340264), (2148, 0.010794921634687487), (2149, 0.021325028096460263), (2150, 0.003546196798799916), (2151, 0.00937188121837136), (2152, 0.012514140813994124), (2153, 0.012458525526482049), (2154, 0.0), (2155, 0.03362341930563195), (2156, 0.011636178491407273), (2157, 0.01667249713345015), (2158, 0.0039003312006558244), (2159, 0.019729063669074086), (2160, 0.008770895721869232), (2161, 0.010107916024864137), (2162, 0.01803529824438003), (2163, 0.0), (2164, 0.018001389029774984), (2165, 0.010586777623195386), (2166, 0.010129024415940746), (2167, 0.045979604107692404), (2168, 0.025040622426305274), (2169, 0.0), (2170, 0.009245571758297497), (2171, 0.012649638518075813), (2172, 0.03034959549409214), (2173, 0.0037272469408189866), (2174, 0.009978392624638146), (2175, 0.0289284855020974), (2176, 0.013507666221229064), (2177, 0.08149651750479896), (2178, 0.013373382973601033), (2179, 0.023632738949310055), (2180, 0.011005796788572322), (2181, 0.009345345857533527), (2182, 0.021650973437921182), (2183, 0.06358698000445527), (2184, 0.010462298697591152), (2185, 0.030327181248279378), (2186, 0.006303781565581022), (2187, 0.008890689220884361), (2188, 0.022488423027468687), (2189, 0.010271629376859062), (2190, 0.007178910926321377), (2191, 0.048436341850096265), (2192, 0.006962694613745442), (2193, 0.002886167730549344), (2194, 0.007236582356122834), (2195, 0.04305869336556493), (2196, 0.00833655381400358), (2197, 0.003913094989608025), (2198, 0.04472182304723289), (2199, 0.01882588287137639), (2200, 0.007558852239363127), (2201, 0.0), (2202, 0.003217028629275922), (2203, 0.017849396107361293), (2204, 0.04325280546302662), (2205, 0.02303593409851263), (2206, 0.021976688200534233), (2207, 0.029576162247568597), (2208, 0.006982668415474964), (2209, 0.004183155478413477), (2210, 0.006417399960732639), (2211, 0.008921079164230091), (2212, 0.011330435919314298), (2213, 0.002680070290255394), (2214, 0.0), (2215, 0.0032988933520379797), (2216, 0.006800576795875183), (2217, 0.017604694936940602), (2218, 0.014253280247261113), (2219, 0.0056678765020701126), (2220, 0.03368626647564226), (2221, 0.02373880313455631), (2222, 0.0039342645020638365), (2223, 0.0043701813884469845), (2224, 0.0030487917150827186), (2225, 0.006644053482758862), (2226, 0.0018662875307739913), (2227, 0.017112996579631088), (2228, 0.002926561526036925), (2229, 0.03127267351838841), (2230, 0.0035359759722075903), (2231, 0.011289331239006536), (2232, 0.0050996836745767484), (2233, 0.044665988132199616), (2234, 0.0), (2235, 0.012345885253371887), (2236, 0.014263468156097438), (2237, 0.029415045656154805), (2238, 0.007054737053376918), (2239, 0.007042735021971222), (2240, 0.0030779717177385484), (2241, 0.021751292363626024), (2242, 0.06038775635039416), (2243, 0.010423227177703139), (2244, 0.01624010836276451), (2245, 0.014055332091903006), (2246, 0.032906349436768), (2247, 0.0), (2248, 0.0), (2249, 0.004299532544595246), (2250, 0.0), (2251, 0.009503604920710135), (2252, 0.13188938415769158), (2253, 0.02502477975549782), (2254, 0.0033794617935082975), (2255, 0.019632764592743948), (2256, 0.01917441718993518), (2257, 0.02066778470536061), (2258, 0.006883299771437173), (2259, 0.0036790624411378397), (2260, 0.007739011409949162), (2261, 0.0028302016798479076), (2262, 0.010247197517376455), (2263, 0.0033316158785228573), (2264, 0.0), (2265, 0.0029194032191247055), (2266, 0.014347218433763551), (2267, 0.00254524835078154), (2268, 0.05185901426137184), (2269, 0.004288671932073601), (2270, 0.004112156347161808), (2271, 0.003102893526909253), (2272, 0.015056584686209944), (2273, 0.010275257983427426), (2274, 0.01491065485548949), (2275, 0.02314963967521827), (2276, 0.00598652696558534), (2277, 0.014027643979557853), (2278, 0.01412158148695525), (2279, 0.00724951829659633), (2280, 0.019669471293266298), (2281, 0.009411856559220935), (2282, 0.013063724325831038), (2283, 0.01836634459363391), (2284, 0.041381533028663764), (2285, 0.01620734771682282), (2286, 0.0033669077469341926), (2287, 0.017015059623799254), (2288, 0.004323023572880449), (2289, 0.016252778457316815), (2290, 0.0626995114476374), (2291, 0.0073553135355496424), (2292, 0.025286677257668), (2293, 0.01791997421703795), (2294, 0.07719917131635673), (2295, 0.003858902887713572), (2296, 0.014367210433317852), (2297, 0.0), (2298, 0.06181016237160072), (2299, 0.003726288336221705), (2300, 0.0031731675975008866), (2301, 0.015462665092398844), (2302, 0.004021473316345743), (2303, 0.018394150946322334), (2304, 0.0029167999585476795), (2305, 0.02819637558913613), (2306, 0.0035603965164529676), (2307, 0.03608690732565704), (2308, 0.01630802277528585), (2309, 0.014351000107133837), (2310, 0.022038908551580094), (2311, 0.0071860803829610735), (2312, 0.018209180854461965), (2313, 0.04109935801326461), (2314, 0.008790052628117315), (2315, 0.01880937066627036), (2316, 0.002911928033974782), (2317, 0.013981880649898856), (2318, 0.010550595299304574), (2319, 0.01137102153875088), (2320, 0.0), (2321, 0.012376282278485733), (2322, 0.0), (2323, 0.013782441874399497), (2324, 0.015027599950653218), (2325, 0.01304080180852275), (2326, 0.0037576173263061865), (2327, 0.011061818959831191), (2328, 0.008543101537259398), (2329, 0.010615883750903828), (2330, 0.0030854815293748705), (2331, 0.01616558311790825), (2332, 0.0024939986259314407), (2333, 0.02124217616289216), (2334, 0.025064238588988028), (2335, 0.0), (2336, 0.023938849168549197), (2337, 0.00392201642098841), (2338, 0.0), (2339, 0.014494138707682723), (2340, 0.027768786165655708), (2341, 0.0032754146086375244), (2342, 0.002960200899680444), (2343, 0.0), (2344, 0.004093567569674527), (2345, 0.021566666635153015), (2346, 0.031185719011399705), (2347, 0.019922720947628612), (2348, 0.0096516837184385), (2349, 0.007519362735758234), (2350, 0.014953803138030745), (2351, 0.01331557659437085), (2352, 0.016656922647717006), (2353, 0.02844279829622804), (2354, 0.04542280365173512), (2355, 0.012238459876895716), (2356, 0.02788962535977195), (2357, 0.012686983590205004), (2358, 0.0076886229843806785), (2359, 0.02325820869195639), (2360, 0.006357056421338146), (2361, 0.02514323001966115), (2362, 0.07961390178262631), (2363, 0.010192073333131067), (2364, 0.022717538102431517), (2365, 0.015449036890474343), (2366, 0.017901624009431905), (2367, 0.0), (2368, 0.0029243047352749195), (2369, 0.002718257655053521), (2370, 0.01905228105086971), (2371, 0.005900754399552665), (2372, 0.08405644699600548), (2373, 0.02589491772438084), (2374, 0.0), (2375, 0.039934696724436634), (2376, 0.01035082991549643), (2377, 0.014174479846409509), (2378, 0.002389860285190681), (2379, 0.024449155102955793), (2380, 0.0032525198475937523), (2381, 0.0026162947848714707), (2382, 0.0), (2383, 0.03518528052098747), (2384, 0.01971523891411977), (2385, 0.02895482361687354), (2386, 0.0), (2387, 0.05639026512292309), (2388, 0.007820538024675215), (2389, 0.003091564342699326), (2390, 0.0071395795858520215), (2391, 0.0044512308987417456), (2392, 0.0037519106803290906), (2393, 0.003969727892526809), (2394, 0.01568271539794096), (2395, 0.037056739359153115), (2396, 0.007069469467240768), (2397, 0.02433271339993477), (2398, 0.00782635447421037), (2399, 0.04885588767033292), (2400, 0.05482595233093905), (2401, 0.04915686011872662), (2402, 0.01370788662528184), (2403, 0.0029016249139511728), (2404, 0.0033276914599570297), (2405, 0.025092797621274122), (2406, 0.04263050424687989), (2407, 0.00393295001702779), (2408, 0.02608277583319396), (2409, 0.02065314229712711), (2410, 0.017982556595041343), (2411, 0.023026098108717634), (2412, 0.016550860513808354), (2413, 0.007822543989527397), (2414, 0.031973062768861124), (2415, 0.024292914553450076), (2416, 0.022122249729597157), (2417, 0.11791240268692983), (2418, 0.0), (2419, 0.009345727133876542), (2420, 0.01075355879640681), (2421, 0.06986232781036891), (2422, 0.007401204985866614), (2423, 0.0), (2424, 0.0038636949806527174), (2425, 0.01146130599636179), (2426, 0.0), (2427, 0.0), (2428, 0.007471088387099017), (2429, 0.011311921678888094), (2430, 0.0034963023988590523), (2431, 0.014095918487055456), (2432, 0.010856541112186745), (2433, 0.008220254626584489), (2434, 0.03420175381753103), (2435, 0.042723583572308425), (2436, 0.09808667264154713), (2437, 0.00981813122793341), (2438, 0.028988352844538396), (2439, 0.0), (2440, 0.008794500221876965), (2441, 0.0030623570577067655), (2442, 0.012589164731526154), (2443, 0.0040284841393593215), (2444, 0.06685516336049337), (2445, 0.019566877754387788), (2446, 0.0), (2447, 0.010116014833661287), (2448, 0.01042076580290541), (2449, 0.0), (2450, 0.0), (2451, 0.010086188227764248), (2452, 0.049933125840501774), (2453, 0.02236482569378264), (2454, 0.0), (2455, 0.0), (2456, 0.03218545870077344), (2457, 0.025127009188617815), (2458, 0.02889814902263998), (2459, 0.027203585815599035), (2460, 0.007547123946078038), (2461, 0.04028908087023349), (2462, 0.010318600346598913), (2463, 0.03300606393509829), (2464, 0.014130806344963779), (2465, 0.0065429439452618365), (2466, 0.06933225048201998), (2467, 0.003453394260158846), (2468, 0.01899295024223116), (2469, 0.0034187423150543405), (2470, 0.00932039580283442), (2471, 0.007964633025553844), (2472, 0.002995622702608262), (2473, 0.014739971917300473), (2474, 0.01446110829854934), (2475, 0.006805393974636498), (2476, 0.0032057901302665623), (2477, 0.013080331954230104), (2478, 0.014959683344733278), (2479, 0.03624092038998947), (2480, 0.0064104368568570665), (2481, 0.008433108966442768), (2482, 0.016300447677585008), (2483, 0.005658564436674134), (2484, 0.016298125487134853), (2485, 0.03552695766930388), (2486, 0.027237697348425294), (2487, 0.00593797910454262), (2488, 0.03053276244471786), (2489, 0.011675354641040317), (2490, 0.04049017528032936), (2491, 0.030624669465677358), (2492, 0.013628071121316374), (2493, 0.0), (2494, 0.0033050302991089234), (2495, 0.0), (2496, 0.0170733916123667), (2497, 0.008710598527554715), (2498, 0.0032428584751809228), (2499, 0.017517410563544923), (2500, 0.017309682977439005), (2501, 0.0), (2502, 0.030211139536026152), (2503, 0.0), (2504, 0.019169105973965747), (2505, 0.012274975947566592), (2506, 0.02329679365143039), (2507, 0.010051184948501473), (2508, 0.0042880219274586085), (2509, 0.01700342100491968), (2510, 0.0033538256915584806), (2511, 0.0066005867535457625), (2512, 0.014456579478989682), (2513, 0.028408728911377475), (2514, 0.013536511270466109), (2515, 0.013950997910123011), (2516, 0.011914204047950017), (2517, 0.04058345372588153), (2518, 0.02807601244959007), (2519, 0.02112016723200912), (2520, 0.0), (2521, 0.045318175077160475), (2522, 0.025675154596236417), (2523, 0.02018343298346525), (2524, 0.003941503229060595), (2525, 0.02484231256281555), (2526, 0.01189005019896323), (2527, 0.0031515292828521316), (2528, 0.0254733819444341), (2529, 0.0), (2530, 0.007726779121098791), (2531, 0.0), (2532, 0.0402853467467309), (2533, 0.011079777265521461), (2534, 0.043689326359136554), (2535, 0.009507185781583601), (2536, 0.0), (2537, 0.009069846555433362), (2538, 0.0256688737512928), (2539, 0.025751627354522435), (2540, 0.009815529843872241), (2541, 0.006726172695646647), (2542, 0.01456838681282694), (2543, 0.017611065543180274), (2544, 0.02448335382028187), (2545, 0.0041198139055572194), (2546, 0.012862179430737345), (2547, 0.0), (2548, 0.04925433692911193), (2549, 0.0), (2550, 0.003706510524945364), (2551, 0.02768932502265078), (2552, 0.006501883894858361), (2553, 0.0), (2554, 0.04068919280864064), (2555, 0.028183833241933742), (2556, 0.01680923988599571), (2557, 0.014288011728847905), (2558, 0.030904165107397637), (2559, 0.018533694868817948), (2560, 0.0029898601748230926), (2561, 0.003475830207965746), (2562, 0.030682524808212673), (2563, 0.01158886623195712), (2564, 0.009694000008793), (2565, 0.00400752341082062), (2566, 0.014000761338368656), (2567, 0.01023247110077439), (2568, 0.013819325139100995), (2569, 0.034145540225344474), (2570, 0.011538333597925271), (2571, 0.01870707695126426), (2572, 0.019670402420688116), (2573, 0.0), (2574, 0.010494021574684806), (2575, 0.04448378818528353), (2576, 0.007732925663849201), (2577, 0.013459489812198123), (2578, 0.03598822848665468), (2579, 0.0077595367750368386), (2580, 0.04444220279918049), (2581, 0.004019998724491575), (2582, 0.01878399723777427), (2583, 0.0038929748768076772), (2584, 0.0), (2585, 0.07296070618768048), (2586, 0.05741706319429156), (2587, 0.0), (2588, 0.026868979359350266), (2589, 0.006256248966876898), (2590, 0.00863485655530185), (2591, 0.0), (2592, 0.0028465638294292404), (2593, 0.010689417561302754), (2594, 0.026295962985731437), (2595, 0.0), (2596, 0.006916732805186161), (2597, 0.0), (2598, 0.015584498490194396), (2599, 0.013872041698427328), (2600, 0.0), (2601, 0.004123408981297662), (2602, 0.0), (2603, 0.030070685168632625), (2604, 0.0), (2605, 0.0), (2606, 0.007723827829714943), (2607, 0.01943868404364443), (2608, 0.012632822895456669), (2609, 0.011355040504969606), (2610, 0.0), (2611, 0.016280286059573497), (2612, 0.023682759781363038), (2613, 0.014887520117514933), (2614, 0.011383265273153136), (2615, 0.012905374073546002), (2616, 0.03886614035065446), (2617, 0.01103666751518228), (2618, 0.0037744696291013183), (2619, 0.0070293593691348405), (2620, 0.007985821828763411), (2621, 0.010871777860541273), (2622, 0.04203362911016602), (2623, 0.0037933366948620824), (2624, 0.00724602874896029), (2625, 0.03787127071938867), (2626, 0.0040364482640961735), (2627, 0.0), (2628, 0.012364186276053752), (2629, 0.00957974433849183), (2630, 0.012356848718771855), (2631, 0.004021115610308545), (2632, 0.009098888286104494), (2633, 0.011190412926080954), (2634, 0.006959929919817143), (2635, 0.010474639307911425), (2636, 0.0), (2637, 0.007852746682242258), (2638, 0.04834477274675156), (2639, 0.018369375955048242), (2640, 0.015227481950249866), (2641, 0.019606921328590505), (2642, 0.020978128139793377), (2643, 0.00735051452448857), (2644, 0.05589112190673639), (2645, 0.01937592346360566), (2646, 0.004529290996924397), (2647, 0.0), (2648, 0.008588674534982268), (2649, 0.0036670821457040863), (2650, 0.013193232610239771), (2651, 0.0030303483465721113), (2652, 0.0034453876769540434), (2653, 0.0035443924060645834), (2654, 0.014297706901549925), (2655, 0.017148146878447144), (2656, 0.0189284457415806), (2657, 0.006946238644716409), (2658, 0.0075795864372508), (2659, 0.03991628425313627), (2660, 0.013741040985806925), (2661, 0.04543407505008236), (2662, 0.007929633554972735), (2663, 0.011818156643460032), (2664, 0.040226088939514106), (2665, 0.023892190161387175), (2666, 0.0032475863200465372), (2667, 0.0), (2668, 0.013208817180514185), (2669, 0.018411782183266518), (2670, 0.032000211724757026), (2671, 0.026133755627639036), (2672, 0.013819006376600593), (2673, 0.013724069371149606), (2674, 0.008740122664664252), (2675, 0.025516861512831984), (2676, 0.006297055414261675), (2677, 0.0031858925423518237), (2678, 0.06765499310428398), (2679, 0.011377307999541824), (2680, 0.02643139610510788), (2681, 0.025214478224556806), (2682, 0.010069877317991093), (2683, 0.007169032639228749), (2684, 0.004147165129770118), (2685, 0.04307580427966566), (2686, 0.030215821952538753), (2687, 0.03185960578168614), (2688, 0.02638352878719063), (2689, 0.011131353970499946), (2690, 0.0028785850368191626), (2691, 0.016689449775552197), (2692, 1.0), (2693, 0.006835772634034619), (2694, 0.0036949909680863207), (2695, 0.0), (2696, 0.002573487557218253), (2697, 0.021009886267187618), (2698, 0.016234917688798773), (2699, 0.018111066490172696), (2700, 0.05413093332374981), (2701, 0.023071736416966398), (2702, 0.04769668397944873), (2703, 0.011467312242040336), (2704, 0.007818795260694063), (2705, 0.023541264236131072), (2706, 0.007734781180568792), (2707, 0.011228803368768147), (2708, 0.016915338066933544), (2709, 0.0), (2710, 0.003621061193697295), (2711, 0.0), (2712, 0.037772661655749516), (2713, 0.04695874413751655), (2714, 0.0023384295749216116), (2715, 0.003803813507719562), (2716, 0.004040122264478207), (2717, 0.01720126639416553), (2718, 0.044648873839905706), (2719, 0.007185027714435356), (2720, 0.024467360654767272), (2721, 0.013572151631656594), (2722, 0.015755720857305804), (2723, 0.009788572387565432), (2724, 0.06488296532799), (2725, 0.016636523228726025), (2726, 0.012310647793260573), (2727, 0.03371209036440307), (2728, 0.13031901521545572), (2729, 0.0), (2730, 0.020476238095611343), (2731, 0.016555602291135472), (2732, 0.025157575412546058), (2733, 0.009817797222394667), (2734, 0.0025132237499771995), (2735, 0.010673016775216607), (2736, 0.020712365438548097), (2737, 0.02535462791460895), (2738, 0.016049026445875587), (2739, 0.007339808597593776), (2740, 0.0073506900340434035), (2741, 0.014235972238023614), (2742, 0.010607746216041146), (2743, 0.022912389180285965), (2744, 0.0071530534684974695), (2745, 0.0126245550177275), (2746, 0.014509192520519899), (2747, 0.002566032532500591), (2748, 0.003934589321154182), (2749, 0.0), (2750, 0.0), (2751, 0.010162946651465847), (2752, 0.02516020967207646), (2753, 0.0), (2754, 0.032463330705033086), (2755, 0.003099278601666074), (2756, 0.021179788098125825), (2757, 0.007774849507621541), (2758, 0.022030810081837666), (2759, 0.009800606504258909), (2760, 0.033829188155490665), (2761, 0.01397721520174781), (2762, 0.003877097796518681), (2763, 0.007340928657829881), (2764, 0.01719485768910852), (2765, 0.008652252354859571), (2766, 0.008656673361920003), (2767, 0.018159044772554235), (2768, 0.003680464232580749), (2769, 0.021593141885353648), (2770, 0.010759327419802303), (2771, 0.0038223020019004434), (2772, 0.0), (2773, 0.003774080457124729), (2774, 0.0028199457985614686), (2775, 0.010355860878999775), (2776, 0.007834557151318288), (2777, 0.0068753086382271796), (2778, 0.010601143490774644), (2779, 0.005901190830134665), (2780, 0.016823179946532086), (2781, 0.0030169852613401147), (2782, 0.008998460278779735), (2783, 0.0030354501034978347), (2784, 0.016021337138500485), (2785, 0.04033848556345939), (2786, 0.027050879379693527), (2787, 0.017929525945861464), (2788, 0.007467097793032704), (2789, 0.03125110326172994), (2790, 0.061959542696172244), (2791, 0.03323908309681728), (2792, 0.02264417943433676), (2793, 0.009377695413932286), (2794, 0.0), (2795, 0.05679303868273454), (2796, 0.028698012588331816), (2797, 0.008502580210146481), (2798, 0.012840347781192673), (2799, 0.02677644262664847), (2800, 0.0), (2801, 0.04730410797400492), (2802, 0.029975465277093265), (2803, 0.0), (2804, 0.02749533124132411), (2805, 0.010583915033737255), (2806, 0.019359896675725255), (2807, 0.016059493535064733), (2808, 0.015075624634959057), (2809, 0.02684996137928006), (2810, 0.006837885822669373), (2811, 0.0067450249838822305), (2812, 0.012137315735106121), (2813, 0.004091215653446151), (2814, 0.006760054400358729), (2815, 0.009896437374464793), (2816, 0.020710191732307915), (2817, 0.024857273055955656), (2818, 0.048855833187924684), (2819, 0.01404232615143183), (2820, 0.007634044391825331), (2821, 0.0), (2822, 0.01569523445640869), (2823, 0.0), (2824, 0.002908331061594371), (2825, 0.006917063537731937), (2826, 0.003100632514564787), (2827, 0.0032136797745627088), (2828, 0.02967318363974179), (2829, 0.0), (2830, 0.004198824208797355), (2831, 0.003868801744451875), (2832, 0.012788414884588086), (2833, 0.003158914798827189), (2834, 0.003995480795975861), (2835, 0.07146319990785284), (2836, 0.004738722699252685), (2837, 0.015059375591680278), (2838, 0.036224545697695246), (2839, 0.0), (2840, 0.002889829493514533), (2841, 0.00909841939823969), (2842, 0.04361408547237743), (2843, 0.05786725954632993), (2844, 0.011392726385248745), (2845, 0.03056121625865435), (2846, 0.003539300646806674), (2847, 0.02923348190136603), (2848, 0.008276963134034893), (2849, 0.02451024840947955), (2850, 0.00402603351248646), (2851, 0.016226358646599562), (2852, 0.0037091068178475373), (2853, 0.0), (2854, 0.0), (2855, 0.008998426546538013), (2856, 0.004384018288462557), (2857, 0.022779991117247947), (2858, 0.002448175093259605), (2859, 0.0028154741492983698), (2860, 0.0), (2861, 0.044926061231950414), (2862, 0.00308356285110866), (2863, 0.0), (2864, 0.0), (2865, 0.019244979611318977), (2866, 0.009553527275104052), (2867, 0.0035026293563215076), (2868, 0.0), (2869, 0.0029548203996691493), (2870, 0.011315053568692283), (2871, 0.018468012780834597), (2872, 0.048055133515829816), (2873, 0.021068898880295783), (2874, 0.023506546703451352), (2875, 0.003953322952297675), (2876, 0.0), (2877, 0.015024908024201741), (2878, 0.011503218596462509), (2879, 0.002941574478945971), (2880, 0.003031187973449514), (2881, 0.012915363546400306), (2882, 0.006745790432448523), (2883, 0.04102913722543447), (2884, 0.0), (2885, 0.0298766354323579), (2886, 0.025725030945364106), (2887, 0.017285607133100053), (2888, 0.009271692179298976), (2889, 0.004204173439250554), (2890, 0.010660271065548425), (2891, 0.007325896039290078), (2892, 0.024626685951563646), (2893, 0.015655058749177147), (2894, 0.03360954570644138), (2895, 0.004322294068955315), (2896, 0.0), (2897, 0.0), (2898, 0.019794928353375103), (2899, 0.006567985684465656), (2900, 0.018434544889086316), (2901, 0.0), (2902, 0.011976933511556542), (2903, 0.010642006292866338), (2904, 0.0), (2905, 0.0), (2906, 0.031999144342033874), (2907, 0.014173028621585582), (2908, 0.03465743909038778), (2909, 0.0384453823974819), (2910, 0.00416141622733179), (2911, 0.035844688977857316), (2912, 0.0036552777713331273), (2913, 0.010344730033888116), (2914, 0.002503425108376597), (2915, 0.015382594571657738), (2916, 0.0077020182396054645), (2917, 0.022538842334714114), (2918, 0.0), (2919, 0.0027602543111286816), (2920, 0.02244493723386799), (2921, 0.021589045756478062), (2922, 0.04389674848291832), (2923, 0.02846318142315278), (2924, 0.0320141109221215), (2925, 0.007533605450240406), (2926, 0.03130915396032986), (2927, 0.022840135978440312), (2928, 0.010877149849302135), (2929, 0.02471919588029269), (2930, 0.003728786407296125), (2931, 0.0037237387548226873), (2932, 0.002660698542866507), (2933, 0.003901871811175433), (2934, 0.01520294568857423), (2935, 0.004353137790493454), (2936, 0.009392098065129065), (2937, 0.011203343340363357), (2938, 0.02429833103597159), (2939, 0.0037886528476506467), (2940, 0.0), (2941, 0.011749577791028438), (2942, 0.007665634368625251), (2943, 0.013151286047754878), (2944, 0.017191226884146607), (2945, 0.010057877162581942), (2946, 0.004095134884260457), (2947, 0.0034291456834197), (2948, 0.003764065926121605), (2949, 0.037758167169942444), (2950, 0.024793357690212077), (2951, 0.0903740628476995), (2952, 0.025596845600272235), (2953, 0.0), (2954, 0.03635599813665598), (2955, 0.011202868392846451), (2956, 0.0), (2957, 0.0), (2958, 0.007093293906782434), (2959, 0.002017479400641795), (2960, 0.0), (2961, 0.018222952215437446), (2962, 0.0034892056713026398), (2963, 0.00697484490612533), (2964, 0.009116448568691432), (2965, 0.03208679195674419), (2966, 0.0), (2967, 0.007282832430848056), (2968, 0.003163547321697858), (2969, 0.0030274738344971655), (2970, 0.06869735936320145), (2971, 0.004277391960190935), (2972, 0.006803431634494636), (2973, 0.0), (2974, 0.010844668263008872), (2975, 0.036742823691536045), (2976, 0.008307862009514357), (2977, 0.006108017644781725), (2978, 0.03621335938124499), (2979, 0.003412588939353975), (2980, 0.010512987847621875), (2981, 0.02042104554977471), (2982, 0.030133937876932), (2983, 0.02269456820344817), (2984, 0.002293831783674407), (2985, 0.02395815466715173), (2986, 0.003024484498432321), (2987, 0.02236353221490393), (2988, 0.007905548090008867), (2989, 0.0031167504584609165), (2990, 0.0234577209792052), (2991, 0.03196596826849712), (2992, 0.04654846200642351), (2993, 0.016252578990121024), (2994, 0.012940463259744808), (2995, 0.0), (2996, 0.0029587895891730787), (2997, 0.0038948153388442914), (2998, 0.0), (2999, 0.010889912696717883), (3000, 0.0031955550502920462), (3001, 0.02410681993775721), (3002, 0.005938684872480013), (3003, 0.008529404424018523), (3004, 0.0031163351521696792), (3005, 0.004877704504618526), (3006, 0.006984547374677498), (3007, 0.00661553297376186), (3008, 0.01192504993482927), (3009, 0.023106807705619667), (3010, 0.034028541573559015), (3011, 0.004024767126634185), (3012, 0.03843302644658557), (3013, 0.07902449323995073), (3014, 0.004350023519565955), (3015, 0.014268310444050416), (3016, 0.007994121840319304), (3017, 0.0029236470250852), (3018, 0.003319887501863877), (3019, 0.006434519251973024), (3020, 0.0033267289640577773), (3021, 0.009059485020952027), (3022, 0.010541253667166725), (3023, 0.0), (3024, 0.008837409664999006), (3025, 0.003125393614113435), (3026, 0.0), (3027, 0.007139044515294344), (3028, 0.021258569472621367), (3029, 0.011090862152091653), (3030, 0.0038134109559881638), (3031, 0.0), (3032, 0.07928267961084458), (3033, 0.015215174058494629), (3034, 0.015853063900727743), (3035, 0.009813561781386228), (3036, 0.010706985663025217), (3037, 0.0037624857279307785), (3038, 0.008071311001965951), (3039, 0.0), (3040, 0.0041312267135190876), (3041, 0.0028447963873551607), (3042, 0.014663841381378023), (3043, 0.017447113921291432), (3044, 0.02690328832994897), (3045, 0.018491024116621325), (3046, 0.020572909642036945), (3047, 0.0029044883504253187), (3048, 0.03619944635845582), (3049, 0.018426224706145005), (3050, 0.003420801283271454), (3051, 0.03250700879097443), (3052, 0.018678240483650257), (3053, 0.018680560618649464), (3054, 0.0028172348693616296), (3055, 0.008052290075373225), (3056, 0.0038288360968642696), (3057, 0.014578476306973728), (3058, 0.0106950071387459), (3059, 0.026977397155339457), (3060, 0.012347360428515235), (3061, 0.010048438982310438), (3062, 0.015544299803005706), (3063, 0.03426206163763065), (3064, 0.03164166549035227), (3065, 0.014025381557845943), (3066, 0.027041538932486984), (3067, 0.023532407655820934), (3068, 0.014312760157671349), (3069, 0.018844790318996767), (3070, 0.0), (3071, 0.003222018639803982), (3072, 0.0033288818096888586), (3073, 0.007957762813679003), (3074, 0.008118612614694817), (3075, 0.008113173609796326), (3076, 0.0076128258453635024), (3077, 0.003330600447454461), (3078, 0.023735595535689623), (3079, 0.02370486232390967), (3080, 0.015411134129453139), (3081, 0.0), (3082, 0.0), (3083, 0.028400716415962212), (3084, 0.0), (3085, 0.003756752950358687), (3086, 0.0), (3087, 0.007733564765329157), (3088, 0.03907355781021722), (3089, 0.03359948980371171), (3090, 0.004474048282506341), (3091, 0.02191923624640458), (3092, 0.0), (3093, 0.0), (3094, 0.009025661401122376), (3095, 0.010906746413756751), (3096, 0.007255705329993062), (3097, 0.014942154987609773), (3098, 0.0068748140685257085), (3099, 0.007020487640127041), (3100, 0.010655086542779147), (3101, 0.006619576244146646), (3102, 0.040902180075725575), (3103, 0.019938552852404458), (3104, 0.0), (3105, 0.0), (3106, 0.004325845170384855), (3107, 0.007756771989560305), (3108, 0.013716785609711313), (3109, 0.024944537933458803), (3110, 0.01980269141518321), (3111, 0.015053345159748493), (3112, 0.011500148941038246), (3113, 0.026994990024599486), (3114, 0.019907154065541485), (3115, 0.030530651419301336), (3116, 0.0042744978917407875), (3117, 0.0), (3118, 0.022238241902407134), (3119, 0.02134147774452665), (3120, 0.019180733031490416), (3121, 0.008490712784971299), (3122, 0.013671016998612381), (3123, 0.0035764192470799628), (3124, 0.0), (3125, 0.01469883281749021), (3126, 0.0), (3127, 0.0), (3128, 0.007782688484259776), (3129, 0.0), (3130, 0.028894887621297678), (3131, 0.0), (3132, 0.006457692008737179), (3133, 0.022630484564657424), (3134, 0.009521303804160835), (3135, 0.025662981916316486), (3136, 0.008991586758472954), (3137, 0.01695096094216033), (3138, 0.0), (3139, 0.02917855921987441), (3140, 0.0032332343033155513), (3141, 0.002764285314866093), (3142, 0.010059388634972164), (3143, 0.1433301504686549), (3144, 0.02070386294602755), (3145, 0.011492436587800968), (3146, 0.03174770597817957), (3147, 0.018214816878602404), (3148, 0.05150899368810556), (3149, 0.0), (3150, 0.0), (3151, 0.01222893500716599), (3152, 0.047451883184286225), (3153, 0.009792465306552681), (3154, 0.01697121936926738), (3155, 0.014908714606590882), (3156, 0.010662156961305621), (3157, 0.008589547223633361), (3158, 0.041625201386222964), (3159, 0.031759468828725296), (3160, 0.003585474044317422), (3161, 0.022380480870595378), (3162, 0.0069411858657394765), (3163, 0.015260656773313536), (3164, 0.024857436930392236), (3165, 0.010859688727097333), (3166, 0.019719256719634603), (3167, 0.00877450837340742), (3168, 0.004088639282162616), (3169, 0.0037042773883136128), (3170, 0.03415968972384946), (3171, 0.004166543624190807), (3172, 0.0030523467465416215), (3173, 0.008090999396105567), (3174, 0.008350766770238853), (3175, 0.02854272181719217), (3176, 0.0026706039292791277), (3177, 0.01178496143202421), (3178, 0.009286897261874434), (3179, 0.01375463910861741), (3180, 0.010993676475004124), (3181, 0.003345089085249835), (3182, 0.00661244395555512), (3183, 0.025804583355885414), (3184, 0.0071935346107437044), (3185, 0.06698704302203147), (3186, 0.011911792923564406), (3187, 0.02224056104172753), (3188, 0.011440339125645155), (3189, 0.0), (3190, 0.012180510617665088), (3191, 0.09354144440025101), (3192, 0.008307032018564621), (3193, 0.008196466888858915), (3194, 0.0), (3195, 0.0055829262845996635), (3196, 0.12159682265799553), (3197, 0.04258930680637735), (3198, 0.0031464925546650143), (3199, 0.005265193285993961), (3200, 0.0), (3201, 0.0), (3202, 0.033846207053041706), (3203, 0.07220603663410921), (3204, 0.0027920365399553408), (3205, 0.030996850843098223), (3206, 0.0038907312198523556), (3207, 0.0027570296570527484), (3208, 0.011348679176986872), (3209, 0.0), (3210, 0.007174628377354639), (3211, 0.00789891909854294), (3212, 0.003417654117273588), (3213, 0.00784090674762669), (3214, 0.0038426289195113406), (3215, 0.003782889122491813), (3216, 0.01065177298535436), (3217, 0.0), (3218, 0.012393118220592508), (3219, 0.007448363801304219), (3220, 0.003153414578626452), (3221, 0.0), (3222, 0.03529754944052989), (3223, 0.009585805973075685), (3224, 0.0), (3225, 0.0), (3226, 0.0029130567310562856), (3227, 0.0), (3228, 0.00877255857993121), (3229, 0.0), (3230, 0.031645773190428085), (3231, 0.007218526082936848), (3232, 0.013500110611967604), (3233, 0.0), (3234, 0.0), (3235, 0.007011315828312317), (3236, 0.003744927215729039), (3237, 0.0), (3238, 0.00468220781831378), (3239, 0.0), (3240, 0.01408754714993754), (3241, 0.011324176646355048), (3242, 0.018624206975280975), (3243, 0.017629376069255073), (3244, 0.0031249307929682607), (3245, 0.012029467027111933), (3246, 0.03279362655090997), (3247, 0.011139343258054015), (3248, 0.009826821699746361), (3249, 0.0045164194159757936), (3250, 0.030968177968108107), (3251, 0.017791306180471443), (3252, 0.007570807072697026), (3253, 0.04315115263829142), (3254, 0.00304857726045245), (3255, 0.025750226371515975), (3256, 0.0030329881254072353), (3257, 0.0066936285769453015), (3258, 0.02977848475441836), (3259, 0.011500680408207314), (3260, 0.00384080588904692), (3261, 0.05320621321896014), (3262, 0.011155016056275564), (3263, 0.0), (3264, 0.01602088589240122), (3265, 0.09707181963590718), (3266, 0.0036991841587183326), (3267, 0.023976036212350317), (3268, 0.0), (3269, 0.0), (3270, 0.0), (3271, 0.016051215605811867), (3272, 0.003384428846722295), (3273, 0.007075249949169865), (3274, 0.007717949707431464), (3275, 0.015559315066381373), (3276, 0.0027983978642765212), (3277, 0.023794588623377064), (3278, 0.027275527061833848), (3279, 0.0100584862113078), (3280, 0.04196972739331723), (3281, 0.00486114097262016), (3282, 0.013610640646690368), (3283, 0.03861421037717332), (3284, 0.06816220359136455), (3285, 0.0), (3286, 0.006124523236414104), (3287, 0.028427961920745412), (3288, 0.010967758039538023), (3289, 0.015499140844275516), (3290, 0.0037145871327936932), (3291, 0.06676402552116634), (3292, 0.006241508681333536), (3293, 0.004191986019575562), (3294, 0.011762612986225038), (3295, 0.009204447667781225), (3296, 0.022914807746220525), (3297, 0.0030981198131866177), (3298, 0.0032141758441259043), (3299, 0.002938033488526356), (3300, 0.01242142687031918), (3301, 0.03412036282146019), (3302, 0.008532013446553603), (3303, 0.027827037754984154), (3304, 0.0), (3305, 0.00402873932096504), (3306, 0.008412432692977345), (3307, 0.0026317875905516996), (3308, 0.0), (3309, 0.044475988295988464), (3310, 0.003156752889701659), (3311, 0.05108528216388252), (3312, 0.030156137337648218), (3313, 0.047047923149889564), (3314, 0.0), (3315, 0.012363806342652134), (3316, 0.004420847262177144), (3317, 0.027396986590293458), (3318, 0.008663327939626951), (3319, 0.01390772488038702), (3320, 0.04509045313673072), (3321, 0.00764351225988608), (3322, 0.025594075150524257), (3323, 0.006566027270043623), (3324, 0.003377847883049266), (3325, 0.01600476336481327), (3326, 0.012643149591917195), (3327, 0.017850890534703977), (3328, 0.004347462615220352), (3329, 0.04631847122830799), (3330, 0.003253035604165976), (3331, 0.0066513183175574185), (3332, 0.004087954727942499), (3333, 0.0046611446992217715), (3334, 0.007498041889809935), (3335, 0.0033546481822719775), (3336, 0.007544716654931401), (3337, 0.02667957127823052), (3338, 0.03914912950313427), (3339, 0.030831043196321694), (3340, 0.0251758207061119), (3341, 0.007652043000559553), (3342, 0.020951130227515408), (3343, 0.003963365447867954), (3344, 0.006254689940015813), (3345, 0.005781853028625922), (3346, 0.0), (3347, 0.0), (3348, 0.007909620529354126), (3349, 0.00941805411103229), (3350, 0.005248100346185242), (3351, 0.013966463606779824), (3352, 0.0), (3353, 0.0028039180246238046), (3354, 0.029295236672172292), (3355, 0.0520664153644974), (3356, 0.009180245041865704), (3357, 0.007083625733736059), (3358, 0.0), (3359, 0.007683542935895036), (3360, 0.00849963593385332), (3361, 0.010334547220870221), (3362, 0.012254302752864463), (3363, 0.06246653196203239), (3364, 0.019346754462266275), (3365, 0.0064238827438238295), (3366, 0.003233159793087592), (3367, 0.0), (3368, 0.009192100255247618), (3369, 0.01679923831231408), (3370, 0.009862764076324183), (3371, 0.01225176740106246), (3372, 0.0), (3373, 0.025331875090555935), (3374, 0.012120798190763084), (3375, 0.0), (3376, 0.014074975058179538), (3377, 0.0035623679645198827), (3378, 0.0211437532757703), (3379, 0.0), (3380, 0.003917587199471267), (3381, 0.007357241454534698), (3382, 0.021928041519592392), (3383, 0.033470195648806655), (3384, 0.020328545548895106), (3385, 0.01919571274247145), (3386, 0.006541285654392742), (3387, 0.012443329238785779), (3388, 0.013931183797562217), (3389, 0.08846961410068609), (3390, 0.0), (3391, 0.0), (3392, 0.019709977773784915), (3393, 0.017779143505370323), (3394, 0.015144777768817065), (3395, 0.0027198598650005246), (3396, 0.0), (3397, 0.01585273688967172), (3398, 0.002675286292423743), (3399, 0.00830030687547387), (3400, 0.003847887475187007), (3401, 0.0), (3402, 0.006296330842866789), (3403, 0.021571924014202853), (3404, 0.003855551377414355), (3405, 0.03555820668165932), (3406, 0.016621378376058787), (3407, 0.03577861128032576), (3408, 0.015802202322255585), (3409, 0.021689533471579814), (3410, 0.0), (3411, 0.006632704752663518), (3412, 0.009989535252097795), (3413, 0.004156846921423189), (3414, 0.016691500995807157), (3415, 0.0042684274071717486), (3416, 0.00782111170477969), (3417, 0.0), (3418, 0.0608522139600998), (3419, 0.0), (3420, 0.00819050295464968), (3421, 0.03196754393865611), (3422, 0.0124295259255266), (3423, 0.003025366169242334), (3424, 0.007442725420089839), (3425, 0.0), (3426, 0.014221120400756649), (3427, 0.013892236393311759), (3428, 0.0031585633673090227), (3429, 0.006993232278971725), (3430, 0.02101334298394217), (3431, 0.009746023640623833), (3432, 0.0), (3433, 0.0037398140673401536), (3434, 0.0036403926910004163), (3435, 0.027883858486328524), (3436, 0.032367812535788826), (3437, 0.0890659665669626), (3438, 0.0466116754707689), (3439, 0.011284263904470019), (3440, 0.054926596738621804), (3441, 0.006305198214735869), (3442, 0.0), (3443, 0.006984140905670147), (3444, 0.00393288680531131), (3445, 0.011415140561005102), (3446, 0.0), (3447, 0.010690293715499798), (3448, 0.0030179938761772064), (3449, 0.003966992900128523), (3450, 0.010301319648175496), (3451, 0.006189383998529735), (3452, 0.011421618466618955), (3453, 0.0), (3454, 0.009871560346091018), (3455, 0.022982954708291592), (3456, 0.008361799443735666), (3457, 0.0038150514956735355), (3458, 0.011285718918823174), (3459, 0.026138946706103287), (3460, 0.020707219694335366), (3461, 0.006434515992553917), (3462, 0.004151990866539084), (3463, 0.004366049225645365), (3464, 0.0036540768300537415), (3465, 0.010708171871425486), (3466, 0.007302503756505472), (3467, 0.01176132443405603), (3468, 0.006844547176577148), (3469, 0.0), (3470, 0.027616807582167564), (3471, 0.0032026544721121797), (3472, 0.0044858980329219944), (3473, 0.009519981012595422), (3474, 0.024271964871319517), (3475, 0.004277779409424347), (3476, 0.04127550204682198), (3477, 0.019818001286801938), (3478, 0.08690683774392044), (3479, 0.024687822933992017), (3480, 0.002720376578576812), (3481, 0.01515083722468337), (3482, 0.0029285041862218706), (3483, 0.004557533480847282), (3484, 0.008399286937293174), (3485, 0.0064188558879675235), (3486, 0.02340970052033211), (3487, 0.009009878062043938), (3488, 0.0), (3489, 0.013387804867610932), (3490, 0.012043179956428205), (3491, 0.02096320713002918), (3492, 0.0034612115077620556), (3493, 0.0028302144697686317), (3494, 0.0), (3495, 0.003211687777919676), (3496, 0.0029746630657039867), (3497, 0.00730082561345226), (3498, 0.016141236530198996), (3499, 0.0), (3500, 0.014218105235254401), (3501, 0.010322942559467339), (3502, 0.007814837047283842), (3503, 0.01168482350163887), (3504, 0.004187296055392614), (3505, 0.01480846714019263), (3506, 0.008058266306441205), (3507, 0.025438179795705125), (3508, 0.0), (3509, 0.012526813387932795), (3510, 0.0), (3511, 0.0), (3512, 0.0072749912136509855), (3513, 0.008418941573099041), (3514, 0.009788603590467404), (3515, 0.02220757746012331), (3516, 0.0), (3517, 0.0), (3518, 0.005920055962816377), (3519, 0.0068195318569289065), (3520, 0.022820276760385942), (3521, 0.0), (3522, 0.030594055598978463), (3523, 0.010770627069989151), (3524, 0.018619214387524854), (3525, 0.0126968473867431), (3526, 0.0035734148732073073), (3527, 0.024504961553551696), (3528, 0.0034630739554464586), (3529, 0.013493362998502876), (3530, 0.003932501972416613), (3531, 0.020430551309071596), (3532, 0.06082447735530725), (3533, 0.004129172525789089), (3534, 0.032077492860289825), (3535, 0.0), (3536, 0.03361255640562913), (3537, 0.0029370944204188225), (3538, 0.007326588543739108), (3539, 0.004091427043943794), (3540, 0.00340395785448842), (3541, 0.01069549546499179), (3542, 0.006612831887498667), (3543, 0.028780269206130346), (3544, 0.009962803312951731), (3545, 0.0040703393761179095), (3546, 0.0037792656643529407), (3547, 0.003106451600910636), (3548, 0.02053693091356912), (3549, 0.050001120375255774), (3550, 0.017634092021004466), (3551, 0.011546479563772926), (3552, 0.01744315563979131), (3553, 0.019449528325055226), (3554, 0.030459385682193196), (3555, 0.0035555773980400626), (3556, 0.011380492138750739), (3557, 0.038349054101627554), (3558, 0.010702602259599549), (3559, 0.004632866142799364), (3560, 0.0044362495907159846), (3561, 0.004407120218882009), (3562, 0.009054144745192231), (3563, 0.0), (3564, 0.00391547812074779), (3565, 0.04952110951922774), (3566, 0.025284080264789087), (3567, 0.004409139232959319), (3568, 0.02150132712150499), (3569, 0.02206872026361911), (3570, 0.0), (3571, 0.011053807562508917), (3572, 0.02105896003645366), (3573, 0.003174195924846195), (3574, 0.022201532070293583), (3575, 0.016034020470310942), (3576, 0.0032438090154740923), (3577, 0.03391832354695936), (3578, 0.008108994291109534), (3579, 0.0), (3580, 0.009275071841403696), (3581, 0.0037411022135382587), (3582, 0.04130771788893792), (3583, 0.12123926233042777), (3584, 0.03125557598570253), (3585, 0.060596129815390316), (3586, 0.0), (3587, 0.007431529482239203), (3588, 0.008365245215905322), (3589, 0.0), (3590, 0.0034547909330141205), (3591, 0.0032509018607061037), (3592, 0.0044939969784381275), (3593, 0.0189512557549883), (3594, 0.01232371649470324), (3595, 0.01940217128532412), (3596, 0.002822457859346791), (3597, 0.023141648161374397), (3598, 0.006659172719350823), (3599, 0.0032699013424261924), (3600, 0.004713864892804078), (3601, 0.0), (3602, 0.017044400204589236), (3603, 0.029260516009591977), (3604, 0.0), (3605, 0.011357988225020352), (3606, 0.019476899038861087), (3607, 0.003156396082711049), (3608, 0.046309531732859885), (3609, 0.012690084013210716), (3610, 0.0), (3611, 0.016942815093064195), (3612, 0.0), (3613, 0.01940608685474661), (3614, 0.0), (3615, 0.0034596832233810505), (3616, 0.009652595103364543), (3617, 0.0), (3618, 0.011385356185653922), (3619, 0.0), (3620, 0.0033095800386878545), (3621, 0.0036447438574787835), (3622, 0.004300351967879797), (3623, 0.02235547691319225), (3624, 0.048546604055040236), (3625, 0.004063302806995606), (3626, 0.007226333128766474), (3627, 0.004157425941521737), (3628, 0.010649202075862733), (3629, 0.019359184058436715), (3630, 0.01411268822841155), (3631, 0.0), (3632, 0.019237426048427535), (3633, 0.0029587632531014054), (3634, 0.00727342228928583), (3635, 0.007086354125209163), (3636, 0.011359321327863565), (3637, 0.041257077315910815), (3638, 0.017208213358651032), (3639, 0.0036230375670469536), (3640, 0.012160278993058701), (3641, 0.0), (3642, 0.03145968893096327), (3643, 0.021220703645531233), (3644, 0.0036199203888935294), (3645, 0.0), (3646, 0.08319201342712515), (3647, 0.0), (3648, 0.013089519012504654), (3649, 0.01784630032370513), (3650, 0.007736008728218053), (3651, 0.02596372592280523), (3652, 0.008931413037265539), (3653, 0.022275351466679104), (3654, 0.047140030542065316), (3655, 0.016953676294425672), (3656, 0.014040976746224097), (3657, 0.012501771903106884), (3658, 0.02974232500030776), (3659, 0.06929355034298226), (3660, 0.03635728806474173), (3661, 0.003907757279557385), (3662, 0.003959999383192544), (3663, 0.011395276610481488), (3664, 0.027785710845354344), (3665, 0.01287517660349731), (3666, 0.002948771125204707), (3667, 0.0), (3668, 0.010374466409667018), (3669, 0.004060479627966354), (3670, 0.0), (3671, 0.028273321838471054), (3672, 0.002504662674354688), (3673, 0.005964981232752905), (3674, 0.015365619693724405), (3675, 0.02382994657806497), (3676, 0.0), (3677, 0.036815303383487305), (3678, 0.00649924459294908), (3679, 0.005478767556047922), (3680, 0.005903551695149882), (3681, 0.08251913136271118), (3682, 0.00795468181078835), (3683, 0.003099056112253665), (3684, 0.0030199212690921323), (3685, 0.02165571205595135), (3686, 0.03399249574799884), (3687, 0.027239395050680588), (3688, 0.008053303557367646), (3689, 0.028262855284344746), (3690, 0.0), (3691, 0.0041541772299594154), (3692, 0.06664396170049514), (3693, 0.002716482156431146), (3694, 0.04685510732848361), (3695, 0.0), (3696, 0.007663681442450258), (3697, 0.0), (3698, 0.003681433457466993), (3699, 0.020584971204358624), (3700, 0.00295858569098286), (3701, 0.0029988907551456367), (3702, 0.015377663999892613), (3703, 0.00390857647602207), (3704, 0.0031102125857768764), (3705, 0.008511606213515452), (3706, 0.01606685914813588), (3707, 0.0032988830868598013), (3708, 0.014064241167368274), (3709, 0.0), (3710, 0.04119083618672972), (3711, 0.029105537922014264), (3712, 0.0069332313317552186), (3713, 0.006857324117256189), (3714, 0.010863115249841385), (3715, 0.0035454658804546907), (3716, 0.003685262494758266), (3717, 0.003803816197221065), (3718, 0.011121045916626753), (3719, 0.0), (3720, 0.007486278783646332), (3721, 0.009067620874393098), (3722, 0.003093060313393558), (3723, 0.0054750937995895), (3724, 0.028804037868400568), (3725, 0.007593514238623808), (3726, 0.01579335076141065), (3727, 0.004442144444823251), (3728, 0.01764922562510156), (3729, 0.007848923474948982), (3730, 0.0030052870063908277), (3731, 0.0), (3732, 0.011919537653289217), (3733, 0.010347021972908347), (3734, 0.0), (3735, 0.011155514306175058)]\n"
          ]
        }
      ]
    },
    {
      "cell_type": "code",
      "source": [
        "len(Recommendation_Score)"
      ],
      "metadata": {
        "colab": {
          "base_uri": "https://localhost:8080/"
        },
        "id": "6q2EjpZeGy7w",
        "outputId": "1b899fd6-ebe0-452c-9bc5-ab261ed78753"
      },
      "execution_count": null,
      "outputs": [
        {
          "output_type": "execute_result",
          "data": {
            "text/plain": [
              "3736"
            ]
          },
          "metadata": {},
          "execution_count": 59
        }
      ]
    },
    {
      "cell_type": "code",
      "source": [
        "# @title Get All Movies Sort Based on Recommendation Score wrt Favourite Movie\n",
        "sorted_similar_Movies = sorted(Recommendation_Score, key =lambda x:x[1], reverse = True)\n",
        "print(sorted_similar_Movies)"
      ],
      "metadata": {
        "colab": {
          "base_uri": "https://localhost:8080/"
        },
        "id": "obumAhtiHKCq",
        "outputId": "fb38fa8e-cbd9-42aa-8fc0-e661592ec686"
      },
      "execution_count": null,
      "outputs": [
        {
          "output_type": "stream",
          "name": "stdout",
          "text": [
            "[(2692, 1.0), (3143, 0.1433301504686549), (634, 0.14034629968516035), (2252, 0.13188938415769158), (2728, 0.13031901521545572), (3196, 0.12159682265799553), (3583, 0.12123926233042777), (2417, 0.11791240268692983), (1563, 0.1154769496110134), (382, 0.11163690913567327), (1827, 0.10463931974528944), (527, 0.1043446324012828), (1592, 0.10247348069946836), (1051, 0.10050218735899184), (2436, 0.09808667264154713), (3265, 0.09707181963590718), (659, 0.09650459288727899), (1696, 0.09615449441999789), (3191, 0.09354144440025101), (1745, 0.09263712396325045), (1715, 0.09236197587374681), (2951, 0.0903740628476995), (561, 0.08916191531989723), (3437, 0.0890659665669626), (3389, 0.08846961410068609), (781, 0.08762283619059537), (3478, 0.08690683774392044), (497, 0.08433623261709287), (2372, 0.08405644699600548), (3646, 0.08319201342712515), (3681, 0.08251913136271118), (102, 0.08248257797773917), (2177, 0.08149651750479896), (1655, 0.08097510811620275), (827, 0.080070166609063), (2039, 0.08000989504394024), (1377, 0.07997211398209662), (2362, 0.07961390178262631), (3032, 0.07928267961084458), (3013, 0.07902449323995073), (2294, 0.07719917131635673), (2075, 0.07554012940280008), (2008, 0.07465412487233755), (1628, 0.07372742992775037), (125, 0.07338176461777683), (2585, 0.07296070618768048), (3203, 0.07220603663410921), (1353, 0.0716156665376443), (2835, 0.07146319990785284), (1722, 0.07137668696139372), (1466, 0.07044199908031228), (364, 0.07037912847988534), (1211, 0.0700185006467272), (2421, 0.06986232781036891), (2466, 0.06933225048201998), (3659, 0.06929355034298226), (1835, 0.06899883672032327), (2970, 0.06869735936320145), (3284, 0.06816220359136455), (1200, 0.06798376524244053), (2678, 0.06765499310428398), (1235, 0.06752382517019173), (1909, 0.06744875571952236), (2070, 0.06706419160652914), (3185, 0.06698704302203147), (2444, 0.06685516336049337), (3291, 0.06676402552116634), (739, 0.06674870988428164), (3692, 0.06664396170049514), (809, 0.06621069990377726), (191, 0.06591821845614505), (1256, 0.0657597635985123), (211, 0.06499654509023325), (2724, 0.06488296532799), (1398, 0.06412250665182248), (2023, 0.06375971448347167), (245, 0.06371794874066457), (2183, 0.06358698000445527), (2092, 0.06294612901737344), (2290, 0.0626995114476374), (1480, 0.06262967411117852), (3363, 0.06246653196203239), (2790, 0.061959542696172244), (2298, 0.06181016237160072), (1582, 0.06104208827747054), (3418, 0.0608522139600998), (3532, 0.06082447735530725), (3585, 0.060596129815390316), (1349, 0.06041848402401116), (1800, 0.06038835730052074), (2242, 0.06038775635039416), (1311, 0.06008230364016519), (244, 0.05997441864865028), (1314, 0.05960332520069161), (1675, 0.05941619935493847), (1950, 0.05929287713844728), (1958, 0.05909682183154977), (1096, 0.059078314086909126), (919, 0.05905875019374007), (1867, 0.05791866186825483), (2843, 0.05786725954632993), (161, 0.05759366181819224), (14, 0.057572715227037705), (1580, 0.057571264511946676), (1911, 0.05749611912326274), (2586, 0.05741706319429156), (2019, 0.05733530490665448), (1098, 0.057083210331081914), (2795, 0.05679303868273454), (286, 0.056755699041571274), (538, 0.056736263300795224), (874, 0.056705563212592944), (609, 0.056659664676045725), (652, 0.056506188220596734), (557, 0.05640814232283977), (2387, 0.05639026512292309), (1863, 0.056047018437744955), (2644, 0.05589112190673639), (105, 0.05586118969483011), (1669, 0.055704703214777385), (680, 0.055574872963709124), (127, 0.055507167783511606), (1387, 0.055456377757096637), (628, 0.05530340460441344), (233, 0.05525843474604227), (699, 0.05521735711193492), (3440, 0.054926596738621804), (788, 0.05486346746838265), (2400, 0.05482595233093905), (1941, 0.054342354500439664), (2700, 0.05413093332374981), (83, 0.05370833864344566), (1218, 0.05366465515418505), (746, 0.053410067354681165), (3261, 0.05320621321896014), (850, 0.053021404727111685), (610, 0.052816843473331904), (1375, 0.0525335986007695), (47, 0.05230328243589736), (624, 0.05228040490628594), (3355, 0.0520664153644974), (2268, 0.05185901426137184), (944, 0.05177043671962767), (3148, 0.05150899368810556), (2124, 0.05136918700758556), (1985, 0.05112068938306569), (3311, 0.05108528216388252), (389, 0.050853876794139656), (1597, 0.05056691863609591), (232, 0.0504593402379094), (1083, 0.05033617677926722), (1524, 0.05027525793510405), (3549, 0.050001120375255774), (2452, 0.049933125840501774), (1691, 0.049857711073110544), (2121, 0.04979581776498664), (2006, 0.049677198245962076), (915, 0.04959640527149991), (3565, 0.04952110951922774), (1636, 0.04947615281285743), (400, 0.049403642899410176), (2548, 0.04925433692911193), (2401, 0.04915686011872662), (879, 0.049131373224761944), (459, 0.04907728800769416), (1201, 0.049013669641436164), (2399, 0.04885588767033292), (2818, 0.048855833187924684), (3624, 0.048546604055040236), (1317, 0.04844557018040474), (2191, 0.048436341850096265), (2638, 0.04834477274675156), (2872, 0.048055133515829816), (1006, 0.04801321967362347), (799, 0.04800883494435745), (2005, 0.04794773044759218), (1307, 0.04782860939225744), (1271, 0.047804732133695925), (2702, 0.04769668397944873), (869, 0.04754446496950315), (3152, 0.047451883184286225), (796, 0.047414412088840584), (639, 0.04732121909282385), (1572, 0.04731469155656743), (2801, 0.04730410797400492), (3654, 0.047140030542065316), (1503, 0.04704808940979972), (3313, 0.047047923149889564), (692, 0.047037057492243135), (2713, 0.04695874413751655), (313, 0.04687513037164654), (3694, 0.04685510732848361), (1302, 0.04677836322612704), (3438, 0.0466116754707689), (2992, 0.04654846200642351), (1371, 0.04638026545051614), (3329, 0.04631847122830799), (3608, 0.046309531732859885), (1723, 0.04614788656020614), (618, 0.046078143490737286), (2167, 0.045979604107692404), (302, 0.045937997764558564), (782, 0.04570331665299549), (1994, 0.0456899379690851), (2661, 0.04543407505008236), (2354, 0.04542280365173512), (2521, 0.045318175077160475), (1623, 0.04523301026361308), (949, 0.04514673198583921), (3320, 0.04509045313673072), (2861, 0.044926061231950414), (1244, 0.04490265005493734), (1331, 0.04486651258662709), (2061, 0.044864521991392056), (1318, 0.04485089685100281), (2198, 0.04472182304723289), (816, 0.044675163645877244), (2233, 0.044665988132199616), (2718, 0.044648873839905706), (2147, 0.04454770346340264), (2575, 0.04448378818528353), (3309, 0.044475988295988464), (2580, 0.04444220279918049), (708, 0.04443931768574547), (1647, 0.044201275097266055), (1494, 0.04416468344932873), (1945, 0.04414889089446533), (740, 0.04412607639135652), (2922, 0.04389674848291832), (2534, 0.043689326359136554), (2088, 0.04367714604106606), (2842, 0.04361408547237743), (336, 0.04356024792506524), (1627, 0.04347279931683065), (2204, 0.04325280546302662), (3253, 0.04315115263829142), (2685, 0.04307580427966566), (2195, 0.04305869336556493), (1808, 0.042834622550513256), (2435, 0.042723583572308425), (2406, 0.04263050424687989), (3197, 0.04258930680637735), (897, 0.042561643946387305), (1709, 0.042542378337556), (1303, 0.04250026123049087), (1025, 0.04246190246819913), (737, 0.042411440195927685), (1656, 0.042375264590488466), (823, 0.04233222886352921), (61, 0.04220884802560416), (481, 0.042131571807678556), (676, 0.04207536199672889), (2622, 0.04203362911016602), (3280, 0.04196972739331723), (1281, 0.041969050466598955), (1505, 0.04196583990309984), (1436, 0.041800646903963436), (1877, 0.0417960529985915), (540, 0.04178724664381982), (205, 0.04177272722254496), (1391, 0.04163993990277218), (3158, 0.041625201386222964), (811, 0.04157305736745434), (501, 0.041537753209782285), (984, 0.041505092200203264), (1753, 0.04148578243786606), (2284, 0.041381533028663764), (3582, 0.04130771788893792), (3476, 0.04127550204682198), (3637, 0.041257077315910815), (1903, 0.04121705572156303), (3710, 0.04119083618672972), (28, 0.04116824238132938), (1575, 0.04116112734716228), (2313, 0.04109935801326461), (644, 0.04108146330433246), (383, 0.04103606490201475), (2883, 0.04102913722543447), (259, 0.0409444526249956), (760, 0.04091099765121853), (3102, 0.040902180075725575), (1560, 0.04090009281546103), (787, 0.04082877854430274), (2554, 0.04068919280864064), (484, 0.04068391382665273), (2517, 0.04058345372588153), (2490, 0.04049017528032936), (1785, 0.040396806646659185), (1684, 0.040387200361471025), (2785, 0.04033848556345939), (2461, 0.04028908087023349), (2532, 0.0402853467467309), (720, 0.04026180769410427), (239, 0.040231755565478755), (2664, 0.040226088939514106), (13, 0.04011119497071579), (2004, 0.03997560433778458), (1285, 0.03995870844144042), (2375, 0.039934696724436634), (2659, 0.03991628425313627), (216, 0.03989245052142192), (457, 0.03967514178680587), (842, 0.03964531372820786), (407, 0.039583488290511865), (1538, 0.03939823161451797), (896, 0.03921789361344737), (3338, 0.03914912950313427), (726, 0.039122252150888534), (3088, 0.03907355781021722), (197, 0.03895766229872209), (136, 0.038930439348573195), (297, 0.03891777673973665), (2616, 0.03886614035065446), (2134, 0.03876016628535528), (1125, 0.0386904848702266), (504, 0.03864510236613022), (1688, 0.038638254155091784), (3283, 0.03861421037717332), (1258, 0.03853097843852658), (2909, 0.0384453823974819), (3012, 0.03843302644658557), (479, 0.03838806285192069), (1756, 0.038349946683380425), (3557, 0.038349054101627554), (1069, 0.038298913315923167), (747, 0.03811566376118891), (729, 0.03811099581531825), (1646, 0.03807434788839482), (1382, 0.0380737328891059), (603, 0.03797002763669426), (115, 0.03791426415667942), (1321, 0.0378866450034108), (2625, 0.03787127071938867), (217, 0.03786840085254639), (2712, 0.037772661655749516), (443, 0.03776552975794859), (2949, 0.037758167169942444), (510, 0.03772326476162053), (2024, 0.037598330929344066), (2057, 0.03757117423904976), (1833, 0.03750364426477509), (1540, 0.03741678550912167), (1618, 0.03740339262444874), (990, 0.037376891793738674), (135, 0.03731317372329378), (1940, 0.037180418300602126), (2395, 0.037056739359153115), (472, 0.037040312481431206), (691, 0.03701202358320666), (1381, 0.03695396756834273), (524, 0.036938441567453364), (486, 0.03683540655809432), (3677, 0.036815303383487305), (2975, 0.036742823691536045), (1898, 0.03672266111124803), (1215, 0.03663077453964699), (1963, 0.03649084083839032), (34, 0.03646778682915644), (3660, 0.03635728806474173), (2954, 0.03635599813665598), (860, 0.03627490065570757), (2479, 0.03624092038998947), (512, 0.0362365828842799), (2838, 0.036224545697695246), (2978, 0.03621335938124499), (3048, 0.03619944635845582), (2076, 0.03619846365542166), (251, 0.03609141767039861), (2307, 0.03608690732565704), (1355, 0.03603380744617055), (1133, 0.03600634619380401), (2578, 0.03598822848665468), (1697, 0.035942013192170434), (1018, 0.03585924376409478), (2911, 0.035844688977857316), (167, 0.03580312132231377), (3407, 0.03577861128032576), (1259, 0.03566179232076358), (838, 0.035562798503113516), (3405, 0.03555820668165932), (1783, 0.035543910105335225), (1252, 0.035534699612004256), (1030, 0.03552702849167459), (2485, 0.03552695766930388), (1247, 0.03548893719630089), (731, 0.03539925719226163), (3222, 0.03529754944052989), (428, 0.03525562196905684), (2383, 0.03518528052098747), (60, 0.03514834217958201), (503, 0.035125097883621184), (248, 0.03511028042126755), (604, 0.03509145467345092), (1975, 0.03507897400399327), (548, 0.03499479766818073), (982, 0.0349529395672609), (412, 0.03490895219623657), (1213, 0.034862637020084686), (671, 0.03480424332091491), (322, 0.03478351128126103), (683, 0.03478070340506261), (1834, 0.03475131213866144), (667, 0.03473184439252487), (24, 0.03472167929013713), (181, 0.03468771213723896), (1973, 0.03467833516261685), (2908, 0.03465743909038778), (2013, 0.0345923051457883), (1266, 0.034580490564978285), (752, 0.03456520182602703), (888, 0.034364782192140404), (1679, 0.034283883007012746), (315, 0.03426537833816552), (3063, 0.03426206163763065), (1894, 0.034255434614556365), (1728, 0.0342445680106986), (1680, 0.034207623980119437), (2434, 0.03420175381753103), (3170, 0.03415968972384946), (2569, 0.034145540225344474), (119, 0.034133984679359804), (3301, 0.03412036282146019), (329, 0.03408629200130248), (883, 0.03406919857838926), (3010, 0.034028541573559015), (3686, 0.03399249574799884), (3577, 0.03391832354695936), (1919, 0.033902140051375394), (342, 0.03389769541032066), (270, 0.03387738034481798), (3202, 0.033846207053041706), (2760, 0.033829188155490665), (2727, 0.03371209036440307), (1923, 0.03371002567627205), (687, 0.03370797722600659), (2220, 0.03368626647564226), (370, 0.03368040888679716), (2155, 0.03362341930563195), (3536, 0.03361255640562913), (2894, 0.03360954570644138), (3089, 0.03359948980371171), (586, 0.03353022095853653), (3383, 0.033470195648806655), (2035, 0.03342567902801952), (1117, 0.033367506538030646), (2065, 0.033271395064922854), (2791, 0.03323908309681728), (1059, 0.033051591426677074), (2463, 0.03300606393509829), (2246, 0.032906349436768), (607, 0.03288596259634691), (1550, 0.03285251955685645), (3246, 0.03279362655090997), (1487, 0.032771597668178526), (189, 0.032697229700869336), (384, 0.03256758134651052), (780, 0.03256314561646015), (958, 0.03254314951616934), (3051, 0.03250700879097443), (2754, 0.032463330705033086), (3436, 0.032367812535788826), (1862, 0.0322909349008636), (633, 0.03228823359065143), (2456, 0.03218545870077344), (685, 0.03216644732107388), (858, 0.032137103201763544), (246, 0.03210282310396705), (972, 0.03209542722796446), (2965, 0.03208679195674419), (3534, 0.032077492860289825), (2020, 0.03205379459436721), (2924, 0.0320141109221215), (2670, 0.032000211724757026), (2906, 0.031999144342033874), (1293, 0.031991946395245725), (2414, 0.031973062768861124), (3421, 0.03196754393865611), (2991, 0.03196596826849712), (306, 0.03190701417936195), (1437, 0.03189653357348334), (494, 0.03187627802763368), (2687, 0.03185960578168614), (1322, 0.031852599605560326), (1056, 0.031828949790905454), (3159, 0.031759468828725296), (2032, 0.03175829190465682), (3146, 0.03174770597817957), (264, 0.031692840221045425), (725, 0.03166299785261859), (309, 0.03165258943120496), (3230, 0.031645773190428085), (3064, 0.03164166549035227), (1153, 0.03163395251762971), (880, 0.03159547374184432), (1734, 0.03157640895549697), (180, 0.03154044634343378), (152, 0.03153181073968938), (3642, 0.03145968893096327), (333, 0.03144665608803448), (2082, 0.03133173448330363), (2926, 0.03130915396032986), (1044, 0.0312941704894438), (2229, 0.03127267351838841), (3584, 0.03125557598570253), (2789, 0.03125110326172994), (1212, 0.031192860438985014), (2346, 0.031185719011399705), (1823, 0.031071366030890644), (994, 0.031055279094828313), (3205, 0.030996850843098223), (3250, 0.030968177968108107), (1955, 0.030926317176270007), (1176, 0.03091433176823253), (2558, 0.030904165107397637), (1017, 0.030843115635146384), (853, 0.030833582009946667), (3339, 0.030831043196321694), (863, 0.030828999127042955), (2126, 0.03078630904756953), (159, 0.030780876739478873), (871, 0.030703350476505003), (2562, 0.030682524808212673), (2491, 0.030624669465677358), (1603, 0.03059860309761375), (3522, 0.030594055598978463), (2845, 0.03056121625865435), (2488, 0.03053276244471786), (3115, 0.030530651419301336), (3554, 0.030459385682193196), (2002, 0.030423797587803846), (2172, 0.03034959549409214), (1566, 0.03033059576116203), (2185, 0.030327181248279378), (455, 0.030320446727018207), (151, 0.030301072238973326), (1289, 0.030240670126839023), (2686, 0.030215821952538753), (1111, 0.030212297143339166), (2502, 0.030211139536026152), (1980, 0.03018114796642101), (3312, 0.030156137337648218), (2982, 0.030133937876932), (1934, 0.030122932112357673), (1788, 0.030106675163809236), (1338, 0.03008926900002443), (2603, 0.030070685168632625), (2802, 0.029975465277093265), (17, 0.029956758074027257), (2885, 0.0298766354323579), (985, 0.029783082966526788), (3258, 0.02977848475441836), (3658, 0.02974232500030776), (262, 0.029716664883441712), (257, 0.029704290951614906), (2828, 0.02967318363974179), (1356, 0.0296672237489031), (118, 0.029648991604122488), (1659, 0.02964050051095473), (1432, 0.02962563593563878), (1831, 0.029613915942735387), (1838, 0.02960006409224998), (2207, 0.029576162247568597), (150, 0.02956980095870629), (393, 0.02946202149651588), (1593, 0.02942722486805803), (890, 0.02941541526215357), (2237, 0.029415045656154805), (1274, 0.029403319081547353), (637, 0.0293790888664901), (3354, 0.029295236672172292), (677, 0.02927459064297034), (3603, 0.029260516009591977), (120, 0.029236730317635448), (2847, 0.02923348190136603), (829, 0.029205534084751412), (3139, 0.02917855921987441), (76, 0.029153971712920505), (1416, 0.029152552527629855), (1664, 0.029148848641319215), (3711, 0.029105537922014264), (779, 0.029103444464732602), (1608, 0.029070806354463154), (1924, 0.02905549409043172), (279, 0.029055008715770957), (2111, 0.02905447338304604), (954, 0.02903166545519007), (1223, 0.029016603424547018), (66, 0.02901486400276132), (2438, 0.028988352844538396), (394, 0.028974168109158153), (2385, 0.02895482361687354), (996, 0.028942505662612687), (2175, 0.0289284855020974), (1546, 0.02891042415354249), (2458, 0.02889814902263998), (3130, 0.028894887621297678), (184, 0.02882243845567992), (1692, 0.0288116839136282), (3724, 0.028804037868400568), (3543, 0.028780269206130346), (2115, 0.028755930018366755), (2066, 0.028746616536388762), (200, 0.02871032613182015), (2796, 0.028698012588331816), (482, 0.028694533282067513), (1347, 0.02867798803224884), (3, 0.028672376085640158), (1762, 0.028581523888800538), (2078, 0.02855985354632509), (165, 0.02855460728841446), (3175, 0.02854272181719217), (1137, 0.028535973638063386), (70, 0.02851404791907229), (1140, 0.02849611791092759), (1588, 0.028482004849482493), (2923, 0.02846318142315278), (1145, 0.02844882520289477), (2353, 0.02844279829622804), (3287, 0.028427961920745412), (2513, 0.028408728911377475), (3083, 0.028400716415962212), (1971, 0.028392173781236117), (1490, 0.028389690037299152), (1015, 0.028384886895197504), (544, 0.02834942085889771), (807, 0.028310548192416993), (3671, 0.028273321838471054), (3689, 0.028262855284344746), (1206, 0.028248397113707566), (926, 0.02820204256736818), (670, 0.028197127576023953), (2305, 0.02819637558913613), (2555, 0.028183833241933742), (1574, 0.028135652361246093), (0, 0.02810132292072254), (734, 0.02807914051309834), (2518, 0.02807601244959007), (1103, 0.027943457390465474), (198, 0.02790630025986444), (2356, 0.02788962535977195), (3435, 0.027883858486328524), (987, 0.02784532505725555), (3303, 0.027827037754984154), (567, 0.02781158191479128), (3664, 0.027785710845354344), (2340, 0.027768786165655708), (1448, 0.027767304448209476), (335, 0.027751596194861915), (183, 0.027722016938639505), (2551, 0.02768932502265078), (521, 0.02766350573222831), (307, 0.027647993279650437), (3470, 0.027616807582167564), (41, 0.027555093041018053), (1990, 0.0275510416176122), (2804, 0.02749533124132411), (886, 0.02748782702613701), (1229, 0.027476912701235083), (1319, 0.02747046839970905), (552, 0.02740831974063941), (3317, 0.027396986590293458), (1962, 0.027382484799478295), (163, 0.027345919192087984), (625, 0.027277498484049388), (3278, 0.027275527061833848), (3687, 0.027239395050680588), (2486, 0.027237697348425294), (2459, 0.027203585815599035), (757, 0.027187300204707842), (719, 0.02714399335868995), (801, 0.02713047305492946), (388, 0.027107303447929325), (2786, 0.027050879379693527), (3066, 0.027041538932486984), (1257, 0.027026847037978682), (3113, 0.026994990024599486), (3059, 0.026977397155339457), (2135, 0.0269586504075681), (1682, 0.02694439190906011), (493, 0.026924175546032228), (1172, 0.026921981602590742), (429, 0.026918355447104678), (3044, 0.02690328832994897), (2588, 0.026868979359350266), (2809, 0.02684996137928006), (195, 0.02683077311601818), (1900, 0.026825554304727422), (2799, 0.02677644262664847), (1344, 0.026750146064605143), (1284, 0.02672775958185145), (3337, 0.02667957127823052), (276, 0.02664547357879285), (1625, 0.02662700671415497), (1020, 0.02656205626751351), (967, 0.026550260536371318), (84, 0.026480286691010373), (1294, 0.026477207936654888), (1829, 0.02645205291177768), (2680, 0.02643139610510788), (872, 0.026387050939479954), (2688, 0.02638352878719063), (401, 0.026361555019538983), (1857, 0.026354079326267925), (1534, 0.026348429459178237), (722, 0.026312662279419363), (2594, 0.026295962985731437), (1686, 0.02629391439576037), (222, 0.026290813199053097), (3459, 0.026138946706103287), (2671, 0.026133755627639036), (2036, 0.026087258671346022), (2408, 0.02608277583319396), (32, 0.026074037632716054), (1364, 0.025986217799333668), (3651, 0.02596372592280523), (892, 0.0259597273204981), (859, 0.02594028796065248), (640, 0.025927359742037456), (1939, 0.025924789830751173), (2373, 0.02589491772438084), (1796, 0.02581283643400597), (3183, 0.025804583355885414), (1489, 0.025774268421529255), (1978, 0.02575713042360825), (2539, 0.025751627354522435), (3255, 0.025750226371515975), (1960, 0.025737944516516488), (2886, 0.025725030945364106), (160, 0.025696818191051702), (440, 0.025675578423128315), (2522, 0.025675154596236417), (1757, 0.025671333246227807), (2538, 0.0256688737512928), (3135, 0.025662981916316486), (289, 0.02561280324637192), (751, 0.025598553587416084), (2952, 0.025596845600272235), (3322, 0.025594075150524257), (1100, 0.02559037865311361), (1472, 0.025586193880713887), (1419, 0.025517353068610863), (2675, 0.025516861512831984), (1253, 0.025479253771014926), (2528, 0.0254733819444341), (2091, 0.025457386491492408), (3507, 0.025438179795705125), (214, 0.025420504354579126), (800, 0.02540456933664577), (2737, 0.02535462791460895), (3373, 0.025331875090555935), (794, 0.025324685116739423), (2086, 0.025320581618797258), (106, 0.025311355965645942), (350, 0.02531108766361856), (2292, 0.025286677257668), (570, 0.02528504893246546), (3566, 0.025284080264789087), (1152, 0.025280939512908742), (1522, 0.025279636887069783), (956, 0.025274745074191578), (1508, 0.025258111535624905), (2681, 0.025214478224556806), (3340, 0.0251758207061119), (520, 0.0251718909661397), (983, 0.02516421012109507), (2752, 0.02516020967207646), (2732, 0.025157575412546058), (2361, 0.02514323001966115), (1024, 0.025142679847673027), (2457, 0.025127009188617815), (2122, 0.025126847209934106), (1354, 0.02510850657956706), (2405, 0.025092797621274122), (2334, 0.025064238588988028), (2168, 0.025040622426305274), (1999, 0.025029557310758913), (2253, 0.02502477975549782), (3109, 0.024944537933458803), (1150, 0.024890812442013504), (208, 0.0248747909111892), (3164, 0.024857436930392236), (2817, 0.024857273055955656), (2525, 0.02484231256281555), (970, 0.024838547547544183), (830, 0.024820189613006565), (182, 0.02480469407842256), (2950, 0.024793357690212077), (278, 0.024774197802566435), (875, 0.024729993067952084), (2929, 0.02471919588029269), (1995, 0.02471113128513435), (3479, 0.024687822933992017), (2892, 0.024626685951563646), (656, 0.024608200188828293), (1121, 0.02457518096794966), (1469, 0.02456732197643452), (351, 0.024555649713633207), (2849, 0.02451024840947955), (1719, 0.024509709136597148), (3527, 0.024504961553551696), (2544, 0.02448335382028187), (1427, 0.024474675768065574), (2720, 0.024467360654767272), (1631, 0.024458099684347607), (2379, 0.024449155102955793), (920, 0.0244260497343828), (2397, 0.02433271339993477), (885, 0.024320363149072773), (82, 0.02431515562516006), (2938, 0.02429833103597159), (621, 0.024298115415032517), (2415, 0.024292914553450076), (3474, 0.024271964871319517), (1904, 0.024206244721700354), (203, 0.024201388965125484), (1844, 0.024193814740360964), (1763, 0.024185703526578665), (352, 0.024184052402537622), (308, 0.024182791484373876), (903, 0.024172558991464498), (170, 0.024153056297142577), (3001, 0.02410681993775721), (514, 0.02410123417547133), (1747, 0.02409016336211311), (598, 0.024048850988225248), (806, 0.024046029021981476), (1373, 0.02403832009134331), (435, 0.02403516150423074), (678, 0.02402335472803323), (1528, 0.023997511464219877), (1972, 0.02399160947450672), (3267, 0.023976036212350317), (2985, 0.02395815466715173), (2336, 0.023938849168549197), (2665, 0.023892190161387175), (1394, 0.023873626629872236), (434, 0.023859031056054192), (1874, 0.023849000776285767), (23, 0.02383828969627412), (3675, 0.02382994657806497), (3277, 0.023794588623377064), (867, 0.023793513372196082), (1606, 0.02376726832883824), (450, 0.02375088799687829), (2221, 0.02373880313455631), (3078, 0.023735595535689623), (2140, 0.023725907258328408), (3079, 0.02370486232390967), (2612, 0.023682759781363038), (2099, 0.023675272801570807), (1927, 0.023644648385095095), (2179, 0.023632738949310055), (117, 0.023621198317839032), (891, 0.023589639569178478), (1932, 0.0235601813818788), (1063, 0.0235489723450524), (2705, 0.023541264236131072), (3067, 0.023532407655820934), (2874, 0.023506546703451352), (1766, 0.02350390152807366), (1678, 0.023474139868206605), (2990, 0.0234577209792052), (1113, 0.023447751699826113), (2058, 0.023424241994081465), (3486, 0.02340970052033211), (1761, 0.023346932097571597), (54, 0.02333710881033401), (204, 0.02331369340494074), (2506, 0.02329679365143039), (2359, 0.02325820869195639), (665, 0.023250119719567967), (1232, 0.02323910889262996), (1661, 0.023220189210020187), (1775, 0.023191998866116975), (1179, 0.023180310584952263), (2275, 0.02314963967521827), (1202, 0.023146398106500512), (1787, 0.02314209587675671), (3597, 0.023141648161374397), (1545, 0.023134232089564548), (543, 0.023124562202029634), (3009, 0.023106807705619667), (2701, 0.023071736416966398), (356, 0.023058331481704296), (2205, 0.02303593409851263), (2411, 0.023026098108717634), (3455, 0.022982954708291592), (1739, 0.022982256949155996), (893, 0.022963766435710093), (1633, 0.02296255931685571), (360, 0.022960281215160066), (65, 0.022958838560577493), (126, 0.022949891558435062), (1231, 0.022940733890187998), (3296, 0.022914807746220525), (2743, 0.022912389180285965), (2128, 0.022888211477211314), (500, 0.022865331434539896), (2042, 0.022846759063563836), (337, 0.02284527320661089), (862, 0.022843403555791755), (2927, 0.022840135978440312), (408, 0.022835180863189978), (473, 0.022824816554039326), (3520, 0.022820276760385942), (2857, 0.022779991117247947), (2130, 0.02276909010429354), (298, 0.02276386545912944), (2108, 0.022744136724607854), (2364, 0.022717538102431517), (112, 0.022712994189336557), (2983, 0.02269456820344817), (1029, 0.022690661157040354), (1851, 0.022656082287165914), (2792, 0.02264417943433676), (1105, 0.022640025492368966), (3133, 0.022630484564657424), (1821, 0.02259964390597548), (2917, 0.022538842334714114), (2188, 0.022488423027468687), (1579, 0.022477983590446688), (1868, 0.022467680602896188), (1345, 0.022465628000098322), (2920, 0.02244493723386799), (1310, 0.022415477737016194), (1535, 0.022381621198298764), (1198, 0.022381132333357874), (3161, 0.022380480870595378), (2453, 0.02236482569378264), (2987, 0.02236353221490393), (235, 0.022361026331332384), (3623, 0.02235547691319225), (1555, 0.022344798181008985), (1774, 0.02233076697239498), (615, 0.02231332165990082), (332, 0.02231203957727059), (1094, 0.022300739143720757), (3653, 0.022275351466679104), (299, 0.022272099092989304), (1468, 0.0222664838643776), (2059, 0.022265848264332415), (1178, 0.022265714689143814), (2000, 0.022250319736118993), (290, 0.02224738072852816), (327, 0.022244563169145623), (3187, 0.02224056104172753), (3118, 0.022238241902407134), (3515, 0.02220757746012331), (3574, 0.022201532070293583), (1820, 0.022195483340478564), (147, 0.022164536790551435), (1348, 0.022162643185168453), (1060, 0.022153167249478245), (227, 0.02215201884191117), (1329, 0.022125965532943447), (2416, 0.022122249729597157), (1553, 0.022083442307438982), (3569, 0.02206872026361911), (2310, 0.022038908551580094), (2758, 0.022030810081837666), (1586, 0.02202878472344253), (445, 0.02202209805374616), (1169, 0.021993365776087015), (655, 0.021981441998294875), (2206, 0.021976688200534233), (3382, 0.021928041519592392), (3091, 0.02191923624640458), (2131, 0.021836275466916036), (171, 0.021827022358196817), (287, 0.02180730442865013), (2241, 0.021751292363626024), (303, 0.02174804536260161), (1360, 0.02174055808873948), (906, 0.0217263765054584), (592, 0.02169774780674377), (3409, 0.021689533471579814), (3685, 0.02165571205595135), (2182, 0.021650973437921182), (2096, 0.021623094096158917), (1805, 0.021619773641884322), (436, 0.02161243306449721), (103, 0.021604234675563577), (2769, 0.021593141885353648), (2921, 0.021589045756478062), (1299, 0.02157933140273196), (3403, 0.021571924014202853), (2345, 0.021566666635153015), (690, 0.021559184270973624), (79, 0.021556334347822566), (895, 0.021548985814446683), (1452, 0.02152217194991897), (1333, 0.02150862163015279), (1866, 0.021503668697757175), (3568, 0.02150132712150499), (1034, 0.021476219237529494), (1481, 0.02144487472492159), (425, 0.021419443881144716), (3119, 0.02134147774452665), (2149, 0.021325028096460263), (1794, 0.021278653228430446), (1918, 0.021272566106255962), (532, 0.021266950659145314), (3028, 0.021258569472621367), (2037, 0.021253010985603935), (2333, 0.02124217616289216), (3643, 0.021220703645531233), (1635, 0.02121171634715317), (179, 0.021202674388800857), (2756, 0.021179788098125825), (58, 0.021178480063209), (526, 0.02117349313299182), (682, 0.021151692415034846), (3378, 0.0211437532757703), (1645, 0.02113631000298873), (1873, 0.021130155953123782), (2519, 0.02112016723200912), (741, 0.021089103693422033), (2873, 0.021068898880295783), (3572, 0.02105896003645366), (1404, 0.021025519581703605), (3430, 0.02101334298394217), (2697, 0.021009886267187618), (2642, 0.020978128139793377), (1543, 0.020977377828941445), (3491, 0.02096320713002918), (3342, 0.020951130227515408), (380, 0.02090483941985613), (55, 0.020888210226251293), (1082, 0.020886999931465675), (834, 0.020869111151578953), (439, 0.02081161105023829), (1079, 0.02076399568238524), (537, 0.0207483787921863), (93, 0.020739827546941113), (2736, 0.020712365438548097), (2816, 0.020710191732307915), (3460, 0.020707219694335366), (3144, 0.02070386294602755), (1264, 0.020695747564162037), (39, 0.020688778859098804), (2257, 0.02066778470536061), (2409, 0.02065314229712711), (1007, 0.020630110398786695), (3699, 0.020584971204358624), (1726, 0.020581067748097297), (3046, 0.020572909642036945), (559, 0.020547898677597307), (3548, 0.02053693091356912), (224, 0.020532868256466146), (904, 0.020509013553821502), (1337, 0.020476396671653237), (2730, 0.020476238095611343), (986, 0.02045332053778782), (1390, 0.020447158063999386), (1378, 0.020444308344918442), (3531, 0.020430551309071596), (2981, 0.02042104554977471), (305, 0.020390914255418016), (1011, 0.02038876864558078), (1767, 0.020369345882103228), (1641, 0.020366036274490892), (1604, 0.020337207982046815), (3384, 0.020328545548895106), (1748, 0.020229795742125446), (413, 0.020218734406862574), (477, 0.02021781272034459), (283, 0.020189482023072677), (2523, 0.02018343298346525), (110, 0.020160280181075435), (268, 0.020126788278723776), (989, 0.020060238358085486), (148, 0.020030785896073707), (750, 0.02001811392273805), (386, 0.019994159944702647), (1084, 0.019987510328966507), (833, 0.019984735017142454), (1423, 0.01997024440876969), (1913, 0.019964071742881225), (1759, 0.019949609621169602), (3103, 0.019938552852404458), (2347, 0.019922720947628612), (3114, 0.019907154065541485), (980, 0.01990270760096896), (1858, 0.019890219669698086), (1845, 0.01984234177924888), (1417, 0.01982778040134503), (3477, 0.019818001286801938), (3110, 0.01980269141518321), (2898, 0.019794928353375103), (1595, 0.019785804289181044), (1361, 0.019759904778385146), (372, 0.019743125708543533), (2159, 0.019729063669074086), (3166, 0.019719256719634603), (2384, 0.01971523891411977), (3392, 0.019709977773784915), (2572, 0.019670402420688116), (2280, 0.019669471293266298), (1736, 0.01963984895673992), (2255, 0.019632764592743948), (513, 0.019631034573968257), (2641, 0.019606921328590505), (1366, 0.019591910195588813), (2445, 0.019566877754387788), (456, 0.01949536316762515), (72, 0.019491635980777636), (3606, 0.019476899038861087), (3553, 0.019449528325055226), (2146, 0.019448288412211433), (1922, 0.019445622495479403), (2607, 0.01943868404364443), (2033, 0.019425681513466127), (574, 0.019419016993491474), (3613, 0.01940608685474661), (3595, 0.01940217128532412), (2645, 0.01937592346360566), (549, 0.019364722687286427), (2806, 0.019359896675725255), (3629, 0.019359184058436715), (3364, 0.019346754462266275), (1917, 0.019341531828067117), (1969, 0.01932857240641666), (1824, 0.01932188678168783), (294, 0.01931735597259747), (1816, 0.019311872508841598), (326, 0.019248845743893402), (2865, 0.019244979611318977), (3632, 0.019237426048427535), (3385, 0.01919571274247145), (565, 0.019194237867608446), (3120, 0.019180733031490416), (2256, 0.01917441718993518), (2504, 0.019169105973965747), (1186, 0.019155225308881134), (254, 0.01913999645611729), (22, 0.019067044670902644), (2102, 0.019060498362499075), (1970, 0.019054451756756914), (2370, 0.01905228105086971), (1803, 0.0190276475341353), (714, 0.018995603905741554), (2468, 0.01899295024223116), (857, 0.018956238530359586), (3593, 0.0189512557549883), (142, 0.018936257824922975), (1751, 0.01892852143951642), (2656, 0.0189284457415806), (831, 0.018927039415643904), (1108, 0.018913654159386235), (564, 0.01890140557678473), (2141, 0.018898290282284604), (158, 0.018895537398594293), (939, 0.018890067103857884), (717, 0.01888492769233631), (1043, 0.01885196407740394), (681, 0.018847610503305207), (3069, 0.018844790318996767), (269, 0.018842502733918624), (1677, 0.0188325954876645), (2199, 0.01882588287137639), (2315, 0.01880937066627036), (822, 0.018804865393574198), (835, 0.01880094215304191), (805, 0.018797962430636455), (2029, 0.018790496863523336), (2582, 0.01878399723777427), (131, 0.01876172897642924), (870, 0.018760120068085615), (2027, 0.01872678425983931), (2571, 0.01870707695126426), (318, 0.018684126656783324), (3053, 0.018680560618649464), (3052, 0.018678240483650257), (1621, 0.018624517451902085), (3242, 0.018624206975280975), (3524, 0.018619214387524854), (1881, 0.01858892127252521), (703, 0.018582403369328725), (357, 0.018572963014093405), (2559, 0.018533694868817948), (755, 0.018523234318824282), (1088, 0.01851622213153859), (3045, 0.018491024116621325), (1702, 0.018480350460669846), (2871, 0.018468012780834597), (1089, 0.018467301268407815), (1760, 0.018460529317443193), (1012, 0.018460438484108086), (2900, 0.018434544889086316), (3049, 0.018426224706145005), (1292, 0.01841612463624934), (2669, 0.018411782183266518), (2303, 0.018394150946322334), (1626, 0.018390271668381815), (924, 0.018371241139432826), (2639, 0.018369375955048242), (2283, 0.01836634459363391), (446, 0.01835740808037435), (959, 0.01833993890700058), (1148, 0.018329084641229083), (620, 0.01832511636976877), (1742, 0.018324249730322848), (397, 0.01830092275544627), (1112, 0.01827744563310809), (1735, 0.0182733347361641), (36, 0.01826873710612063), (37, 0.018260264208357156), (1896, 0.018251959805705677), (1957, 0.018251219196924108), (59, 0.01824877431988803), (1067, 0.018241258712763116), (2961, 0.018222952215437446), (3147, 0.018214816878602404), (2312, 0.018209180854461965), (856, 0.01820222878811055), (1914, 0.018196462031830618), (2767, 0.018159044772554235), (201, 0.018155322755732867), (2136, 0.01814218472014923), (1155, 0.018128641303361958), (852, 0.018127995218618492), (2699, 0.018111066490172696), (1407, 0.018109599113277905), (763, 0.018052502809925267), (1076, 0.0180437551639255), (2162, 0.01803529824438003), (1027, 0.01801643520859223), (2164, 0.018001389029774984), (1755, 0.017997802410192415), (2410, 0.017982556595041343), (1196, 0.01796497723613749), (1769, 0.017952179092592623), (993, 0.01793706400591894), (2787, 0.017929525945861464), (2293, 0.01791997421703795), (467, 0.017917600767375724), (900, 0.017905314387307174), (1733, 0.017902508440644473), (2366, 0.017901624009431905), (1304, 0.01789587381526267), (263, 0.01789056297896808), (2018, 0.017889515548654745), (724, 0.01788798684099696), (3327, 0.017850890534703977), (2203, 0.017849396107361293), (3649, 0.01784630032370513), (684, 0.017838279470493764), (1143, 0.017819816321524042), (491, 0.017815139854502105), (3251, 0.017791306180471443), (1443, 0.017786533343478565), (3393, 0.017779143505370323), (1822, 0.017758505192792172), (1536, 0.017746973467031912), (1687, 0.017745767125491065), (935, 0.017725807000092884), (700, 0.017718865382671527), (1825, 0.017715085019767103), (1239, 0.01770907222700408), (1809, 0.017667847890438494), (317, 0.017664349136067074), (228, 0.017653132092267772), (3728, 0.01764922562510156), (1931, 0.017642203972662807), (3550, 0.017634092021004466), (3243, 0.017629376069255073), (316, 0.017621770334189244), (2543, 0.017611065543180274), (2217, 0.017604694936940602), (325, 0.01755752469320589), (2499, 0.017517410563544923), (1853, 0.017516849873795586), (1359, 0.017489726603546966), (1712, 0.017484993857643065), (3043, 0.017447113921291432), (3552, 0.01744315563979131), (1142, 0.017436724481954134), (1384, 0.017418094352954796), (641, 0.017386846354452083), (1433, 0.01738531131113792), (1000, 0.01736746309573106), (506, 0.01733620026768805), (942, 0.01732514874437142), (2500, 0.017309682977439005), (1136, 0.017295494325711144), (2887, 0.017285607133100053), (1341, 0.01728052982808816), (116, 0.017220925049741903), (3638, 0.017208213358651032), (2717, 0.01720126639416553), (1485, 0.01720063875105096), (2764, 0.01719485768910852), (2944, 0.017191226884146607), (1577, 0.01718996997950102), (1458, 0.017154468059714146), (2655, 0.017148146878447144), (1968, 0.017143177139636197), (1804, 0.017120515032923715), (2227, 0.017112996579631088), (632, 0.01707473470925762), (2496, 0.0170733916123667), (3602, 0.017044400204589236), (1780, 0.017035259003347347), (2287, 0.017015059623799254), (1673, 0.017008592147926084), (1358, 0.017003779744254627), (2509, 0.01700342100491968), (207, 0.017003086846181587), (1639, 0.016988935267199957), (1483, 0.016972768879865468), (3154, 0.01697121936926738), (1959, 0.0169710275845754), (962, 0.01696144623206049), (3655, 0.016953676294425672), (3137, 0.01695096094216033), (3611, 0.016942815093064195), (2708, 0.016915338066933544), (979, 0.01686421992142926), (8, 0.016858798343063797), (950, 0.016835064106522593), (2780, 0.016823179946532086), (2556, 0.01680923988599571), (1840, 0.016806695464874247), (3369, 0.01679923831231408), (1399, 0.016784648166866555), (1187, 0.01674548477301209), (1376, 0.016744090493564224), (973, 0.016737863764190924), (46, 0.01671310149043634), (261, 0.01669213460874318), (3414, 0.016691500995807157), (236, 0.01669149534190942), (2691, 0.016689449775552197), (1194, 0.01667980837884087), (2157, 0.01667249713345015), (1870, 0.016657353028653316), (2352, 0.016656922647717006), (1268, 0.01665675468158362), (62, 0.016650737118159138), (1884, 0.016643231668720698), (1262, 0.01663776304566228), (2725, 0.016636523228726025), (1151, 0.01663024357620794), (3406, 0.016621378376058787), (2100, 0.01657675518971245), (884, 0.01657457876513896), (2731, 0.016555602291135472), (2412, 0.016550860513808354), (605, 0.01652051515602411), (522, 0.016513005627851803), (1414, 0.016496597703866814), (1979, 0.016452790258947976), (2110, 0.016448666770896396), (1308, 0.01643308020597271), (1961, 0.016426778435143723), (589, 0.016413499569808553), (1426, 0.01640772544690457), (1511, 0.01639294348110789), (485, 0.016390675843507382), (715, 0.016349220325943957), (353, 0.016334070034835283), (1300, 0.016331070850792825), (368, 0.016321577933963296), (1296, 0.01632093257361708), (11, 0.016318484868958524), (2308, 0.01630802277528585), (2482, 0.016300447677585008), (2484, 0.016298125487134853), (2611, 0.016280286059573497), (629, 0.016262303457242812), (2289, 0.016252778457316815), (2993, 0.016252578990121024), (2244, 0.01624010836276451), (2698, 0.016234917688798773), (2851, 0.016226358646599562), (1660, 0.016224586371100448), (2285, 0.01620734771682282), (1826, 0.01619092130066182), (1589, 0.016188549284619606), (2331, 0.01616558311790825), (1131, 0.01614697743029068), (3498, 0.016141236530198996), (818, 0.016134291633127837), (1454, 0.016128373621852123), (421, 0.01609532714995222), (1876, 0.016087852835831296), (3706, 0.01606685914813588), (2807, 0.016059493535064733), (3271, 0.016051215605811867), (2738, 0.016049026445875587), (572, 0.016045369393763095), (938, 0.016041951104858905), (3575, 0.016034020470310942), (1370, 0.01602870788667906), (2784, 0.016021337138500485), (3264, 0.01602088589240122), (907, 0.01601975981949215), (1238, 0.016010394714777866), (3325, 0.01600476336481327), (974, 0.015980018602203896), (1764, 0.015973825045175593), (143, 0.015930340537177744), (424, 0.015928641046343523), (403, 0.015911909725925707), (1118, 0.01590709227445255), (817, 0.015905169372550414), (957, 0.01588104539953896), (1403, 0.01585482382679706), (3034, 0.015853063900727743), (3397, 0.01585273688967172), (2064, 0.01584992166600367), (1116, 0.015848388112677754), (1204, 0.015846679609873023), (490, 0.015827788328307835), (1460, 0.015825297497646353), (3408, 0.015802202322255585), (1286, 0.015802008880140272), (1278, 0.015801045225562405), (3726, 0.01579335076141065), (275, 0.015756002540288663), (2722, 0.015755720857305804), (1707, 0.015721253954451057), (2034, 0.015696487996001436), (2822, 0.01569523445640869), (320, 0.01568876764675916), (2394, 0.01568271539794096), (1464, 0.01567633269483948), (1513, 0.0156639598682984), (1045, 0.01566380406738642), (2893, 0.015655058749177147), (1718, 0.015603025394805648), (2598, 0.015584498490194396), (3275, 0.015559315066381373), (839, 0.015551770136241237), (3062, 0.015544299803005706), (1463, 0.01553100413689623), (1363, 0.015510860831478158), (3289, 0.015499140844275516), (1729, 0.015491806318981515), (1053, 0.0154915483236999), (1795, 0.015483635402851494), (927, 0.015474772535556645), (2074, 0.015468444119729358), (723, 0.015468107986879774), (773, 0.015466664510185142), (1041, 0.015462855588690361), (2301, 0.015462665092398844), (2365, 0.015449036890474343), (3080, 0.015411134129453139), (1173, 0.01538707387029101), (2915, 0.015382594571657738), (608, 0.015379503251468888), (3702, 0.015377663999892613), (3674, 0.015365619693724405), (438, 0.015352999164488845), (916, 0.01531001048826675), (241, 0.01529607407761242), (3163, 0.015260656773313536), (1842, 0.01525076483407185), (744, 0.015242461076527136), (695, 0.015237484219378164), (2640, 0.015227481950249866), (1462, 0.015226194651037113), (1288, 0.015222843094397163), (808, 0.01522240389020171), (3033, 0.015215174058494629), (1078, 0.015213639231701704), (2934, 0.01520294568857423), (1035, 0.015202423388945544), (1343, 0.015194780150995983), (1003, 0.015189014267567868), (909, 0.015164717396695903), (3481, 0.01515083722468337), (3394, 0.015144777768817065), (775, 0.015137631425387703), (516, 0.015118979246425924), (1022, 0.015102540388150069), (107, 0.01507695676687959), (2808, 0.015075624634959057), (2837, 0.015059375591680278), (2272, 0.015056584686209944), (3111, 0.015053345159748493), (651, 0.01504505575873617), (10, 0.01504097688278403), (2324, 0.015027599950653218), (2877, 0.015024908024201741), (2095, 0.014998404916355828), (321, 0.014966676073772783), (2478, 0.014959683344733278), (2350, 0.014953803138030745), (679, 0.014942961212637197), (3097, 0.014942154987609773), (1799, 0.01493846892741555), (2274, 0.01491065485548949), (3155, 0.014908714606590882), (2613, 0.014887520117514933), (1199, 0.014883733033142301), (1539, 0.014882583169837964), (418, 0.014878315370752054), (1061, 0.014836780095709951), (1527, 0.014814528841280063), (3505, 0.01480846714019263), (489, 0.014792037661896101), (1937, 0.014770101849715866), (1492, 0.01474944656990842), (2473, 0.014739971917300473), (745, 0.014728909246997358), (865, 0.014727648951938085), (3125, 0.01469883281749021), (812, 0.014694989601613247), (1951, 0.014686706946920645), (1449, 0.014679384041270477), (1182, 0.014673236477595615), (851, 0.014672370209023036), (3042, 0.014663841381378023), (43, 0.014662472315157283), (1120, 0.014638612850724916), (3057, 0.014578476306973728), (414, 0.014576525154164481), (2542, 0.01456838681282694), (1573, 0.014554693549708985), (1916, 0.014549657484621979), (1953, 0.014511276518983634), (2746, 0.014509192520519899), (2339, 0.014494138707682723), (474, 0.014486387962152564), (1602, 0.014476019000313277), (1267, 0.01447241443849855), (213, 0.01446571116681264), (826, 0.014461115917862696), (2474, 0.01446110829854934), (2512, 0.014456579478989682), (638, 0.014432966211626562), (1740, 0.01442396381544032), (1135, 0.014409739686187206), (1312, 0.01440667819324732), (713, 0.014393556254138032), (1854, 0.014388775925764357), (2296, 0.014367210433317852), (1836, 0.01435550850276596), (2309, 0.014351000107133837), (2266, 0.014347218433763551), (366, 0.014347162166774868), (1817, 0.014333281094601965), (2145, 0.014323458884453587), (3068, 0.014312760157671349), (1413, 0.014302358645682113), (2654, 0.014297706901549925), (2557, 0.014288011728847905), (3015, 0.014268310444050416), (2236, 0.014263468156097438), (2218, 0.014253280247261113), (2741, 0.014235972238023614), (675, 0.014232859695409104), (963, 0.014230177256044745), (3426, 0.014221120400756649), (3500, 0.014218105235254401), (2377, 0.014174479846409509), (2907, 0.014173028621585582), (582, 0.014168421330884076), (742, 0.014163138093798303), (1583, 0.014158318266876867), (1888, 0.014140110769688028), (2464, 0.014130806344963779), (951, 0.014125106255170848), (2278, 0.01412158148695525), (3630, 0.01411268822841155), (2431, 0.014095918487055456), (3240, 0.01408754714993754), (1161, 0.014086034853917769), (3376, 0.014074975058179538), (3708, 0.014064241167368274), (534, 0.014063723327930149), (1301, 0.014060773591837664), (2245, 0.014055332091903006), (2139, 0.014049534526274603), (2819, 0.01404232615143183), (3656, 0.014040976746224097), (1164, 0.01402939370358218), (2277, 0.014027643979557853), (3065, 0.014025381557845943), (1875, 0.014014200777643447), (1882, 0.014012088275277335), (2566, 0.014000761338368656), (111, 0.01399282486550718), (2317, 0.013981880649898856), (2761, 0.01397721520174781), (785, 0.013971206940913989), (3351, 0.013966463606779824), (2515, 0.013950997910123011), (3388, 0.013931183797562217), (3319, 0.01390772488038702), (778, 0.013906978327287059), (3427, 0.013892236393311759), (789, 0.013880874579537492), (1938, 0.01388043000962792), (2599, 0.013872041698427328), (701, 0.013862913629816473), (798, 0.013838565065782253), (1930, 0.013835903204181273), (196, 0.013835277826119947), (1637, 0.013831465957591951), (2568, 0.013819325139100995), (2672, 0.013819006376600593), (1207, 0.0138123628118892), (301, 0.013807017129469691), (1929, 0.013786371092946535), (707, 0.013783213745266105), (2323, 0.013782441874399497), (1406, 0.013771820477253099), (1180, 0.013767201944270557), (3179, 0.01375463910861741), (2660, 0.013741040985806925), (101, 0.01373382727041252), (2673, 0.013724069371149606), (861, 0.013721929728169128), (864, 0.013720127504958546), (3108, 0.013716785609711313), (2402, 0.01370788662528184), (3122, 0.013671016998612381), (1157, 0.013670154277562942), (704, 0.01366355543786817), (2492, 0.013628071121316374), (937, 0.013612095845968196), (3282, 0.013610640646690368), (1819, 0.013579740775490758), (2721, 0.013572151631656594), (837, 0.013550184490934838), (1340, 0.013544676009803804), (2514, 0.013536511270466109), (392, 0.013508637308036843), (2176, 0.013507666221229064), (3232, 0.013500110611967604), (3529, 0.013493362998502876), (923, 0.013468900580377332), (2083, 0.01346799863610752), (804, 0.013460941812698819), (2577, 0.013459489812198123), (846, 0.013452190476841486), (764, 0.013388366556054382), (3489, 0.013387804867610932), (1549, 0.013384043128710615), (1195, 0.013376223217972449), (2178, 0.013373382973601033), (304, 0.01336016076298787), (99, 0.013356516322434875), (594, 0.01334470578389842), (776, 0.013327963974804867), (758, 0.013318759513009374), (2351, 0.01331557659437085), (273, 0.013303630011612664), (1701, 0.013293058727940583), (627, 0.013291270600253062), (1167, 0.013288553544449227), (721, 0.013258207597840018), (968, 0.01324283630166468), (367, 0.013224047951178826), (2668, 0.013208817180514185), (1607, 0.013205278356772408), (1203, 0.01320434285282806), (2650, 0.013193232610239771), (2943, 0.013151286047754878), (487, 0.01311858555536521), (12, 0.013106938561578461), (1072, 0.01310336558881715), (1558, 0.01309973012477758), (442, 0.013093585308880773), (3648, 0.013089519012504654), (2477, 0.013080331954230104), (595, 0.013071572754697034), (2282, 0.013063724325831038), (1001, 0.01305455480837243), (1042, 0.01304145553208496), (2325, 0.01304080180852275), (1576, 0.013033474939970643), (965, 0.013002403146083894), (2050, 0.012983269973423084), (2062, 0.012968108720030812), (732, 0.012963829372530256), (1765, 0.01295955563659737), (614, 0.012953782830941313), (2994, 0.012940463259744808), (253, 0.012935486091877432), (2881, 0.012915363546400306), (2615, 0.012905374073546002), (1383, 0.012897386933922634), (947, 0.01289414963539504), (1791, 0.012879818350487028), (153, 0.012879702235537374), (3665, 0.01287517660349731), (591, 0.012874557428075046), (555, 0.012870929799871618), (2546, 0.012862179430737345), (104, 0.012859533450654305), (2798, 0.012840347781192673), (1272, 0.012838747203207462), (1650, 0.01282252116078277), (1275, 0.01279774449300104), (2123, 0.012794015490530008), (2832, 0.012788414884588086), (1091, 0.012770391793891995), (1786, 0.012756624794197181), (658, 0.012742779041384444), (410, 0.012721395344252704), (2133, 0.012698221868132076), (2047, 0.012698097906448623), (3525, 0.0126968473867431), (3609, 0.012690084013210716), (2357, 0.012686983590205004), (1380, 0.0126521548055574), (2171, 0.012649638518075813), (878, 0.012646547769615298), (3326, 0.012643149591917195), (2608, 0.012632822895456669), (2745, 0.0126245550177275), (1547, 0.012623236426599228), (821, 0.01259091283592647), (2442, 0.012589164731526154), (793, 0.012551586957448813), (650, 0.012544984225495522), (3509, 0.012526813387932795), (2152, 0.012514140813994124), (3657, 0.012501771903106884), (396, 0.012470156363720872), (2153, 0.012458525526482049), (3387, 0.012443329238785779), (702, 0.012439655735196627), (1491, 0.012437981262630316), (3422, 0.0124295259255266), (3300, 0.01242142687031918), (166, 0.01240116355772375), (470, 0.012397992952635701), (3218, 0.012393118220592508), (2137, 0.012388453022202477), (2321, 0.012376282278485733), (277, 0.012370615188034124), (2628, 0.012364186276053752), (3315, 0.012363806342652134), (2630, 0.012356848718771855), (1807, 0.012354818049703219), (2051, 0.012350354015724565), (3060, 0.012347360428515235), (2235, 0.012345885253371887), (814, 0.012336713030781578), (3594, 0.01232371649470324), (323, 0.012321433245838315), (1554, 0.012310912436188155), (2726, 0.012310647793260573), (2505, 0.012274975947566592), (3362, 0.012254302752864463), (3371, 0.01225176740106246), (2355, 0.012238459876895716), (1662, 0.012230759157482913), (3151, 0.01222893500716599), (3190, 0.012180510617665088), (728, 0.012173190343178403), (3640, 0.012160278993058701), (1114, 0.012156407249101945), (2040, 0.01214249583018968), (100, 0.012140522239469322), (2812, 0.012137315735106121), (2093, 0.012123373029983812), (3374, 0.012120798190763084), (2011, 0.012115460176244649), (192, 0.012111817594568529), (63, 0.01209449354222634), (260, 0.012072850831790907), (3490, 0.012043179956428205), (3245, 0.012029467027111933), (1663, 0.012002103223054856), (81, 0.01198233822210101), (2902, 0.011976933511556542), (647, 0.011951017248152116), (2046, 0.011933129883423823), (3008, 0.01192504993482927), (3732, 0.011919537653289217), (2084, 0.011918226755891421), (2516, 0.011914204047950017), (3186, 0.011911792923564406), (2526, 0.01189005019896323), (19, 0.011848975910119327), (2663, 0.011818156643460032), (69, 0.011814124874387731), (636, 0.011811080460752809), (847, 0.011797107614631007), (40, 0.01179036882488671), (138, 0.011785830982770702), (3177, 0.01178496143202421), (902, 0.011775351348718788), (1191, 0.011774166325351824), (1750, 0.011763986808668988), (3294, 0.011762612986225038), (3467, 0.01176132443405603), (2941, 0.011749577791028438), (1327, 0.01173802017869607), (696, 0.011729187634396322), (209, 0.011716479121336925), (3503, 0.01168482350163887), (1397, 0.011681079091108833), (2489, 0.011675354641040317), (2087, 0.011664983624388555), (488, 0.011658442464431885), (2156, 0.011636178491407273), (230, 0.011635999676663653), (51, 0.011632385794677772), (1965, 0.011622198445543405), (1115, 0.011591888995937657), (2563, 0.01158886623195712), (71, 0.011561838083984598), (828, 0.011554966264580416), (759, 0.011547370801397892), (3551, 0.011546479563772926), (2570, 0.011538333597925271), (132, 0.011522484306756788), (444, 0.011518578169020978), (1316, 0.011517518359632028), (2878, 0.011503218596462509), (3259, 0.011500680408207314), (3112, 0.011500148941038246), (3145, 0.011492436587800968), (1330, 0.011488139192683124), (2120, 0.011487440543952652), (783, 0.011470452065082338), (2703, 0.011467312242040336), (1792, 0.011465062139169422), (2425, 0.01146130599636179), (3188, 0.011440339125645155), (3452, 0.011421618466618955), (2041, 0.011417726075240896), (1893, 0.01141693112998651), (3445, 0.011415140561005102), (1107, 0.011406223586789421), (1531, 0.011405863253424575), (3663, 0.011395276610481488), (2844, 0.011392726385248745), (3618, 0.011385356185653922), (2614, 0.011383265273153136), (3556, 0.011380492138750739), (2679, 0.011377307999541824), (212, 0.011373380688874364), (2319, 0.01137102153875088), (710, 0.011367729296038687), (2129, 0.011362765404405471), (3636, 0.011359321327863565), (3605, 0.011357988225020352), (2609, 0.011355040504969606), (3208, 0.011348679176986872), (452, 0.011344741447431582), (2212, 0.011330435919314298), (507, 0.011327539522300293), (1706, 0.011325967774560613), (1062, 0.011324515750333927), (3241, 0.011324176646355048), (2870, 0.011315053568692283), (2429, 0.011311921678888094), (2001, 0.011303665289657434), (282, 0.011301180764066925), (2231, 0.011289331239006536), (3458, 0.011285718918823174), (3439, 0.011284263904470019), (1616, 0.011283708780875062), (1367, 0.011273525800755788), (1019, 0.011265722433808864), (1005, 0.011231986415803094), (2707, 0.011228803368768147), (2937, 0.011203343340363357), (2955, 0.011202868392846451), (2633, 0.011190412926080954), (1987, 0.011188679248661803), (2010, 0.01118371923230945), (1122, 0.0111807497396899), (1224, 0.01117049188500037), (792, 0.01116041393950621), (3735, 0.011155514306175058), (3262, 0.011155016056275564), (3247, 0.011139343258054015), (2689, 0.011131353970499946), (3718, 0.011121045916626753), (252, 0.011112844399109305), (1092, 0.011110851369295103), (945, 0.011101086872410066), (3029, 0.011090862152091653), (1693, 0.011084444997776263), (1456, 0.011083693218306429), (1126, 0.011082343175318123), (2533, 0.011079777265521461), (612, 0.011073378773228292), (420, 0.011070153582528514), (272, 0.011068234101901366), (1379, 0.011062708236661552), (2327, 0.011061818959831191), (1439, 0.011056085951870563), (3571, 0.011053807562508917), (2617, 0.01103666751518228), (1565, 0.01103244982230443), (908, 0.011020550464199023), (743, 0.011017431164105598), (2180, 0.011005796788572322), (376, 0.01100523528006683), (2017, 0.010994497694397096), (3180, 0.010993676475004124), (1269, 0.010992418236541025), (292, 0.01098710126181741), (1714, 0.010982865946009052), (542, 0.01098096226140995), (1887, 0.010979228230351776), (3288, 0.010967758039538023), (1793, 0.010966862996380077), (123, 0.010964342792538691), (1240, 0.010952625528867754), (588, 0.010944381472252952), (1160, 0.010942472842630238), (686, 0.010942110249183143), (1146, 0.010928063690556513), (1897, 0.01092421835237305), (946, 0.010916633162984007), (3095, 0.010906746413756751), (2055, 0.010902045864305971), (2999, 0.010889912696717883), (1185, 0.010884951633681316), (1871, 0.01088186588426247), (2928, 0.010877149849302135), (2621, 0.010871777860541273), (3714, 0.010863115249841385), (3165, 0.010859688727097333), (1372, 0.010859678861109019), (453, 0.010858779050551551), (2432, 0.010856541112186745), (2974, 0.010844668263008872), (661, 0.010820107643236054), (1031, 0.010805856180690313), (1049, 0.010805635388305037), (2148, 0.010794921634687487), (1386, 0.010792450704618413), (1642, 0.010780319506151805), (3523, 0.010770627069989151), (649, 0.010762739314542955), (2770, 0.010759327419802303), (716, 0.010758599974317043), (575, 0.010756151429480866), (1428, 0.010753861414408431), (2420, 0.01075355879640681), (1542, 0.010742693885995452), (905, 0.01073642106623823), (80, 0.010735193638881983), (1246, 0.010726654513730845), (1395, 0.010723502613131581), (1926, 0.010721443549872376), (3465, 0.010708171871425486), (3036, 0.010706985663025217), (3558, 0.010702602259599549), (2003, 0.010696979289559547), (3541, 0.01069549546499179), (3058, 0.0106950071387459), (933, 0.010692447710883606), (3447, 0.010690293715499798), (2593, 0.010689417561302754), (643, 0.0106886413562036), (1518, 0.010675412790387091), (2735, 0.010673016775216607), (1461, 0.010672343399537987), (3156, 0.010662156961305621), (2890, 0.010660271065548425), (3100, 0.010655086542779147), (3216, 0.01065177298535436), (3628, 0.010649202075862733), (64, 0.010647964612980221), (1571, 0.010645001919057772), (1630, 0.010644012766631987), (2081, 0.010642372029191691), (2903, 0.010642006292866338), (1557, 0.010629096252896963), (765, 0.010628775426856304), (2329, 0.010615883750903828), (7, 0.010613812253395557), (1744, 0.010611891610043752), (2742, 0.010607746216041146), (2778, 0.010601143490774644), (802, 0.010598965839567763), (225, 0.010598213375774192), (5, 0.010593746628654676), (2165, 0.010586777623195386), (2805, 0.010583915033737255), (1493, 0.01057130708175054), (21, 0.010567319118437824), (237, 0.010562052309769593), (49, 0.01056163624315346), (849, 0.010555664856238356), (2318, 0.010550595299304574), (3022, 0.010541253667166725), (1046, 0.010539894984655185), (2085, 0.010535902122681153), (1700, 0.010533786323939155), (2980, 0.010512987847621875), (1738, 0.010501989033483108), (1703, 0.010497832559790206), (2574, 0.010494021574684806), (558, 0.010491861600761019), (1430, 0.010487393970550932), (1638, 0.01047875979459863), (2635, 0.010474639307911425), (437, 0.010468526821856448), (2184, 0.010462298697591152), (441, 0.010442591002280822), (1725, 0.010438416825731343), (219, 0.010430923202896455), (1928, 0.010428542969744535), (599, 0.010426654718335286), (2243, 0.010423227177703139), (2448, 0.01042076580290541), (718, 0.010414025666810642), (1087, 0.01041225279300537), (1784, 0.010394794474068459), (3668, 0.010374466409667018), (1653, 0.010363159208681938), (735, 0.010356504440300654), (2775, 0.010355860878999775), (1548, 0.010352157095702409), (2376, 0.01035082991549643), (3733, 0.010347021972908347), (981, 0.010345687199971709), (2913, 0.010344730033888116), (3361, 0.010334547220870221), (2025, 0.01032449817336309), (3501, 0.010322942559467339), (2462, 0.010318600346598913), (164, 0.010302903648264123), (185, 0.01030206520809544), (3450, 0.010301319648175496), (1050, 0.010286587616294503), (1813, 0.010280845284473433), (2273, 0.010275257983427426), (68, 0.010274494090254644), (2189, 0.010271629376859062), (469, 0.010271539696653747), (1981, 0.01025687736714861), (2262, 0.010247197517376455), (1415, 0.010242008111258147), (1074, 0.010237725312451661), (2567, 0.01023247110077439), (311, 0.010196742541820592), (2363, 0.010192073333131067), (50, 0.010188060254331981), (1431, 0.01018129575657891), (2080, 0.010176072684749068), (174, 0.010175833832729917), (2751, 0.010162946651465847), (1221, 0.01015740489812526), (1276, 0.01014612625174718), (2014, 0.010131004399089729), (1305, 0.01012942093432504), (2166, 0.010129024415940746), (1306, 0.010120974978248896), (1270, 0.0101205106392727), (2447, 0.010116014833661287), (2161, 0.010107916024864137), (2451, 0.010086188227764248), (843, 0.010084220272138306), (2682, 0.010069877317991093), (1516, 0.010067993437005325), (952, 0.01006331380692522), (533, 0.01006264060248419), (3142, 0.010059388634972164), (3279, 0.0100584862113078), (2945, 0.010057877162581942), (2507, 0.010051184948501473), (3061, 0.010048438982310438), (1915, 0.010032246713309465), (1324, 0.010028810520967466), (1776, 0.010027824097234834), (824, 0.010015541563165802), (3412, 0.009989535252097795), (1584, 0.009985535002481857), (1328, 0.00998417571471917), (2174, 0.009978392624638146), (454, 0.009971828900817974), (3544, 0.009962803312951731), (1532, 0.009953369952273219), (1640, 0.009938593331120373), (1369, 0.009925154588336593), (108, 0.009900265303354566), (2815, 0.009896437374464793), (1724, 0.009892812085889106), (813, 0.009892601423155433), (1447, 0.00988516180037267), (3454, 0.009871560346091018), (3370, 0.009862764076324183), (881, 0.009859696328583103), (1097, 0.00985846199838147), (1250, 0.009853086001636379), (1948, 0.009837195027941049), (978, 0.009832476784805099), (1277, 0.009829479768529832), (3248, 0.009826821699746361), (2437, 0.00981813122793341), (2733, 0.009817797222394667), (2540, 0.009815529843872241), (3035, 0.009813561781386228), (2759, 0.009800606504258909), (3153, 0.009792465306552681), (3514, 0.009788603590467404), (2723, 0.009788572387565432), (1984, 0.009783335745563036), (1891, 0.009759012962916116), (1141, 0.009758646245850822), (1144, 0.009750986485039182), (3431, 0.009746023640623833), (1445, 0.00972984739051792), (2564, 0.009694000008793), (943, 0.009692624759140678), (1279, 0.00965619569855416), (3616, 0.009652595103364543), (2348, 0.0096516837184385), (56, 0.00963533927591598), (964, 0.009626412134331212), (1654, 0.009624905369044107), (1841, 0.009619880218165757), (1350, 0.009603233228523312), (1672, 0.009597827816734149), (419, 0.009587829662166284), (3223, 0.009585805973075685), (2629, 0.00957974433849183), (1002, 0.009566785635023662), (2866, 0.009553527275104052), (1599, 0.009539616414498648), (1666, 0.009532702838554825), (645, 0.009530973025718426), (2089, 0.009530781234650345), (601, 0.009522132776652219), (3134, 0.009521303804160835), (3473, 0.009519981012595422), (18, 0.009517464518565825), (2535, 0.009507185781583601), (2251, 0.009503604920710135), (113, 0.009474888081592305), (754, 0.009469848328917256), (1837, 0.009458917189053775), (1856, 0.009448612526690211), (1676, 0.009430586637308225), (3349, 0.00941805411103229), (156, 0.009412582896976534), (2281, 0.009411856559220935), (2936, 0.009392098065129065), (155, 0.009387590229868901), (345, 0.009379049872255824), (2793, 0.009377695413932286), (2151, 0.00937188121837136), (936, 0.009361564028863404), (2105, 0.00935520221076344), (2419, 0.009345727133876542), (2181, 0.009345345857533527), (1551, 0.00934481932112897), (334, 0.00934044950098397), (86, 0.009337233260597488), (347, 0.009335775843009854), (1839, 0.009320868666987975), (2470, 0.00932039580283442), (1520, 0.00930395408748278), (468, 0.00930200489324498), (288, 0.009293072322681877), (3178, 0.009286897261874434), (3580, 0.009275071841403696), (2888, 0.009271692179298976), (2170, 0.009245571758297497), (832, 0.00921532512641612), (1556, 0.009206625835141053), (3295, 0.009204447667781225), (1134, 0.009198302125731818), (3368, 0.009192100255247618), (3356, 0.009180245041865704), (1226, 0.009174899573308432), (593, 0.009174505468735366), (145, 0.009168687774223689), (1901, 0.009167345382435065), (1717, 0.009147279967562844), (2067, 0.009140486295812076), (580, 0.009132569964682749), (997, 0.009126583503216499), (2964, 0.009116448568691432), (2112, 0.009114438606360735), (560, 0.00911224107252762), (1902, 0.009104563308917783), (2632, 0.009098888286104494), (2841, 0.00909841939823969), (2537, 0.009069846555433362), (3721, 0.009067620874393098), (899, 0.009065472757081782), (3021, 0.009059485020952027), (706, 0.00905776507246915), (1617, 0.009054459566480095), (3562, 0.009054144745192231), (1812, 0.009031847467796141), (3094, 0.009025661401122376), (3487, 0.009009878062043938), (172, 0.009005825448455924), (2782, 0.008998460278779735), (2855, 0.008998426546538013), (186, 0.008994216973583574), (1843, 0.00899315554530047), (3136, 0.008991586758472954), (1591, 0.00898621347576991), (1731, 0.0089821070190772), (1313, 0.008973228948619946), (1410, 0.008967767051399659), (75, 0.00895642137339402), (1159, 0.008950547074262245), (6, 0.008935786976419896), (128, 0.008934988111378696), (3652, 0.008931413037265539), (2211, 0.008921079164230091), (422, 0.00890859266568583), (1585, 0.008894157942565966), (1418, 0.008893970320461854), (2187, 0.008890689220884361), (16, 0.008838532518006741), (3024, 0.008837409664999006), (1865, 0.008807427913505958), (2440, 0.008794500221876965), (2314, 0.008790052628117315), (1530, 0.008789030691077518), (3167, 0.00877450837340742), (3228, 0.00877255857993121), (2160, 0.008770895721869232), (1779, 0.008741841273458607), (2674, 0.008740122664664252), (596, 0.008734522707097826), (2077, 0.00873175500395615), (2497, 0.008710598527554715), (98, 0.008694390427783465), (53, 0.00868989716530876), (480, 0.00868852614084425), (1165, 0.008679085726266854), (1622, 0.008677636825453533), (3318, 0.008663327939626951), (2766, 0.008656673361920003), (2765, 0.008652252354859571), (2590, 0.00863485655530185), (3157, 0.008589547223633361), (2648, 0.008588674534982268), (1441, 0.008559318875021546), (2328, 0.008543101537259398), (3302, 0.008532013446553603), (3003, 0.008529404424018523), (3705, 0.008511606213515452), (2797, 0.008502580210146481), (3360, 0.00849963593385332), (139, 0.00849701373295685), (3121, 0.008490712784971299), (31, 0.008489815004662497), (1514, 0.008445843263995076), (2481, 0.008433108966442768), (1282, 0.0084295777035716), (733, 0.008420335817094634), (3513, 0.008418941573099041), (3306, 0.008412432692977345), (3484, 0.008399286937293174), (748, 0.0083921560274059), (2043, 0.00838669234680744), (1933, 0.008367178409945143), (3588, 0.008365245215905322), (3456, 0.008361799443735666), (3174, 0.008350766770238853), (1400, 0.008347025462733772), (2196, 0.00833655381400358), (2976, 0.008307862009514357), (3192, 0.008307032018564621), (340, 0.008305287260569814), (3399, 0.00830030687547387), (2848, 0.008276963134034893), (1455, 0.008275282833281659), (1710, 0.008238335979272473), (1499, 0.008235250594127622), (206, 0.008231592813674521), (2433, 0.008220254626584489), (1230, 0.008218633985748344), (3193, 0.008196466888858915), (3420, 0.00819050295464968), (568, 0.008187686196540294), (42, 0.008183890897917913), (1255, 0.008158131107048546), (1488, 0.008155944357282265), (134, 0.00815587285367518), (1068, 0.008150102580278899), (1567, 0.008132022437519431), (1171, 0.008123229989521478), (3074, 0.008118612614694817), (3075, 0.008113173609796326), (3578, 0.008108994291109534), (1057, 0.008108481741465877), (3173, 0.008090999396105567), (3038, 0.008071311001965951), (3506, 0.008058266306441205), (3688, 0.008053303557367646), (3055, 0.008052290075373225), (1797, 0.008047090167319101), (390, 0.008045796604358153), (1442, 0.008040472535608573), (606, 0.008002546175462347), (1587, 0.008001612206264367), (3016, 0.007994121840319304), (363, 0.00798982673349545), (1216, 0.007989081674119665), (1405, 0.007986213231399034), (2620, 0.007985821828763411), (566, 0.007984856771308838), (1848, 0.00796921751368093), (2471, 0.007964633025553844), (27, 0.00796186580050888), (3073, 0.007957762813679003), (3682, 0.00795468181078835), (1880, 0.007946846303656413), (90, 0.007931624090797966), (2662, 0.007929633554972735), (953, 0.007914374710897317), (3348, 0.007909620529354126), (2988, 0.007905548090008867), (1830, 0.007904662201446215), (1402, 0.007904475353683807), (1130, 0.007902160025807698), (868, 0.007901097475454144), (1667, 0.00790059040822537), (3211, 0.00789891909854294), (1890, 0.007890506025499283), (977, 0.007882904213184466), (38, 0.007865735862047517), (1610, 0.007859535760501024), (2637, 0.007852746682242258), (3729, 0.007848923474948982), (1243, 0.007844634261052329), (129, 0.00784288191990916), (3213, 0.00784090674762669), (2776, 0.007834557151318288), (2398, 0.00782635447421037), (2413, 0.007822543989527397), (3416, 0.00782111170477969), (2388, 0.007820538024675215), (2704, 0.007818795260694063), (932, 0.007816943659805568), (3502, 0.007814837047283842), (648, 0.0078016622033818366), (310, 0.007784421051473966), (3128, 0.007782688484259776), (2757, 0.007774849507621541), (433, 0.007764894755695295), (2579, 0.0077595367750368386), (3107, 0.007756771989560305), (121, 0.007749445354575241), (496, 0.007746146058310536), (2260, 0.007739011409949162), (1947, 0.007738646497615907), (3650, 0.007736008728218053), (2706, 0.007734781180568792), (52, 0.007734387921647467), (3087, 0.007733564765329157), (2576, 0.007732925663849201), (2530, 0.007726779121098791), (2606, 0.007723827829714943), (3274, 0.007717949707431464), (1139, 0.00771493567193815), (2916, 0.0077020182396054645), (2358, 0.0076886229843806785), (1949, 0.0076883966865448), (3359, 0.007683542935895036), (210, 0.007682670946524365), (1332, 0.0076796039144697075), (1389, 0.007676592026372146), (2942, 0.007665634368625251), (3696, 0.007663681442450258), (3341, 0.007652043000559553), (1771, 0.007650654213123343), (463, 0.007645729242607057), (3321, 0.00764351225988608), (2820, 0.007634044391825331), (3076, 0.0076128258453635024), (3725, 0.007593514238623808), (295, 0.007589410604416844), (2658, 0.0075795864372508), (324, 0.00757865890640628), (3252, 0.007570807072697026), (1265, 0.007566274328687275), (2200, 0.007558852239363127), (1699, 0.007547162096359536), (2460, 0.007547123946078038), (3336, 0.007544716654931401), (1039, 0.007537169682717004), (2925, 0.007533605450240406), (2349, 0.007519362735758234), (1261, 0.007502006436423513), (3334, 0.007498041889809935), (3720, 0.007486278783646332), (2428, 0.007471088387099017), (402, 0.00747094027964108), (2788, 0.007467097793032704), (825, 0.00746302317037381), (1681, 0.0074550487775765124), (3219, 0.007448363801304219), (3424, 0.007442725420089839), (3587, 0.007431529482239203), (917, 0.007421991535062306), (461, 0.007406197371283467), (2422, 0.007401204985866614), (1614, 0.007397670836392578), (1598, 0.007396705316135304), (925, 0.007383574204687982), (1741, 0.007382219716169477), (1504, 0.007379043217921758), (1552, 0.007367733657318036), (3381, 0.007357241454534698), (1716, 0.0073564950520960525), (2291, 0.0073553135355496424), (2740, 0.0073506900340434035), (2643, 0.00735051452448857), (2079, 0.007343445001387214), (2763, 0.007340928657829881), (2739, 0.007339808597593776), (2038, 0.00732870198321013), (3538, 0.007326588543739108), (2891, 0.007325896039290078), (515, 0.0073210772580931125), (1517, 0.007315073137398952), (3466, 0.007302503756505472), (3497, 0.00730082561345226), (1335, 0.007298422587728949), (1921, 0.007287679021032298), (2967, 0.007282832430848056), (3512, 0.0072749912136509855), (3634, 0.00727342228928583), (319, 0.007272387308296937), (1629, 0.007263917997326647), (1847, 0.007259619002565694), (3096, 0.007255705329993062), (2279, 0.00724951829659633), (2624, 0.00724602874896029), (427, 0.0072370456193132805), (2194, 0.007236582356122834), (663, 0.007234506102211786), (339, 0.007226722545847525), (3626, 0.007226333128766474), (3231, 0.007218526082936848), (1104, 0.007213554225124941), (1624, 0.007204717658783215), (1879, 0.007197898675324162), (3184, 0.0071935346107437044), (499, 0.007193469514629232), (1396, 0.007193146667047461), (385, 0.007186228514573227), (2311, 0.0071860803829610735), (2719, 0.007185027714435356), (202, 0.007184893886353688), (2190, 0.007178910926321377), (3210, 0.007174628377354639), (976, 0.007173849359763886), (2683, 0.007169032639228749), (2744, 0.0071530534684974695), (2390, 0.0071395795858520215), (3027, 0.007139044515294344), (2068, 0.007135549316424633), (223, 0.007133996721197679), (1501, 0.007112417642962554), (2012, 0.007109212277792922), (1298, 0.007106294524602619), (1651, 0.0071050499113984224), (1101, 0.007103077243509628), (1643, 0.007101803281775556), (2958, 0.007093293906782434), (762, 0.007088611957398262), (3635, 0.007086354125209163), (3357, 0.007083625733736059), (3273, 0.007075249949169865), (1998, 0.007071627561164419), (2396, 0.007069469467240768), (2101, 0.007057763395055195), (2238, 0.007054737053376918), (1451, 0.007050481893342238), (1523, 0.007043366844466205), (2239, 0.007042735021971222), (646, 0.007038052945533117), (2063, 0.007034368312285613), (2619, 0.0070293593691348405), (1444, 0.007024523655752015), (1129, 0.0070229266778427625), (3099, 0.007020487640127041), (365, 0.0070191892754976), (293, 0.007018388544542454), (767, 0.007015448019299354), (3235, 0.007011315828312317), (2127, 0.007001550296071399), (3429, 0.006993232278971725), (1674, 0.006985284953886982), (2049, 0.006985006096531212), (3006, 0.006984547374677498), (3443, 0.006984140905670147), (955, 0.006983667187160887), (2208, 0.006982668415474964), (2963, 0.00697484490612533), (1192, 0.0069719844868739765), (1886, 0.006970236840006427), (460, 0.006967713680217809), (2192, 0.006962694613745442), (941, 0.006961066466254351), (2634, 0.006959929919817143), (88, 0.006955424379629543), (447, 0.006954842221472841), (992, 0.006952090704981552), (738, 0.00695105450155187), (2657, 0.006946238644716409), (3162, 0.0069411858657394765), (914, 0.006937836965598126), (3712, 0.0069332313317552186), (1352, 0.00693026962750469), (709, 0.006922448111365748), (2825, 0.006917063537731937), (2596, 0.006916732805186161), (1814, 0.006916264373081863), (1620, 0.006911379451998495), (971, 0.00689518384258582), (2258, 0.006883299771437173), (2777, 0.0068753086382271796), (3098, 0.0068748140685257085), (1473, 0.006868906999963845), (3713, 0.006857324117256189), (2144, 0.006855610172056829), (3468, 0.006844547176577148), (2810, 0.006837885822669373), (2693, 0.006835772634034619), (464, 0.006832525939698823), (1529, 0.006832171625907421), (3519, 0.0068195318569289065), (2475, 0.006805393974636498), (2972, 0.006803431634494636), (2216, 0.006800576795875183), (1421, 0.006791526124560933), (1071, 0.006785022996132926), (1721, 0.006782446909521818), (697, 0.006764666948057033), (1860, 0.006763553727998892), (2814, 0.006760054400358729), (2882, 0.006745790432448523), (2811, 0.0067450249838822305), (312, 0.006733280031663654), (769, 0.006731307335618429), (1023, 0.006731124082613614), (1519, 0.006731124034373226), (1123, 0.006730075914622396), (1986, 0.006730013017775527), (2541, 0.006726172695646647), (1401, 0.006726043700095628), (930, 0.006722617332478531), (1770, 0.006703157974078574), (1459, 0.006701161549473731), (1077, 0.00669572475058168), (3257, 0.0066936285769453015), (2053, 0.006671276729160449), (2007, 0.006669360279636417), (1561, 0.006668048580641768), (3598, 0.006659172719350823), (3331, 0.0066513183175574185), (109, 0.006650792679134397), (1632, 0.006649058552312273), (1037, 0.0066475053379075125), (2225, 0.006644053482758862), (756, 0.006642973432046805), (928, 0.006642231701984592), (3411, 0.006632704752663518), (215, 0.006620645480016334), (3101, 0.006619576244146646), (1977, 0.006616333014371329), (3007, 0.00661553297376186), (3542, 0.006612831887498667), (3182, 0.00661244395555512), (2071, 0.006609384287766659), (2511, 0.0066005867535457625), (1295, 0.006587270112538445), (1033, 0.006577452684452092), (1533, 0.006568529653084203), (2899, 0.006567985684465656), (3323, 0.006566027270043623), (1495, 0.006561110082151784), (1920, 0.006556188077967094), (255, 0.006545658014686399), (2104, 0.006543579545871726), (2465, 0.0065429439452618365), (3386, 0.006541285654392742), (1605, 0.006522126723756137), (2552, 0.006501883894858361), (3678, 0.00649924459294908), (1434, 0.006495355820140084), (819, 0.006490212982627294), (281, 0.006460512847864158), (2106, 0.006459942035789561), (3132, 0.006457692008737179), (573, 0.006437108655432207), (749, 0.006435746685580275), (3019, 0.006434519251973024), (3461, 0.006434515992553917), (545, 0.0064275555542012705), (3365, 0.0064238827438238295), (3485, 0.0064188558879675235), (2210, 0.006417399960732639), (770, 0.006415382367510096), (2480, 0.0064104368568570665), (1521, 0.006398445264219989), (1408, 0.0063690227873893475), (768, 0.006366995972785577), (2360, 0.006357056421338146), (1470, 0.006320432300556745), (3441, 0.006305198214735869), (2186, 0.006303781565581022), (2676, 0.006297055414261675), (3402, 0.006296330842866789), (1815, 0.006263493186330757), (1665, 0.006259765094362657), (2589, 0.006256248966876898), (918, 0.0062550374133475755), (3344, 0.006254689940015813), (3292, 0.006241508681333536), (666, 0.0062395664548898725), (1147, 0.006235988395449688), (1190, 0.006227604746902143), (3451, 0.006189383998529735), (157, 0.006178001983755315), (73, 0.006152168662832157), (94, 0.006142321703757907), (173, 0.0061416413075439), (786, 0.006141066702017047), (1351, 0.006136459606137553), (1781, 0.00613501627599326), (3286, 0.006124523236414104), (2977, 0.006108017644781725), (1685, 0.006076341768352153), (458, 0.006068519870248833), (2054, 0.006062231605652965), (1210, 0.0060233366805899835), (1263, 0.006016023005985414), (1683, 0.00600862768037327), (348, 0.006000816360864087), (2276, 0.00598652696558534), (901, 0.005979998416504818), (1234, 0.00597760018395415), (3673, 0.005964981232752905), (1245, 0.005939919147342382), (3002, 0.005938684872480013), (2487, 0.00593797910454262), (3518, 0.005920055962816377), (873, 0.005905189196742867), (3680, 0.005903551695149882), (2779, 0.005901190830134665), (2371, 0.005900754399552665), (1260, 0.005881413249233752), (1711, 0.005836822913421474), (653, 0.005836262843756641), (415, 0.005788915019430828), (3345, 0.005781853028625922), (1946, 0.005773638370973994), (2219, 0.0056678765020701126), (2483, 0.005658564436674134), (3195, 0.0055829262845996635), (3679, 0.005478767556047922), (3723, 0.0054750937995895), (330, 0.005349470838963569), (3199, 0.005265193285993961), (3350, 0.005248100346185242), (451, 0.005195869378999078), (2232, 0.0050996836745767484), (274, 0.0049658902644861645), (563, 0.004935109768772513), (3005, 0.004877704504618526), (3281, 0.00486114097262016), (777, 0.004799063373993052), (694, 0.004749248080877481), (2836, 0.004738722699252685), (3600, 0.004713864892804078), (3238, 0.00468220781831378), (3333, 0.0046611446992217715), (3559, 0.004632866142799364), (1237, 0.004618125037258028), (877, 0.004605308693293328), (657, 0.004575205410765072), (3483, 0.004557533480847282), (2048, 0.004536979009461646), (2646, 0.004529290996924397), (3249, 0.0045164194159757936), (836, 0.004515113385546595), (3592, 0.0044939969784381275), (3472, 0.0044858980329219944), (3090, 0.004474048282506341), (359, 0.004462302637172753), (2391, 0.0044512308987417456), (1273, 0.004450025824979735), (1989, 0.004447019248398152), (1388, 0.004445815218771748), (3727, 0.004442144444823251), (3560, 0.0044362495907159846), (630, 0.0044308366884554745), (399, 0.004429743662563715), (3316, 0.004420847262177144), (929, 0.004417570867678497), (3567, 0.004409139232959319), (3561, 0.004407120218882009), (774, 0.0044061966953022605), (2109, 0.004401905302432756), (616, 0.004391328258663753), (2856, 0.004384018288462557), (1205, 0.004383954278505967), (344, 0.00437333292045155), (1156, 0.004372819690879439), (2223, 0.0043701813884469845), (3463, 0.004366049225645365), (234, 0.004363457893501434), (2935, 0.004353137790493454), (3014, 0.004350023519565955), (3328, 0.004347462615220352), (341, 0.004343793326580151), (1695, 0.004331089036416178), (3106, 0.004325845170384855), (2288, 0.004323023572880449), (2895, 0.004322294068955315), (995, 0.004321860454394332), (911, 0.004315748425442336), (3622, 0.004300351967879797), (2249, 0.004299532544595246), (2269, 0.004288671932073601), (2508, 0.0042880219274586085), (3475, 0.004277779409424347), (2971, 0.004277391960190935), (626, 0.004276545226927264), (3116, 0.0042744978917407875), (2031, 0.004272789839475984), (133, 0.004270785282531122), (3415, 0.0042684274071717486), (2118, 0.004246755394229648), (1009, 0.004242691037151373), (1852, 0.0042377048260301324), (1905, 0.004224705399831681), (1392, 0.004223798776209702), (711, 0.004221022117325078), (395, 0.0042135650204683), (1649, 0.004207636956512426), (1484, 0.004205696567323045), (2889, 0.004204173439250554), (1052, 0.004201545618928137), (2830, 0.004198824208797355), (3293, 0.004191986019575562), (3504, 0.004187296055392614), (2209, 0.004183155478413477), (1227, 0.004179653642962304), (1789, 0.00417679612855058), (1102, 0.004173326431398744), (495, 0.004172876976131834), (3171, 0.004166543624190807), (2910, 0.00416141622733179), (1471, 0.004160451997273943), (3627, 0.004157425941521737), (3413, 0.004156846921423189), (3691, 0.0041541772299594154), (3462, 0.004151990866539084), (2684, 0.004147165129770118), (931, 0.004144502404297601), (391, 0.004137863761955221), (1943, 0.004135133031111525), (1193, 0.004131732201054296), (1315, 0.004131338955555286), (3040, 0.0041312267135190876), (3533, 0.004129172525789089), (1323, 0.004126506037476254), (9, 0.004126257811281864), (2601, 0.004123408981297662), (2545, 0.0041198139055572194), (844, 0.004119494331217578), (1090, 0.004116578730036859), (2270, 0.004112156347161808), (705, 0.004107052947342367), (551, 0.0041039517625498165), (541, 0.004101694435258018), (1708, 0.004096784800889347), (2946, 0.004095134884260457), (2344, 0.004093567569674527), (1801, 0.004093363924505154), (1320, 0.004092612848460064), (3539, 0.004091427043943794), (2813, 0.004091215653446151), (1846, 0.00409087397279892), (3168, 0.004088639282162616), (3332, 0.004087954727942499), (730, 0.00408677420660418), (1594, 0.004085671371748298), (940, 0.004078064355972536), (2090, 0.004072643100308738), (1064, 0.0040709341204384205), (3545, 0.0040703393761179095), (855, 0.004063760340974744), (3625, 0.004063302806995606), (1010, 0.004062518141899966), (1047, 0.004061000572874996), (3669, 0.004060479627966354), (188, 0.0040594373222497745), (1562, 0.004056708068845035), (1477, 0.004055288580689882), (57, 0.004050467410377822), (1422, 0.0040457166126092806), (2716, 0.004040122264478207), (2626, 0.0040364482640961735), (1698, 0.004032102883136496), (654, 0.004030389813985652), (3305, 0.00402873932096504), (2443, 0.0040284841393593215), (803, 0.004026554825995064), (2850, 0.00402603351248646), (3011, 0.004024767126634185), (2302, 0.004021473316345743), (2631, 0.004021115610308545), (2581, 0.004019998724491575), (1065, 0.004017823573946981), (2565, 0.00400752341082062), (1510, 0.003997077479144228), (674, 0.003995568149311557), (1014, 0.0039954900089008575), (2834, 0.003995480795975861), (991, 0.003989992485953354), (581, 0.003985336045751473), (1474, 0.003981221241940509), (1357, 0.003980824073765396), (1254, 0.003977872885201997), (1872, 0.0039721631283089484), (2393, 0.003969727892526809), (1486, 0.003968634612676096), (3449, 0.003966992900128523), (1967, 0.003965710826681545), (3343, 0.003963365447867954), (1727, 0.003962834410593209), (3662, 0.003959999383192544), (2060, 0.003956736869120738), (2875, 0.003953322952297675), (1569, 0.003951980676380995), (1280, 0.00394872943445206), (1038, 0.003946553432270273), (848, 0.003946295364449331), (1601, 0.003942352071476951), (2524, 0.003941503229060595), (2748, 0.003934589321154182), (2222, 0.0039342645020638365), (2407, 0.00393295001702779), (3444, 0.00393288680531131), (3530, 0.003932501972416613), (1124, 0.003930479896180616), (379, 0.003929591868325364), (2143, 0.003924739507069994), (1749, 0.003923194914057872), (2337, 0.00392201642098841), (1512, 0.003919157828083269), (784, 0.003918985540206771), (887, 0.003918750608014222), (1093, 0.00391871606413598), (3380, 0.003917587199471267), (3564, 0.00391547812074779), (2197, 0.003913094989608025), (177, 0.003909717993521233), (3703, 0.00390857647602207), (3661, 0.003907757279557385), (1095, 0.003906881449607207), (280, 0.00390627541363879), (519, 0.003905653536600897), (2933, 0.003901871811175433), (2158, 0.0039003312006558244), (2997, 0.0038948153388442914), (1689, 0.0038934029914551), (2583, 0.0038929748768076772), (1850, 0.0038911737785069273), (3206, 0.0038907312198523556), (2097, 0.0038868713497700017), (2762, 0.003877097796518681), (48, 0.0038729589170304816), (2831, 0.003868801744451875), (2424, 0.0038636949806527174), (2295, 0.003858902887713572), (562, 0.0038570508083578814), (3404, 0.003855551377414355), (2073, 0.0038536732459779426), (1694, 0.003853058866629501), (3400, 0.003847887475187007), (1208, 0.003846189554674222), (3214, 0.0038426289195113406), (3260, 0.00384080588904692), (466, 0.0038399170877391), (432, 0.003837844593696375), (3056, 0.0038288360968642696), (381, 0.0038268662734679405), (1132, 0.0038244577809021262), (2771, 0.0038223020019004434), (3457, 0.0038150514956735355), (3030, 0.0038134109559881638), (505, 0.0038104981194410055), (2072, 0.003809342035776365), (1964, 0.003809338167261352), (3717, 0.003803816197221065), (2715, 0.003803813507719562), (2623, 0.0037933366948620824), (2939, 0.0037886528476506467), (3215, 0.003782889122491813), (243, 0.0037825999833529843), (1424, 0.0037821782437620923), (346, 0.0037808753112318736), (3546, 0.0037792656643529407), (2618, 0.0037744696291013183), (2773, 0.003774080457124729), (168, 0.0037669655431102106), (144, 0.0037658834195617654), (2948, 0.003764065926121605), (727, 0.0037628245260059915), (3037, 0.0037624857279307785), (845, 0.0037613278473299303), (2326, 0.0037576173263061865), (3085, 0.003756752950358687), (619, 0.003755501330035454), (712, 0.003755273183905766), (1241, 0.0037537922120358023), (2392, 0.0037519106803290906), (1374, 0.0037512885444337296), (1878, 0.003750482664760447), (1128, 0.0037488609448874657), (3236, 0.003744927215729039), (1412, 0.0037435652852129335), (3581, 0.0037411022135382587), (3433, 0.0037398140673401536), (265, 0.0037331679196385146), (1754, 0.00373145944428398), (1506, 0.0037313336318175057), (2930, 0.003728786407296125), (2173, 0.0037272469408189866), (2299, 0.003726288336221705), (1425, 0.003725985735928299), (2931, 0.0037237387548226873), (242, 0.0037228146550629276), (1956, 0.0037221247853860616), (3290, 0.0037145871327936932), (1644, 0.0037134852440197756), (2852, 0.0037091068178475373), (2550, 0.003706510524945364), (3169, 0.0037042773883136128), (3266, 0.0036991841587183326), (162, 0.003696758244413222), (1705, 0.00369534223238778), (2694, 0.0036949909680863207), (1168, 0.0036943010665283714), (3716, 0.003685262494758266), (3698, 0.003681433457466993), (2768, 0.003680464232580749), (2259, 0.0036790624411378397), (291, 0.0036774514700898143), (966, 0.003669220437797791), (2649, 0.0036670821457040863), (1988, 0.00366446768241543), (1615, 0.003655594384236478), (2912, 0.0036552777713331273), (3464, 0.0036540768300537415), (1992, 0.003653194887239039), (1054, 0.003651447647723986), (688, 0.0036467526953664524), (492, 0.003645070016377126), (3621, 0.0036447438574787835), (1743, 0.0036446575602924873), (3434, 0.0036403926910004163), (2056, 0.0036333649369108007), (611, 0.003630328093512845), (3639, 0.0036230375670469536), (2710, 0.003621061193697295), (3644, 0.0036199203888935294), (1138, 0.003606259150099076), (314, 0.0035999081969902216), (2026, 0.0035980790815273896), (508, 0.0035974308930047335), (1225, 0.0035939080984319144), (1944, 0.0035938513218440682), (3160, 0.003585474044317422), (1590, 0.003585236622270334), (416, 0.0035794027939481635), (1864, 0.0035793806794868397), (3123, 0.0035764192470799628), (77, 0.003573925029714723), (3526, 0.0035734148732073073), (91, 0.0035694327196532025), (1446, 0.0035645624859617316), (3377, 0.0035623679645198827), (387, 0.0035618152472346527), (2306, 0.0035603965164529676), (1889, 0.0035558732706420823), (3555, 0.0035555773980400626), (1070, 0.003552156199484247), (999, 0.003551922174106023), (583, 0.0035506451017644487), (331, 0.00355000880435086), (2150, 0.003546196798799916), (3715, 0.0035454658804546907), (2653, 0.0035443924060645834), (2846, 0.003539300646806674), (2230, 0.0035359759722075903), (140, 0.0035355936237610693), (256, 0.0035328111223004847), (1609, 0.0035168307844871713), (2867, 0.0035026293563215076), (362, 0.003499309969815929), (1476, 0.0034978912253743203), (2430, 0.0034963023988590523), (220, 0.0034962617302742686), (2962, 0.0034892056713026398), (1559, 0.0034890165771440215), (2114, 0.0034874962442694273), (2561, 0.003475830207965746), (1526, 0.0034712656645924586), (771, 0.00346813662529299), (3528, 0.0034630739554464586), (3492, 0.0034612115077620556), (3615, 0.0034596832233810505), (3590, 0.0034547909330141205), (2467, 0.003453394260158846), (371, 0.0034499923111076863), (431, 0.003447279058229437), (2652, 0.0034453876769540434), (673, 0.003441881403347451), (815, 0.0034413086248249363), (698, 0.00343246441896142), (1110, 0.0034322519450707876), (1885, 0.0034293344844843593), (2947, 0.0034291456834197), (1242, 0.0034262520522554026), (417, 0.0034252527415058074), (3050, 0.003420801283271454), (2469, 0.0034187423150543405), (3212, 0.003417654117273588), (2979, 0.003412588939353975), (3540, 0.00340395785448842), (1613, 0.0033974249848906773), (889, 0.0033895319536626023), (1109, 0.0033873136764943006), (3272, 0.003384428846722295), (1737, 0.0033814858711741806), (2254, 0.0033794617935082975), (1438, 0.003379309016601389), (3324, 0.003377847883049266), (423, 0.0033777223134559167), (1457, 0.003377246509473504), (1217, 0.003374578746401612), (2286, 0.0033669077469341926), (820, 0.0033582774250046766), (449, 0.003357969680182807), (3335, 0.0033546481822719775), (2510, 0.0033538256915584806), (622, 0.0033502421905719456), (2016, 0.003346865043600447), (3181, 0.003345089085249835), (2, 0.0033441661431398363), (1026, 0.003340040116735497), (672, 0.003331911520077108), (2263, 0.0033316158785228573), (3077, 0.003330600447454461), (1219, 0.003330263103185829), (3072, 0.0033288818096888586), (2404, 0.0033276914599570297), (3020, 0.0033267289640577773), (462, 0.0033233676284015533), (2069, 0.0033231594656786306), (961, 0.0033199894334073323), (3018, 0.003319887501863877), (912, 0.0033145826574888697), (1996, 0.003310772340598682), (3620, 0.0033095800386878545), (1925, 0.003307838800065115), (373, 0.003306092329444589), (2494, 0.0033050302991089234), (405, 0.003304222669980602), (669, 0.0033041142556811537), (1974, 0.0033032136943724334), (1119, 0.0033010275385521063), (2044, 0.003299201061949521), (2215, 0.0032988933520379797), (3707, 0.0032988830868598013), (2119, 0.003294581086678828), (20, 0.003292967489402923), (590, 0.003291946315746845), (2341, 0.0032754146086375244), (2028, 0.0032745936847329254), (1752, 0.0032738791437403473), (3599, 0.0032699013424261924), (1368, 0.00326631044591268), (1778, 0.0032650760102680113), (1782, 0.0032642928594305157), (193, 0.003263453553018189), (1233, 0.0032629826966197833), (1611, 0.003261075141174318), (175, 0.0032606796914954874), (3330, 0.003253035604165976), (2380, 0.0032525198475937523), (3591, 0.0032509018607061037), (2666, 0.0032475863200465372), (3576, 0.0032438090154740923), (2498, 0.0032428584751809228), (1758, 0.0032413624555768863), (1291, 0.00324126170921922), (1910, 0.0032407911260408134), (662, 0.0032391606792285072), (85, 0.0032369104494564295), (465, 0.00323675267489283), (4, 0.0032362086549814675), (1183, 0.0032356868322869167), (3140, 0.0032332343033155513), (3366, 0.003233159793087592), (1085, 0.003232374719566125), (1058, 0.003230763417038196), (1220, 0.0032302771821534574), (1818, 0.0032252009959949516), (1596, 0.003223176166090857), (3071, 0.003222018639803982), (535, 0.003220353437789212), (2117, 0.0032173139324871147), (2202, 0.003217028629275922), (33, 0.0032149645321752364), (502, 0.003214853175399415), (3298, 0.0032141758441259043), (2827, 0.0032136797745627088), (3495, 0.003211687777919676), (1906, 0.003208875657682208), (531, 0.0032080230856645024), (404, 0.0032076948520076676), (2476, 0.0032057901302665623), (3471, 0.0032026544721121797), (539, 0.003196847529108449), (3000, 0.0031955550502920462), (1568, 0.0031932773684248458), (2677, 0.0031858925423518237), (1188, 0.0031831034038583964), (1325, 0.0031812284762230197), (1849, 0.0031771022696515305), (1248, 0.0031756574526862723), (3573, 0.003174195924846195), (2300, 0.0031731675975008866), (1942, 0.0031693113373771177), (471, 0.003168513307213044), (1578, 0.0031666677775017316), (2968, 0.003163547321697858), (2113, 0.0031625049360108374), (1021, 0.0031611820420538142), (1600, 0.003160516701162367), (2833, 0.003158914798827189), (3428, 0.0031585633673090227), (3310, 0.003156752889701659), (3607, 0.003156396082711049), (1772, 0.0031556601168407934), (1287, 0.0031549851549452254), (3220, 0.003153414578626452), (1162, 0.003152170462638785), (2527, 0.0031515292828521316), (1075, 0.0031506179782128233), (1544, 0.0031493919868855525), (1073, 0.0031493048239913685), (1228, 0.0031473489184093697), (3198, 0.0031464925546650143), (693, 0.003146239816738494), (602, 0.0031385238461296714), (1899, 0.0031288261541824627), (1720, 0.0031284210078400877), (3025, 0.003125393614113435), (3244, 0.0031249307929682607), (1326, 0.0031193533842189106), (2989, 0.0031167504584609165), (3004, 0.0031163351521696792), (1912, 0.003113817204574488), (3704, 0.0031102125857768764), (3547, 0.003106451600910636), (587, 0.003105378428696902), (2271, 0.003102893526909253), (2826, 0.003100632514564787), (2755, 0.003099278601666074), (3683, 0.003099056112253665), (3297, 0.0030981198131866177), (579, 0.003095217098054047), (617, 0.0030950412859388115), (3722, 0.003093060313393558), (2389, 0.003091564342699326), (1036, 0.003090875100740261), (2330, 0.0030854815293748705), (2862, 0.00308356285110866), (2107, 0.003083247722880589), (2240, 0.0030779717177385484), (1008, 0.003068843199529781), (349, 0.00306574950951426), (2441, 0.0030623570577067655), (1214, 0.0030618989137719556), (1668, 0.0030538765543585127), (3172, 0.0030523467465416215), (2224, 0.0030487917150827186), (3254, 0.00304857726045245), (1429, 0.0030456945898982473), (231, 0.0030449711054024863), (378, 0.0030395106789257416), (1895, 0.003037908239458231), (2783, 0.0030354501034978347), (3256, 0.0030329881254072353), (2880, 0.003031187973449514), (910, 0.0030310114571829006), (2651, 0.0030303483465721113), (2969, 0.0030274738344971655), (1496, 0.003027117567188002), (3423, 0.003025366169242334), (2986, 0.003024484498432321), (772, 0.0030233262295419), (3684, 0.0030199212690921323), (1016, 0.003018724170018667), (3448, 0.0030179938761772064), (2781, 0.0030169852613401147), (95, 0.0030153354767330992), (736, 0.0030119252044825467), (1730, 0.0030104407748850295), (3730, 0.0030052870063908277), (328, 0.003004270623621319), (894, 0.003000043612113193), (3701, 0.0029988907551456367), (483, 0.002996432656147738), (2472, 0.002995622702608262), (1670, 0.0029928316559708888), (2560, 0.0029898601748230926), (25, 0.0029882826406217905), (374, 0.0029761709059046844), (3496, 0.0029746630657039867), (1365, 0.0029673206690449135), (2342, 0.002960200899680444), (1855, 0.002959129098917505), (2996, 0.0029587895891730787), (3633, 0.0029587632531014054), (1936, 0.002958716420038756), (3700, 0.00295858569098286), (2869, 0.0029548203996691493), (1362, 0.0029490537182861594), (3666, 0.002948771125204707), (2879, 0.002941574478945971), (1028, 0.0029385495700025117), (3299, 0.002938033488526356), (3537, 0.0029370944204188225), (3482, 0.0029285041862218706), (2228, 0.002926561526036925), (2368, 0.0029243047352749195), (3017, 0.0029236470250852), (190, 0.002922685594435656), (2265, 0.0029194032191247055), (1704, 0.00291838615924766), (1952, 0.0029173342880264874), (2304, 0.0029167999585476795), (122, 0.0029167014556941455), (3226, 0.0029130567310562856), (2316, 0.002911928033974782), (948, 0.00291160494826516), (30, 0.002910552206111026), (2824, 0.002908331061594371), (221, 0.002904684087702919), (3047, 0.0029044883504253187), (2403, 0.0029016249139511728), (146, 0.002897225675265209), (2021, 0.002896861221909058), (258, 0.0028925023739822214), (2840, 0.002889829493514533), (2132, 0.00288705979590302), (2193, 0.002886167730549344), (1013, 0.0028829055523727437), (199, 0.0028803887354809346), (2690, 0.0028785850368191626), (550, 0.0028754209340411604), (1081, 0.002866173655249291), (1515, 0.0028603988021022922), (377, 0.002860312628616104), (1619, 0.0028539629051101763), (130, 0.002847190424989343), (2592, 0.0028465638294292404), (517, 0.0028454463288810922), (3041, 0.0028447963873551607), (1732, 0.0028435006154702504), (1537, 0.002839477299974204), (576, 0.002832013721190005), (556, 0.0028319726241380215), (3493, 0.0028302144697686317), (2261, 0.0028302016798479076), (841, 0.002825583871430542), (1346, 0.002824991928745016), (3596, 0.002822457859346791), (1671, 0.002821681027730513), (2103, 0.0028207084584158126), (430, 0.002820142279999524), (2774, 0.0028199457985614686), (3054, 0.0028172348693616296), (2859, 0.0028154741492983698), (1541, 0.002813825576346838), (338, 0.002812491973507965), (797, 0.0028062502002677288), (3353, 0.0028039180246238046), (1713, 0.0028027251253576915), (3276, 0.0027983978642765212), (536, 0.00279508845065197), (3204, 0.0027920365399553408), (149, 0.002777382196876601), (266, 0.002774057950267165), (791, 0.0027681775537477873), (1997, 0.002766349646236018), (3141, 0.002764285314866093), (1055, 0.002763175072649747), (922, 0.0027617282563696726), (2919, 0.0027602543111286816), (1500, 0.0027600419603562914), (3207, 0.0027570296570527484), (2015, 0.0027494590056941167), (250, 0.0027400545422878674), (1184, 0.0027333702011615208), (187, 0.002731045924701437), (89, 0.0027289780456633533), (3480, 0.002720376578576812), (3395, 0.0027198598650005246), (2369, 0.002718257655053521), (3693, 0.002716482156431146), (448, 0.0027152078911760026), (2213, 0.002680070290255394), (597, 0.002676270691889812), (3398, 0.002675286292423743), (3176, 0.0026706039292791277), (343, 0.002669464307636856), (267, 0.0026674030076229037), (2932, 0.002660698542866507), (795, 0.002657928750466932), (2125, 0.002652967851259563), (1334, 0.002649386537718802), (406, 0.0026414273981874895), (178, 0.002638706258145449), (3307, 0.0026317875905516996), (578, 0.0026227976318021467), (2381, 0.0026162947848714707), (1249, 0.002611816634556389), (569, 0.0026099214009219565), (249, 0.0026012104442477593), (1658, 0.002600947808002121), (1099, 0.002600318295631084), (1502, 0.0025857104960329558), (2696, 0.002573487557218253), (15, 0.0025665902923918383), (2747, 0.002566032532500591), (1106, 0.002548760890411996), (2267, 0.00254524835078154), (2734, 0.0025132237499771995), (141, 0.002512316222482739), (3672, 0.002504662674354688), (753, 0.0025045644994823616), (1004, 0.0025035919073190826), (2914, 0.002503425108376597), (866, 0.002495083355254646), (1197, 0.002494656806005828), (2332, 0.0024939986259314407), (2858, 0.002448175093259605), (2378, 0.002389860285190681), (528, 0.0023759569244426377), (426, 0.002348810337043218), (2714, 0.0023384295749216116), (238, 0.002319809693434677), (2984, 0.002293831783674407), (766, 0.0021690872872044283), (2959, 0.002017479400641795), (2226, 0.0018662875307739913), (1, 0.0), (26, 0.0), (29, 0.0), (35, 0.0), (44, 0.0), (45, 0.0), (67, 0.0), (74, 0.0), (78, 0.0), (87, 0.0), (92, 0.0), (96, 0.0), (97, 0.0), (114, 0.0), (124, 0.0), (137, 0.0), (154, 0.0), (169, 0.0), (176, 0.0), (194, 0.0), (218, 0.0), (226, 0.0), (229, 0.0), (240, 0.0), (247, 0.0), (271, 0.0), (284, 0.0), (285, 0.0), (296, 0.0), (300, 0.0), (354, 0.0), (355, 0.0), (358, 0.0), (361, 0.0), (369, 0.0), (375, 0.0), (398, 0.0), (409, 0.0), (411, 0.0), (475, 0.0), (476, 0.0), (478, 0.0), (498, 0.0), (509, 0.0), (511, 0.0), (518, 0.0), (523, 0.0), (525, 0.0), (529, 0.0), (530, 0.0), (546, 0.0), (547, 0.0), (553, 0.0), (554, 0.0), (571, 0.0), (577, 0.0), (584, 0.0), (585, 0.0), (600, 0.0), (613, 0.0), (623, 0.0), (631, 0.0), (635, 0.0), (642, 0.0), (660, 0.0), (664, 0.0), (668, 0.0), (689, 0.0), (761, 0.0), (790, 0.0), (810, 0.0), (840, 0.0), (854, 0.0), (876, 0.0), (882, 0.0), (898, 0.0), (913, 0.0), (921, 0.0), (934, 0.0), (960, 0.0), (969, 0.0), (975, 0.0), (988, 0.0), (998, 0.0), (1032, 0.0), (1040, 0.0), (1048, 0.0), (1066, 0.0), (1080, 0.0), (1086, 0.0), (1127, 0.0), (1149, 0.0), (1154, 0.0), (1158, 0.0), (1163, 0.0), (1166, 0.0), (1170, 0.0), (1174, 0.0), (1175, 0.0), (1177, 0.0), (1181, 0.0), (1189, 0.0), (1209, 0.0), (1222, 0.0), (1236, 0.0), (1251, 0.0), (1283, 0.0), (1290, 0.0), (1297, 0.0), (1309, 0.0), (1336, 0.0), (1339, 0.0), (1342, 0.0), (1385, 0.0), (1393, 0.0), (1409, 0.0), (1411, 0.0), (1420, 0.0), (1435, 0.0), (1440, 0.0), (1450, 0.0), (1453, 0.0), (1465, 0.0), (1467, 0.0), (1475, 0.0), (1478, 0.0), (1479, 0.0), (1482, 0.0), (1497, 0.0), (1498, 0.0), (1507, 0.0), (1509, 0.0), (1525, 0.0), (1564, 0.0), (1570, 0.0), (1581, 0.0), (1612, 0.0), (1634, 0.0), (1648, 0.0), (1652, 0.0), (1657, 0.0), (1690, 0.0), (1746, 0.0), (1768, 0.0), (1773, 0.0), (1777, 0.0), (1790, 0.0), (1798, 0.0), (1802, 0.0), (1806, 0.0), (1810, 0.0), (1811, 0.0), (1828, 0.0), (1832, 0.0), (1859, 0.0), (1861, 0.0), (1869, 0.0), (1883, 0.0), (1892, 0.0), (1907, 0.0), (1908, 0.0), (1935, 0.0), (1954, 0.0), (1966, 0.0), (1976, 0.0), (1982, 0.0), (1983, 0.0), (1991, 0.0), (1993, 0.0), (2009, 0.0), (2022, 0.0), (2030, 0.0), (2045, 0.0), (2052, 0.0), (2094, 0.0), (2098, 0.0), (2116, 0.0), (2138, 0.0), (2142, 0.0), (2154, 0.0), (2163, 0.0), (2169, 0.0), (2201, 0.0), (2214, 0.0), (2234, 0.0), (2247, 0.0), (2248, 0.0), (2250, 0.0), (2264, 0.0), (2297, 0.0), (2320, 0.0), (2322, 0.0), (2335, 0.0), (2338, 0.0), (2343, 0.0), (2367, 0.0), (2374, 0.0), (2382, 0.0), (2386, 0.0), (2418, 0.0), (2423, 0.0), (2426, 0.0), (2427, 0.0), (2439, 0.0), (2446, 0.0), (2449, 0.0), (2450, 0.0), (2454, 0.0), (2455, 0.0), (2493, 0.0), (2495, 0.0), (2501, 0.0), (2503, 0.0), (2520, 0.0), (2529, 0.0), (2531, 0.0), (2536, 0.0), (2547, 0.0), (2549, 0.0), (2553, 0.0), (2573, 0.0), (2584, 0.0), (2587, 0.0), (2591, 0.0), (2595, 0.0), (2597, 0.0), (2600, 0.0), (2602, 0.0), (2604, 0.0), (2605, 0.0), (2610, 0.0), (2627, 0.0), (2636, 0.0), (2647, 0.0), (2667, 0.0), (2695, 0.0), (2709, 0.0), (2711, 0.0), (2729, 0.0), (2749, 0.0), (2750, 0.0), (2753, 0.0), (2772, 0.0), (2794, 0.0), (2800, 0.0), (2803, 0.0), (2821, 0.0), (2823, 0.0), (2829, 0.0), (2839, 0.0), (2853, 0.0), (2854, 0.0), (2860, 0.0), (2863, 0.0), (2864, 0.0), (2868, 0.0), (2876, 0.0), (2884, 0.0), (2896, 0.0), (2897, 0.0), (2901, 0.0), (2904, 0.0), (2905, 0.0), (2918, 0.0), (2940, 0.0), (2953, 0.0), (2956, 0.0), (2957, 0.0), (2960, 0.0), (2966, 0.0), (2973, 0.0), (2995, 0.0), (2998, 0.0), (3023, 0.0), (3026, 0.0), (3031, 0.0), (3039, 0.0), (3070, 0.0), (3081, 0.0), (3082, 0.0), (3084, 0.0), (3086, 0.0), (3092, 0.0), (3093, 0.0), (3104, 0.0), (3105, 0.0), (3117, 0.0), (3124, 0.0), (3126, 0.0), (3127, 0.0), (3129, 0.0), (3131, 0.0), (3138, 0.0), (3149, 0.0), (3150, 0.0), (3189, 0.0), (3194, 0.0), (3200, 0.0), (3201, 0.0), (3209, 0.0), (3217, 0.0), (3221, 0.0), (3224, 0.0), (3225, 0.0), (3227, 0.0), (3229, 0.0), (3233, 0.0), (3234, 0.0), (3237, 0.0), (3239, 0.0), (3263, 0.0), (3268, 0.0), (3269, 0.0), (3270, 0.0), (3285, 0.0), (3304, 0.0), (3308, 0.0), (3314, 0.0), (3346, 0.0), (3347, 0.0), (3352, 0.0), (3358, 0.0), (3367, 0.0), (3372, 0.0), (3375, 0.0), (3379, 0.0), (3390, 0.0), (3391, 0.0), (3396, 0.0), (3401, 0.0), (3410, 0.0), (3417, 0.0), (3419, 0.0), (3425, 0.0), (3432, 0.0), (3442, 0.0), (3446, 0.0), (3453, 0.0), (3469, 0.0), (3488, 0.0), (3494, 0.0), (3499, 0.0), (3508, 0.0), (3510, 0.0), (3511, 0.0), (3516, 0.0), (3517, 0.0), (3521, 0.0), (3535, 0.0), (3563, 0.0), (3570, 0.0), (3579, 0.0), (3586, 0.0), (3589, 0.0), (3601, 0.0), (3604, 0.0), (3610, 0.0), (3612, 0.0), (3614, 0.0), (3617, 0.0), (3619, 0.0), (3631, 0.0), (3641, 0.0), (3645, 0.0), (3647, 0.0), (3667, 0.0), (3670, 0.0), (3676, 0.0), (3690, 0.0), (3695, 0.0), (3697, 0.0), (3709, 0.0), (3719, 0.0), (3731, 0.0), (3734, 0.0)]\n"
          ]
        }
      ]
    },
    {
      "cell_type": "code",
      "source": [
        "print('Top 30 Movies suggested for you : \\n')\n",
        "i = 1\n",
        "for movie in sorted_similar_Movies:\n",
        "  index = movie[0]\n",
        "  title_from_index = df[df.index==index]['Movie_Title'].values[0]\n",
        "  if (i<31):\n",
        "    print(i, '.',title_from_index)\n",
        "    i+=1"
      ],
      "metadata": {
        "colab": {
          "base_uri": "https://localhost:8080/"
        },
        "id": "6H7XjIATHzYU",
        "outputId": "f3c07b7e-1823-48fe-94b1-bc0e0d7a328d"
      },
      "execution_count": null,
      "outputs": [
        {
          "output_type": "stream",
          "name": "stdout",
          "text": [
            "Top 30 Movies suggested for you : \n",
            "\n",
            "1 . Niagara\n",
            "2 . True Lies\n",
            "3 . The Grudge 2\n",
            "4 . Straightheads\n",
            "5 . Funny People\n",
            "6 . Fair Game\n",
            "7 . The Innkeepers\n",
            "8 . Rachel Getting Married\n",
            "9 . Date Movie\n",
            "10 . Krull\n",
            "11 . Under the Tuscan Sun\n",
            "12 . Nowhere in Africa\n",
            "13 . The Ice Pirates\n",
            "14 . The Imaginarium of Doctor Parnassus\n",
            "15 . Mystery, Alaska\n",
            "16 . Can't Stop the Music\n",
            "17 . The Station Agent\n",
            "18 . Death Race\n",
            "19 . Priest\n",
            "20 . Godzilla 2000\n",
            "21 . East Is East\n",
            "22 . My Big Fat Independent Movie\n",
            "23 . Battle for the Planet of the Apes\n",
            "24 . Prison\n",
            "25 . Time Changer\n",
            "26 . Doctor Dolittle\n",
            "27 . The Help\n",
            "28 . Teenage Mutant Ninja Turtles II: The Secret of the Ooze\n",
            "29 . The Rugrats Movie\n",
            "30 . The Perez Family\n"
          ]
        }
      ]
    },
    {
      "cell_type": "code",
      "source": [
        "# @title Top 10 Movie Recommendation System\n",
        "Movie_Name=input('Enter your favourite movie name : ')\n",
        "list_of_all_titles = df['Movie_Title'].tolist()\n",
        "Find_Close_Match = difflib.get_close_matches(Movie_Name,list_of_all_titles)\n",
        "Close_Match=Find_Close_Match[0]\n",
        "Index_of_Movie = df[df.Movie_Title == Close_Match]['Movie_ID'].values[0]\n",
        "Recommendation_Score = list(enumerate(similarity_score[Index_of_Movie]))\n",
        "sorted_similar_movies = sorted(Recommendation_Score,key = lambda x:x[1], reverse = True)\n",
        "print('Top 10 Movies suggested for you : \\n')\n",
        "i = 1\n",
        "for movie in sorted_similar_movies:\n",
        "  index = movie[0]\n",
        "  title_from_index = df[df.Movie_ID == index]['Movie_Title'].values\n",
        "  if (i<11):\n",
        "    print(i, '.',title_from_index)\n",
        "    i+=1"
      ],
      "metadata": {
        "colab": {
          "base_uri": "https://localhost:8080/"
        },
        "id": "R500z9BwIneh",
        "outputId": "b57dfcb5-136b-45f8-e334-55cdd2385b6a"
      },
      "execution_count": null,
      "outputs": [
        {
          "output_type": "stream",
          "name": "stdout",
          "text": [
            "Enter your favourite movie name : avatar\n",
            "Top 10 Movies suggested for you : \n",
            "\n",
            "1 . ['Avatar']\n",
            "2 . ['The R.M.']\n",
            "3 . ['The Grudge']\n",
            "4 . ['Shattered Glass']\n",
            "5 . ['Novocaine']\n",
            "6 . ['The Last Exorcism']\n",
            "7 . ['Fright Night']\n",
            "8 . ['Flash of Genius']\n",
            "9 . ['A Nightmare on Elm Street 3: Dream Warriors']\n",
            "10 . ['Dragonslayer']\n"
          ]
        }
      ]
    }
  ]
}